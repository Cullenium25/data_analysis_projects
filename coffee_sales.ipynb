{
 "cells": [
  {
   "cell_type": "markdown",
   "id": "013363c7",
   "metadata": {},
   "source": [
    "# Coffee Sales"
   ]
  },
  {
   "cell_type": "markdown",
   "id": "a6c2ef16",
   "metadata": {},
   "source": [
    "This notebook provides a sales analysis of a local coffeeshop"
   ]
  },
  {
   "cell_type": "code",
   "execution_count": 2,
   "id": "6bc04251",
   "metadata": {},
   "outputs": [],
   "source": [
    "# # Install dependencies as needed:\n",
    "# !pip install kagglehub\n",
    "# !pip install openpyxl"
   ]
  },
  {
   "cell_type": "code",
   "execution_count": 3,
   "id": "66403abb",
   "metadata": {},
   "outputs": [
    {
     "name": "stderr",
     "output_type": "stream",
     "text": [
      "/home/cullen-fedora/Documents/Python-Projects/.venv/lib/python3.12/site-packages/tqdm/auto.py:21: TqdmWarning: IProgress not found. Please update jupyter and ipywidgets. See https://ipywidgets.readthedocs.io/en/stable/user_install.html\n",
      "  from .autonotebook import tqdm as notebook_tqdm\n"
     ]
    }
   ],
   "source": [
    "import kagglehub\n",
    "import pandas as pd\n",
    "import seaborn as sns\n",
    "import matplotlib.pyplot as plt\n"
   ]
  },
  {
   "cell_type": "code",
   "execution_count": 4,
   "id": "79f7113e",
   "metadata": {},
   "outputs": [],
   "source": [
    "plt.style.use('seaborn-v0_8')"
   ]
  },
  {
   "cell_type": "code",
   "execution_count": 5,
   "id": "d002cee1",
   "metadata": {},
   "outputs": [
    {
     "name": "stdout",
     "output_type": "stream",
     "text": [
      "Path to dataset files: /home/cullen-fedora/.cache/kagglehub/datasets/reignrichard/coffee-store-sales/versions/2\n"
     ]
    },
    {
     "data": {
      "application/vnd.microsoft.datawrangler.viewer.v0+json": {
       "columns": [
        {
         "name": "index",
         "rawType": "int64",
         "type": "integer"
        },
        {
         "name": "date",
         "rawType": "datetime64[ns]",
         "type": "datetime"
        },
        {
         "name": "datetime",
         "rawType": "datetime64[ns]",
         "type": "datetime"
        },
        {
         "name": "hour_of_day",
         "rawType": "int64",
         "type": "integer"
        },
        {
         "name": "cash_type",
         "rawType": "object",
         "type": "string"
        },
        {
         "name": "card",
         "rawType": "object",
         "type": "string"
        },
        {
         "name": "money",
         "rawType": "float64",
         "type": "float"
        },
        {
         "name": "coffee_name",
         "rawType": "object",
         "type": "string"
        },
        {
         "name": "Time_of_Day",
         "rawType": "object",
         "type": "string"
        },
        {
         "name": "Weekday",
         "rawType": "object",
         "type": "string"
        },
        {
         "name": "Month_name",
         "rawType": "object",
         "type": "string"
        },
        {
         "name": "Weekdaysort",
         "rawType": "int64",
         "type": "integer"
        },
        {
         "name": "Monthsort",
         "rawType": "int64",
         "type": "integer"
        }
       ],
       "ref": "ce7c9cef-23e4-439a-a3ea-c6c833f68fc8",
       "rows": [
        [
         "0",
         "2024-03-01 00:00:00",
         "2024-03-01 10:15:50.520000",
         "10",
         "card",
         "ANON-0000-0000-0001",
         "38.7",
         "Latte",
         "Morning",
         "Fri",
         "Mar",
         "5",
         "3"
        ],
        [
         "1",
         "2024-03-01 00:00:00",
         "2024-03-01 12:19:22.539000",
         "12",
         "card",
         "ANON-0000-0000-0002",
         "38.7",
         "Hot Chocolate",
         "Afternoon",
         "Fri",
         "Mar",
         "5",
         "3"
        ],
        [
         "2",
         "2024-03-01 00:00:00",
         "2024-03-01 12:20:18.089000",
         "12",
         "card",
         "ANON-0000-0000-0002",
         "38.7",
         "Hot Chocolate",
         "Afternoon",
         "Fri",
         "Mar",
         "5",
         "3"
        ],
        [
         "3",
         "2024-03-01 00:00:00",
         "2024-03-01 13:46:33.006000",
         "13",
         "card",
         "ANON-0000-0000-0003",
         "28.9",
         "Americano",
         "Afternoon",
         "Fri",
         "Mar",
         "5",
         "3"
        ],
        [
         "4",
         "2024-03-01 00:00:00",
         "2024-03-01 13:48:14.626000",
         "13",
         "card",
         "ANON-0000-0000-0004",
         "38.7",
         "Latte",
         "Afternoon",
         "Fri",
         "Mar",
         "5",
         "3"
        ]
       ],
       "shape": {
        "columns": 12,
        "rows": 5
       }
      },
      "text/html": [
       "<div>\n",
       "<style scoped>\n",
       "    .dataframe tbody tr th:only-of-type {\n",
       "        vertical-align: middle;\n",
       "    }\n",
       "\n",
       "    .dataframe tbody tr th {\n",
       "        vertical-align: top;\n",
       "    }\n",
       "\n",
       "    .dataframe thead th {\n",
       "        text-align: right;\n",
       "    }\n",
       "</style>\n",
       "<table border=\"1\" class=\"dataframe\">\n",
       "  <thead>\n",
       "    <tr style=\"text-align: right;\">\n",
       "      <th></th>\n",
       "      <th>date</th>\n",
       "      <th>datetime</th>\n",
       "      <th>hour_of_day</th>\n",
       "      <th>cash_type</th>\n",
       "      <th>card</th>\n",
       "      <th>money</th>\n",
       "      <th>coffee_name</th>\n",
       "      <th>Time_of_Day</th>\n",
       "      <th>Weekday</th>\n",
       "      <th>Month_name</th>\n",
       "      <th>Weekdaysort</th>\n",
       "      <th>Monthsort</th>\n",
       "    </tr>\n",
       "  </thead>\n",
       "  <tbody>\n",
       "    <tr>\n",
       "      <th>0</th>\n",
       "      <td>2024-03-01</td>\n",
       "      <td>2024-03-01 10:15:50.520</td>\n",
       "      <td>10</td>\n",
       "      <td>card</td>\n",
       "      <td>ANON-0000-0000-0001</td>\n",
       "      <td>38.7</td>\n",
       "      <td>Latte</td>\n",
       "      <td>Morning</td>\n",
       "      <td>Fri</td>\n",
       "      <td>Mar</td>\n",
       "      <td>5</td>\n",
       "      <td>3</td>\n",
       "    </tr>\n",
       "    <tr>\n",
       "      <th>1</th>\n",
       "      <td>2024-03-01</td>\n",
       "      <td>2024-03-01 12:19:22.539</td>\n",
       "      <td>12</td>\n",
       "      <td>card</td>\n",
       "      <td>ANON-0000-0000-0002</td>\n",
       "      <td>38.7</td>\n",
       "      <td>Hot Chocolate</td>\n",
       "      <td>Afternoon</td>\n",
       "      <td>Fri</td>\n",
       "      <td>Mar</td>\n",
       "      <td>5</td>\n",
       "      <td>3</td>\n",
       "    </tr>\n",
       "    <tr>\n",
       "      <th>2</th>\n",
       "      <td>2024-03-01</td>\n",
       "      <td>2024-03-01 12:20:18.089</td>\n",
       "      <td>12</td>\n",
       "      <td>card</td>\n",
       "      <td>ANON-0000-0000-0002</td>\n",
       "      <td>38.7</td>\n",
       "      <td>Hot Chocolate</td>\n",
       "      <td>Afternoon</td>\n",
       "      <td>Fri</td>\n",
       "      <td>Mar</td>\n",
       "      <td>5</td>\n",
       "      <td>3</td>\n",
       "    </tr>\n",
       "    <tr>\n",
       "      <th>3</th>\n",
       "      <td>2024-03-01</td>\n",
       "      <td>2024-03-01 13:46:33.006</td>\n",
       "      <td>13</td>\n",
       "      <td>card</td>\n",
       "      <td>ANON-0000-0000-0003</td>\n",
       "      <td>28.9</td>\n",
       "      <td>Americano</td>\n",
       "      <td>Afternoon</td>\n",
       "      <td>Fri</td>\n",
       "      <td>Mar</td>\n",
       "      <td>5</td>\n",
       "      <td>3</td>\n",
       "    </tr>\n",
       "    <tr>\n",
       "      <th>4</th>\n",
       "      <td>2024-03-01</td>\n",
       "      <td>2024-03-01 13:48:14.626</td>\n",
       "      <td>13</td>\n",
       "      <td>card</td>\n",
       "      <td>ANON-0000-0000-0004</td>\n",
       "      <td>38.7</td>\n",
       "      <td>Latte</td>\n",
       "      <td>Afternoon</td>\n",
       "      <td>Fri</td>\n",
       "      <td>Mar</td>\n",
       "      <td>5</td>\n",
       "      <td>3</td>\n",
       "    </tr>\n",
       "  </tbody>\n",
       "</table>\n",
       "</div>"
      ],
      "text/plain": [
       "        date                datetime  hour_of_day cash_type  \\\n",
       "0 2024-03-01 2024-03-01 10:15:50.520           10      card   \n",
       "1 2024-03-01 2024-03-01 12:19:22.539           12      card   \n",
       "2 2024-03-01 2024-03-01 12:20:18.089           12      card   \n",
       "3 2024-03-01 2024-03-01 13:46:33.006           13      card   \n",
       "4 2024-03-01 2024-03-01 13:48:14.626           13      card   \n",
       "\n",
       "                  card  money    coffee_name Time_of_Day Weekday Month_name  \\\n",
       "0  ANON-0000-0000-0001   38.7          Latte     Morning     Fri        Mar   \n",
       "1  ANON-0000-0000-0002   38.7  Hot Chocolate   Afternoon     Fri        Mar   \n",
       "2  ANON-0000-0000-0002   38.7  Hot Chocolate   Afternoon     Fri        Mar   \n",
       "3  ANON-0000-0000-0003   28.9      Americano   Afternoon     Fri        Mar   \n",
       "4  ANON-0000-0000-0004   38.7          Latte   Afternoon     Fri        Mar   \n",
       "\n",
       "   Weekdaysort  Monthsort  \n",
       "0            5          3  \n",
       "1            5          3  \n",
       "2            5          3  \n",
       "3            5          3  \n",
       "4            5          3  "
      ]
     },
     "execution_count": 5,
     "metadata": {},
     "output_type": "execute_result"
    }
   ],
   "source": [
    "# Download the dataset from Kaggle\n",
    "path = kagglehub.dataset_download(\"reignrichard/coffee-store-sales\")\n",
    "print(\"Path to dataset files:\", path)\n",
    "\n",
    "# Load the dataset\n",
    "df = pd.read_excel(path + \"/Coffe_sales.xlsx\")\n",
    "df.head()"
   ]
  },
  {
   "cell_type": "code",
   "execution_count": 6,
   "id": "f69a1829",
   "metadata": {},
   "outputs": [
    {
     "name": "stdout",
     "output_type": "stream",
     "text": [
      "<class 'pandas.core.frame.DataFrame'>\n",
      "RangeIndex: 3636 entries, 0 to 3635\n",
      "Data columns (total 12 columns):\n",
      " #   Column       Non-Null Count  Dtype         \n",
      "---  ------       --------------  -----         \n",
      " 0   date         3636 non-null   datetime64[ns]\n",
      " 1   datetime     3636 non-null   datetime64[ns]\n",
      " 2   hour_of_day  3636 non-null   int64         \n",
      " 3   cash_type    3636 non-null   object        \n",
      " 4   card         3547 non-null   object        \n",
      " 5   money        3636 non-null   float64       \n",
      " 6   coffee_name  3636 non-null   object        \n",
      " 7   Time_of_Day  3636 non-null   object        \n",
      " 8   Weekday      3636 non-null   object        \n",
      " 9   Month_name   3636 non-null   object        \n",
      " 10  Weekdaysort  3636 non-null   int64         \n",
      " 11  Monthsort    3636 non-null   int64         \n",
      "dtypes: datetime64[ns](2), float64(1), int64(3), object(6)\n",
      "memory usage: 341.0+ KB\n"
     ]
    }
   ],
   "source": [
    "df.info()"
   ]
  },
  {
   "cell_type": "code",
   "execution_count": 7,
   "id": "6a031f5f",
   "metadata": {},
   "outputs": [
    {
     "name": "stdout",
     "output_type": "stream",
     "text": [
      "Missing values in each column:\n",
      "date            0\n",
      "datetime        0\n",
      "hour_of_day     0\n",
      "cash_type       0\n",
      "card           89\n",
      "money           0\n",
      "coffee_name     0\n",
      "Time_of_Day     0\n",
      "Weekday         0\n",
      "Month_name      0\n",
      "Weekdaysort     0\n",
      "Monthsort       0\n",
      "dtype: int64\n"
     ]
    }
   ],
   "source": [
    "missing_values = df.isnull().sum()\n",
    "print(\"Missing values in each column:\")\n",
    "print(missing_values)"
   ]
  },
  {
   "cell_type": "code",
   "execution_count": 8,
   "id": "63a3f9cd",
   "metadata": {},
   "outputs": [
    {
     "name": "stdout",
     "output_type": "stream",
     "text": [
      "Number of duplicate rows: 0\n"
     ]
    }
   ],
   "source": [
    "duplicates = df.duplicated().sum()\n",
    "print(f\"Number of duplicate rows: {duplicates}\")"
   ]
  },
  {
   "cell_type": "code",
   "execution_count": 9,
   "id": "0e7b6a78",
   "metadata": {},
   "outputs": [
    {
     "data": {
      "image/png": "[encoded data removed]",
      "text/plain": [
       "<Figure size 800x550 with 1 Axes>"
      ]
     },
     "metadata": {},
     "output_type": "display_data"
    }
   ],
   "source": [
    "sns.histplot(data=df, x='money', bins='auto', kde=True)\n",
    "plt.title('Distribution of Money Spent on Coffee')\n",
    "plt.xlabel('Money Spent')\n",
    "plt.ylabel('Frequency')\n",
    "plt.show()"
   ]
  },
  {
   "cell_type": "code",
   "execution_count": 10,
   "id": "31883a17",
   "metadata": {},
   "outputs": [
    {
     "data": {
      "application/vnd.microsoft.datawrangler.viewer.v0+json": {
       "columns": [
        {
         "name": "index",
         "rawType": "object",
         "type": "string"
        },
        {
         "name": "date",
         "rawType": "object",
         "type": "unknown"
        },
        {
         "name": "datetime",
         "rawType": "object",
         "type": "unknown"
        },
        {
         "name": "hour_of_day",
         "rawType": "float64",
         "type": "float"
        },
        {
         "name": "money",
         "rawType": "float64",
         "type": "float"
        },
        {
         "name": "Weekdaysort",
         "rawType": "float64",
         "type": "float"
        },
        {
         "name": "Monthsort",
         "rawType": "float64",
         "type": "float"
        }
       ],
       "ref": "48821937-c2f8-4917-b100-165139785eb3",
       "rows": [
        [
         "count",
         "3636",
         "3636",
         "3636.0",
         "3636.0",
         "3636.0",
         "3636.0"
        ],
        [
         "mean",
         "2024-09-30 11:56:02.376237568",
         "2024-10-01 02:35:30.535053568",
         "14.166941694169417",
         "31.74685918591859",
         "3.847909790979098",
         "6.3946644664466445"
        ],
        [
         "min",
         "2024-03-01 00:00:00",
         "2024-03-01 10:15:50.520000",
         "6.0",
         "18.12",
         "1.0",
         "1.0"
        ],
        [
         "25%",
         "2024-07-03 00:00:00",
         "2024-07-03 16:54:06.084750080",
         "10.0",
         "27.92",
         "2.0",
         "3.0"
        ],
        [
         "50%",
         "2024-10-06 12:00:00",
         "2024-10-07 02:55:12.649500160",
         "14.0",
         "32.82",
         "4.0",
         "6.0"
        ],
        [
         "75%",
         "2025-01-08 00:00:00",
         "2025-01-08 07:55:20.299750144",
         "18.0",
         "35.76",
         "6.0",
         "10.0"
        ],
        [
         "max",
         "2025-03-23 00:00:00",
         "2025-03-23 18:11:38.635000",
         "22.0",
         "40.0",
         "7.0",
         "12.0"
        ],
        [
         "std",
         null,
         null,
         "4.2277548384829675",
         "4.919925803555431",
         "1.9759833179307016",
         "3.4806858124621645"
        ]
       ],
       "shape": {
        "columns": 6,
        "rows": 8
       }
      },
      "text/html": [
       "<div>\n",
       "<style scoped>\n",
       "    .dataframe tbody tr th:only-of-type {\n",
       "        vertical-align: middle;\n",
       "    }\n",
       "\n",
       "    .dataframe tbody tr th {\n",
       "        vertical-align: top;\n",
       "    }\n",
       "\n",
       "    .dataframe thead th {\n",
       "        text-align: right;\n",
       "    }\n",
       "</style>\n",
       "<table border=\"1\" class=\"dataframe\">\n",
       "  <thead>\n",
       "    <tr style=\"text-align: right;\">\n",
       "      <th></th>\n",
       "      <th>date</th>\n",
       "      <th>datetime</th>\n",
       "      <th>hour_of_day</th>\n",
       "      <th>money</th>\n",
       "      <th>Weekdaysort</th>\n",
       "      <th>Monthsort</th>\n",
       "    </tr>\n",
       "  </thead>\n",
       "  <tbody>\n",
       "    <tr>\n",
       "      <th>count</th>\n",
       "      <td>3636</td>\n",
       "      <td>3636</td>\n",
       "      <td>3636.000000</td>\n",
       "      <td>3636.000000</td>\n",
       "      <td>3636.000000</td>\n",
       "      <td>3636.000000</td>\n",
       "    </tr>\n",
       "    <tr>\n",
       "      <th>mean</th>\n",
       "      <td>2024-09-30 11:56:02.376237568</td>\n",
       "      <td>2024-10-01 02:35:30.535053568</td>\n",
       "      <td>14.166942</td>\n",
       "      <td>31.746859</td>\n",
       "      <td>3.847910</td>\n",
       "      <td>6.394664</td>\n",
       "    </tr>\n",
       "    <tr>\n",
       "      <th>min</th>\n",
       "      <td>2024-03-01 00:00:00</td>\n",
       "      <td>2024-03-01 10:15:50.520000</td>\n",
       "      <td>6.000000</td>\n",
       "      <td>18.120000</td>\n",
       "      <td>1.000000</td>\n",
       "      <td>1.000000</td>\n",
       "    </tr>\n",
       "    <tr>\n",
       "      <th>25%</th>\n",
       "      <td>2024-07-03 00:00:00</td>\n",
       "      <td>2024-07-03 16:54:06.084750080</td>\n",
       "      <td>10.000000</td>\n",
       "      <td>27.920000</td>\n",
       "      <td>2.000000</td>\n",
       "      <td>3.000000</td>\n",
       "    </tr>\n",
       "    <tr>\n",
       "      <th>50%</th>\n",
       "      <td>2024-10-06 12:00:00</td>\n",
       "      <td>2024-10-07 02:55:12.649500160</td>\n",
       "      <td>14.000000</td>\n",
       "      <td>32.820000</td>\n",
       "      <td>4.000000</td>\n",
       "      <td>6.000000</td>\n",
       "    </tr>\n",
       "    <tr>\n",
       "      <th>75%</th>\n",
       "      <td>2025-01-08 00:00:00</td>\n",
       "      <td>2025-01-08 07:55:20.299750144</td>\n",
       "      <td>18.000000</td>\n",
       "      <td>35.760000</td>\n",
       "      <td>6.000000</td>\n",
       "      <td>10.000000</td>\n",
       "    </tr>\n",
       "    <tr>\n",
       "      <th>max</th>\n",
       "      <td>2025-03-23 00:00:00</td>\n",
       "      <td>2025-03-23 18:11:38.635000</td>\n",
       "      <td>22.000000</td>\n",
       "      <td>40.000000</td>\n",
       "      <td>7.000000</td>\n",
       "      <td>12.000000</td>\n",
       "    </tr>\n",
       "    <tr>\n",
       "      <th>std</th>\n",
       "      <td>NaN</td>\n",
       "      <td>NaN</td>\n",
       "      <td>4.227755</td>\n",
       "      <td>4.919926</td>\n",
       "      <td>1.975983</td>\n",
       "      <td>3.480686</td>\n",
       "    </tr>\n",
       "  </tbody>\n",
       "</table>\n",
       "</div>"
      ],
      "text/plain": [
       "                                date                       datetime  \\\n",
       "count                           3636                           3636   \n",
       "mean   2024-09-30 11:56:02.376237568  2024-10-01 02:35:30.535053568   \n",
       "min              2024-03-01 00:00:00     2024-03-01 10:15:50.520000   \n",
       "25%              2024-07-03 00:00:00  2024-07-03 16:54:06.084750080   \n",
       "50%              2024-10-06 12:00:00  2024-10-07 02:55:12.649500160   \n",
       "75%              2025-01-08 00:00:00  2025-01-08 07:55:20.299750144   \n",
       "max              2025-03-23 00:00:00     2025-03-23 18:11:38.635000   \n",
       "std                              NaN                            NaN   \n",
       "\n",
       "       hour_of_day        money  Weekdaysort    Monthsort  \n",
       "count  3636.000000  3636.000000  3636.000000  3636.000000  \n",
       "mean     14.166942    31.746859     3.847910     6.394664  \n",
       "min       6.000000    18.120000     1.000000     1.000000  \n",
       "25%      10.000000    27.920000     2.000000     3.000000  \n",
       "50%      14.000000    32.820000     4.000000     6.000000  \n",
       "75%      18.000000    35.760000     6.000000    10.000000  \n",
       "max      22.000000    40.000000     7.000000    12.000000  \n",
       "std       4.227755     4.919926     1.975983     3.480686  "
      ]
     },
     "execution_count": 10,
     "metadata": {},
     "output_type": "execute_result"
    }
   ],
   "source": [
    "df.describe()"
   ]
  },
  {
   "cell_type": "code",
   "execution_count": null,
   "id": "dbe1c389",
   "metadata": {},
   "outputs": [],
   "source": []
  }
 ],
 "metadata": {
  "kernelspec": {
   "display_name": ".venv",
   "language": "python",
   "name": "python3"
  },
  "language_info": {
   "codemirror_mode": {
    "name": "ipython",
    "version": 3
   },
   "file_extension": ".py",
   "mimetype": "text/x-python",
   "name": "python",
   "nbconvert_exporter": "python",
   "pygments_lexer": "ipython3",
   "version": "3.12.11"
  }
 },
 "nbformat": 4,
 "nbformat_minor": 5
}
