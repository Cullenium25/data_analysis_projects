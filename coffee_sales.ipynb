{
 "cells": [
  {
   "cell_type": "markdown",
   "id": "013363c7",
   "metadata": {},
   "source": [
    "# Coffee Sales"
   ]
  },
  {
   "cell_type": "markdown",
   "id": "a6c2ef16",
   "metadata": {},
   "source": [
    "This notebook provides a sales analysis of a local coffeeshop\n",
    "\n",
    "Author: Cullen Capili"
   ]
  },
  {
   "cell_type": "markdown",
   "id": "c0b23654",
   "metadata": {},
   "source": [
    "## Dataset Info"
   ]
  },
  {
   "cell_type": "markdown",
   "id": "eb09e4f0",
   "metadata": {},
   "source": [
    "This dataset captures daily sales transactions from a coffee shop in Cape Town over March 2024.\n",
    "It includes transaction timestamps, payment types (card/cash), coffee product names, and revenue per transaction.\n",
    "\n",
    "The dataset is designed to help explore customer habits and business performance — perfect for time series analysis, data visualization, or beginner-friendly data analytics projects.\n",
    "\n",
    "🧰 Columns Description\n",
    "Column: What it means\n",
    "date Transaction date (YYYY/MM/DD)\n",
    "datetime: Exact timestamp of the transaction\n",
    "cash_type: Payment method (card or cash)\n",
    "card: Anonymized customer ID (card-based loyalty)\n",
    "money: Amount spent per transaction (in South African Rand)\n",
    "coffee_name: Type of coffee purchased\n",
    "\n",
    "📊 Possible analyses\n",
    "Trend of transactions and sales by day of the week (Monday–Sunday)\n",
    "\n",
    "Revenue distribution by coffee type\n",
    "\n",
    "Payment method preference (card vs. cash)\n",
    "\n",
    "Average daily transactions and average daily sales\n",
    "\n",
    "Peak times of the day: morning, afternoon, evening\n",
    "\n",
    "🎨 Visualization preview\n",
    "The attached Power BI dashboard shows:\n",
    "\n",
    "Total sales, total transactions, and average transaction value\n",
    "\n",
    "Revenue by coffee type\n",
    "\n",
    "Double-axis trend line showing daily sales and transactions\n",
    "\n",
    "Sales split by payment type\n",
    "\n",
    "🌍 Why this dataset?\n",
    "Coffee data is relatable, seasonal, and perfect to practice:\n",
    "\n",
    "Time-based grouping (weekdays, months, times of day)\n",
    "\n",
    "KPI design and visualization\n",
    "\n",
    "Building dashboards with clear business insights"
   ]
  },
  {
   "cell_type": "markdown",
   "id": "99fe42dc",
   "metadata": {},
   "source": [
    "### Install Dependencies and Import Libraries"
   ]
  },
  {
   "cell_type": "code",
   "execution_count": 1,
   "id": "6bc04251",
   "metadata": {},
   "outputs": [],
   "source": [
    "# # Install dependencies as needed:\n",
    "# !pip install kagglehub\n",
    "# !pip install openpyxl"
   ]
  },
  {
   "cell_type": "code",
   "execution_count": 2,
   "id": "66403abb",
   "metadata": {},
   "outputs": [
    {
     "name": "stderr",
     "output_type": "stream",
     "text": [
      "/Users/cullen/Documents/Python-Projects/.venv/lib/python3.11/site-packages/tqdm/auto.py:21: TqdmWarning: IProgress not found. Please update jupyter and ipywidgets. See https://ipywidgets.readthedocs.io/en/stable/user_install.html\n",
      "  from .autonotebook import tqdm as notebook_tqdm\n"
     ]
    }
   ],
   "source": [
    "import kagglehub\n",
    "import pandas as pd\n",
    "import seaborn as sns\n",
    "import matplotlib.pyplot as plt\n"
   ]
  },
  {
   "cell_type": "markdown",
   "id": "7c8e01bf",
   "metadata": {},
   "source": [
    "### Download Dataset from Kaggle"
   ]
  },
  {
   "cell_type": "code",
   "execution_count": 11,
   "id": "d002cee1",
   "metadata": {},
   "outputs": [
    {
     "name": "stdout",
     "output_type": "stream",
     "text": [
      "Path to dataset files: /Users/cullen/.cache/kagglehub/datasets/reignrichard/coffee-store-sales/versions/2\n"
     ]
    },
    {
     "data": {
      "application/vnd.microsoft.datawrangler.viewer.v0+json": {
       "columns": [
        {
         "name": "index",
         "rawType": "int64",
         "type": "integer"
        },
        {
         "name": "date",
         "rawType": "datetime64[ns]",
         "type": "datetime"
        },
        {
         "name": "datetime",
         "rawType": "datetime64[ns]",
         "type": "datetime"
        },
        {
         "name": "hour_of_day",
         "rawType": "int64",
         "type": "integer"
        },
        {
         "name": "cash_type",
         "rawType": "object",
         "type": "string"
        },
        {
         "name": "card",
         "rawType": "object",
         "type": "unknown"
        },
        {
         "name": "money",
         "rawType": "float64",
         "type": "float"
        },
        {
         "name": "coffee_name",
         "rawType": "object",
         "type": "string"
        },
        {
         "name": "Time_of_Day",
         "rawType": "object",
         "type": "string"
        },
        {
         "name": "Weekday",
         "rawType": "object",
         "type": "string"
        },
        {
         "name": "Month_name",
         "rawType": "object",
         "type": "string"
        },
        {
         "name": "Weekdaysort",
         "rawType": "int64",
         "type": "integer"
        },
        {
         "name": "Monthsort",
         "rawType": "int64",
         "type": "integer"
        }
       ],
       "ref": "0d9c5aa6-50ba-4563-be4f-56715c4de9d1",
       "rows": [
        [
         "748",
         "2024-06-09 00:00:00",
         "2024-06-09 21:05:08.844000",
         "21",
         "card",
         "ANON-0000-0000-0280",
         "27.92",
         "Americano",
         "Night",
         "Sun",
         "Jun",
         "7",
         "6"
        ],
        [
         "3119",
         "2025-02-17 00:00:00",
         "2025-02-17 08:53:13.808000",
         "8",
         "card",
         "ANON-0000-0000-1163",
         "25.96",
         "Americano",
         "Morning",
         "Mon",
         "Feb",
         "1",
         "2"
        ],
        [
         "2316",
         "2024-11-14 00:00:00",
         "2024-11-14 22:40:42.347000",
         "22",
         "card",
         "ANON-0000-0000-0901",
         "35.76",
         "Latte",
         "Night",
         "Thu",
         "Nov",
         "4",
         "11"
        ],
        [
         "954",
         "2024-07-10 00:00:00",
         "2024-07-10 22:13:10.049000",
         "22",
         "card",
         "ANON-0000-0000-0328",
         "32.82",
         "Latte",
         "Night",
         "Wed",
         "Jul",
         "3",
         "7"
        ],
        [
         "92",
         "2024-03-12 00:00:00",
         "2024-03-12 11:20:45.632000",
         "11",
         "card",
         "ANON-0000-0000-0049",
         "38.7",
         "Hot Chocolate",
         "Morning",
         "Tue",
         "Mar",
         "2",
         "3"
        ],
        [
         "2019",
         "2024-10-20 00:00:00",
         "2024-10-20 18:34:16.387000",
         "18",
         "card",
         "ANON-0000-0000-0012",
         "35.76",
         "Cocoa",
         "Night",
         "Sun",
         "Oct",
         "7",
         "10"
        ],
        [
         "2437",
         "2024-12-01 00:00:00",
         "2024-12-01 14:34:22.870000",
         "14",
         "card",
         "ANON-0000-0000-0958",
         "30.86",
         "Americano with Milk",
         "Afternoon",
         "Sun",
         "Dec",
         "7",
         "12"
        ],
        [
         "117",
         "2024-03-15 00:00:00",
         "2024-03-15 10:02:16.533000",
         "10",
         "cash",
         null,
         "40.0",
         "Latte",
         "Morning",
         "Fri",
         "Mar",
         "5",
         "3"
        ],
        [
         "2",
         "2024-03-01 00:00:00",
         "2024-03-01 12:20:18.089000",
         "12",
         "card",
         "ANON-0000-0000-0002",
         "38.7",
         "Hot Chocolate",
         "Afternoon",
         "Fri",
         "Mar",
         "5",
         "3"
        ],
        [
         "350",
         "2024-04-22 00:00:00",
         "2024-04-22 11:29:27.099000",
         "11",
         "card",
         "ANON-0000-0000-0129",
         "32.82",
         "Americano with Milk",
         "Morning",
         "Mon",
         "Apr",
         "1",
         "4"
        ]
       ],
       "shape": {
        "columns": 12,
        "rows": 10
       }
      },
      "text/html": [
       "<div>\n",
       "<style scoped>\n",
       "    .dataframe tbody tr th:only-of-type {\n",
       "        vertical-align: middle;\n",
       "    }\n",
       "\n",
       "    .dataframe tbody tr th {\n",
       "        vertical-align: top;\n",
       "    }\n",
       "\n",
       "    .dataframe thead th {\n",
       "        text-align: right;\n",
       "    }\n",
       "</style>\n",
       "<table border=\"1\" class=\"dataframe\">\n",
       "  <thead>\n",
       "    <tr style=\"text-align: right;\">\n",
       "      <th></th>\n",
       "      <th>date</th>\n",
       "      <th>datetime</th>\n",
       "      <th>hour_of_day</th>\n",
       "      <th>cash_type</th>\n",
       "      <th>card</th>\n",
       "      <th>money</th>\n",
       "      <th>coffee_name</th>\n",
       "      <th>Time_of_Day</th>\n",
       "      <th>Weekday</th>\n",
       "      <th>Month_name</th>\n",
       "      <th>Weekdaysort</th>\n",
       "      <th>Monthsort</th>\n",
       "    </tr>\n",
       "  </thead>\n",
       "  <tbody>\n",
       "    <tr>\n",
       "      <th>748</th>\n",
       "      <td>2024-06-09</td>\n",
       "      <td>2024-06-09 21:05:08.844</td>\n",
       "      <td>21</td>\n",
       "      <td>card</td>\n",
       "      <td>ANON-0000-0000-0280</td>\n",
       "      <td>27.92</td>\n",
       "      <td>Americano</td>\n",
       "      <td>Night</td>\n",
       "      <td>Sun</td>\n",
       "      <td>Jun</td>\n",
       "      <td>7</td>\n",
       "      <td>6</td>\n",
       "    </tr>\n",
       "    <tr>\n",
       "      <th>3119</th>\n",
       "      <td>2025-02-17</td>\n",
       "      <td>2025-02-17 08:53:13.808</td>\n",
       "      <td>8</td>\n",
       "      <td>card</td>\n",
       "      <td>ANON-0000-0000-1163</td>\n",
       "      <td>25.96</td>\n",
       "      <td>Americano</td>\n",
       "      <td>Morning</td>\n",
       "      <td>Mon</td>\n",
       "      <td>Feb</td>\n",
       "      <td>1</td>\n",
       "      <td>2</td>\n",
       "    </tr>\n",
       "    <tr>\n",
       "      <th>2316</th>\n",
       "      <td>2024-11-14</td>\n",
       "      <td>2024-11-14 22:40:42.347</td>\n",
       "      <td>22</td>\n",
       "      <td>card</td>\n",
       "      <td>ANON-0000-0000-0901</td>\n",
       "      <td>35.76</td>\n",
       "      <td>Latte</td>\n",
       "      <td>Night</td>\n",
       "      <td>Thu</td>\n",
       "      <td>Nov</td>\n",
       "      <td>4</td>\n",
       "      <td>11</td>\n",
       "    </tr>\n",
       "    <tr>\n",
       "      <th>954</th>\n",
       "      <td>2024-07-10</td>\n",
       "      <td>2024-07-10 22:13:10.049</td>\n",
       "      <td>22</td>\n",
       "      <td>card</td>\n",
       "      <td>ANON-0000-0000-0328</td>\n",
       "      <td>32.82</td>\n",
       "      <td>Latte</td>\n",
       "      <td>Night</td>\n",
       "      <td>Wed</td>\n",
       "      <td>Jul</td>\n",
       "      <td>3</td>\n",
       "      <td>7</td>\n",
       "    </tr>\n",
       "    <tr>\n",
       "      <th>92</th>\n",
       "      <td>2024-03-12</td>\n",
       "      <td>2024-03-12 11:20:45.632</td>\n",
       "      <td>11</td>\n",
       "      <td>card</td>\n",
       "      <td>ANON-0000-0000-0049</td>\n",
       "      <td>38.70</td>\n",
       "      <td>Hot Chocolate</td>\n",
       "      <td>Morning</td>\n",
       "      <td>Tue</td>\n",
       "      <td>Mar</td>\n",
       "      <td>2</td>\n",
       "      <td>3</td>\n",
       "    </tr>\n",
       "    <tr>\n",
       "      <th>2019</th>\n",
       "      <td>2024-10-20</td>\n",
       "      <td>2024-10-20 18:34:16.387</td>\n",
       "      <td>18</td>\n",
       "      <td>card</td>\n",
       "      <td>ANON-0000-0000-0012</td>\n",
       "      <td>35.76</td>\n",
       "      <td>Cocoa</td>\n",
       "      <td>Night</td>\n",
       "      <td>Sun</td>\n",
       "      <td>Oct</td>\n",
       "      <td>7</td>\n",
       "      <td>10</td>\n",
       "    </tr>\n",
       "    <tr>\n",
       "      <th>2437</th>\n",
       "      <td>2024-12-01</td>\n",
       "      <td>2024-12-01 14:34:22.870</td>\n",
       "      <td>14</td>\n",
       "      <td>card</td>\n",
       "      <td>ANON-0000-0000-0958</td>\n",
       "      <td>30.86</td>\n",
       "      <td>Americano with Milk</td>\n",
       "      <td>Afternoon</td>\n",
       "      <td>Sun</td>\n",
       "      <td>Dec</td>\n",
       "      <td>7</td>\n",
       "      <td>12</td>\n",
       "    </tr>\n",
       "    <tr>\n",
       "      <th>117</th>\n",
       "      <td>2024-03-15</td>\n",
       "      <td>2024-03-15 10:02:16.533</td>\n",
       "      <td>10</td>\n",
       "      <td>cash</td>\n",
       "      <td>NaN</td>\n",
       "      <td>40.00</td>\n",
       "      <td>Latte</td>\n",
       "      <td>Morning</td>\n",
       "      <td>Fri</td>\n",
       "      <td>Mar</td>\n",
       "      <td>5</td>\n",
       "      <td>3</td>\n",
       "    </tr>\n",
       "    <tr>\n",
       "      <th>2</th>\n",
       "      <td>2024-03-01</td>\n",
       "      <td>2024-03-01 12:20:18.089</td>\n",
       "      <td>12</td>\n",
       "      <td>card</td>\n",
       "      <td>ANON-0000-0000-0002</td>\n",
       "      <td>38.70</td>\n",
       "      <td>Hot Chocolate</td>\n",
       "      <td>Afternoon</td>\n",
       "      <td>Fri</td>\n",
       "      <td>Mar</td>\n",
       "      <td>5</td>\n",
       "      <td>3</td>\n",
       "    </tr>\n",
       "    <tr>\n",
       "      <th>350</th>\n",
       "      <td>2024-04-22</td>\n",
       "      <td>2024-04-22 11:29:27.099</td>\n",
       "      <td>11</td>\n",
       "      <td>card</td>\n",
       "      <td>ANON-0000-0000-0129</td>\n",
       "      <td>32.82</td>\n",
       "      <td>Americano with Milk</td>\n",
       "      <td>Morning</td>\n",
       "      <td>Mon</td>\n",
       "      <td>Apr</td>\n",
       "      <td>1</td>\n",
       "      <td>4</td>\n",
       "    </tr>\n",
       "  </tbody>\n",
       "</table>\n",
       "</div>"
      ],
      "text/plain": [
       "           date                datetime  hour_of_day cash_type  \\\n",
       "748  2024-06-09 2024-06-09 21:05:08.844           21      card   \n",
       "3119 2025-02-17 2025-02-17 08:53:13.808            8      card   \n",
       "2316 2024-11-14 2024-11-14 22:40:42.347           22      card   \n",
       "954  2024-07-10 2024-07-10 22:13:10.049           22      card   \n",
       "92   2024-03-12 2024-03-12 11:20:45.632           11      card   \n",
       "2019 2024-10-20 2024-10-20 18:34:16.387           18      card   \n",
       "2437 2024-12-01 2024-12-01 14:34:22.870           14      card   \n",
       "117  2024-03-15 2024-03-15 10:02:16.533           10      cash   \n",
       "2    2024-03-01 2024-03-01 12:20:18.089           12      card   \n",
       "350  2024-04-22 2024-04-22 11:29:27.099           11      card   \n",
       "\n",
       "                     card  money          coffee_name Time_of_Day Weekday  \\\n",
       "748   ANON-0000-0000-0280  27.92            Americano       Night     Sun   \n",
       "3119  ANON-0000-0000-1163  25.96            Americano     Morning     Mon   \n",
       "2316  ANON-0000-0000-0901  35.76                Latte       Night     Thu   \n",
       "954   ANON-0000-0000-0328  32.82                Latte       Night     Wed   \n",
       "92    ANON-0000-0000-0049  38.70        Hot Chocolate     Morning     Tue   \n",
       "2019  ANON-0000-0000-0012  35.76                Cocoa       Night     Sun   \n",
       "2437  ANON-0000-0000-0958  30.86  Americano with Milk   Afternoon     Sun   \n",
       "117                   NaN  40.00                Latte     Morning     Fri   \n",
       "2     ANON-0000-0000-0002  38.70        Hot Chocolate   Afternoon     Fri   \n",
       "350   ANON-0000-0000-0129  32.82  Americano with Milk     Morning     Mon   \n",
       "\n",
       "     Month_name  Weekdaysort  Monthsort  \n",
       "748         Jun            7          6  \n",
       "3119        Feb            1          2  \n",
       "2316        Nov            4         11  \n",
       "954         Jul            3          7  \n",
       "92          Mar            2          3  \n",
       "2019        Oct            7         10  \n",
       "2437        Dec            7         12  \n",
       "117         Mar            5          3  \n",
       "2           Mar            5          3  \n",
       "350         Apr            1          4  "
      ]
     },
     "execution_count": 11,
     "metadata": {},
     "output_type": "execute_result"
    }
   ],
   "source": [
    "# Download the dataset from Kaggle\n",
    "path = kagglehub.dataset_download(\"reignrichard/coffee-store-sales\")\n",
    "print(\"Path to dataset files:\", path)\n",
    "\n",
    "# Load the dataset\n",
    "df = pd.read_excel(path + \"/Coffe_sales.xlsx\")\n",
    "df.sample(10)"
   ]
  },
  {
   "cell_type": "code",
   "execution_count": 5,
   "id": "f69a1829",
   "metadata": {},
   "outputs": [
    {
     "name": "stdout",
     "output_type": "stream",
     "text": [
      "<class 'pandas.core.frame.DataFrame'>\n",
      "RangeIndex: 3636 entries, 0 to 3635\n",
      "Data columns (total 12 columns):\n",
      " #   Column       Non-Null Count  Dtype         \n",
      "---  ------       --------------  -----         \n",
      " 0   date         3636 non-null   datetime64[ns]\n",
      " 1   datetime     3636 non-null   datetime64[ns]\n",
      " 2   hour_of_day  3636 non-null   int64         \n",
      " 3   cash_type    3636 non-null   object        \n",
      " 4   card         3547 non-null   object        \n",
      " 5   money        3636 non-null   float64       \n",
      " 6   coffee_name  3636 non-null   object        \n",
      " 7   Time_of_Day  3636 non-null   object        \n",
      " 8   Weekday      3636 non-null   object        \n",
      " 9   Month_name   3636 non-null   object        \n",
      " 10  Weekdaysort  3636 non-null   int64         \n",
      " 11  Monthsort    3636 non-null   int64         \n",
      "dtypes: datetime64[ns](2), float64(1), int64(3), object(6)\n",
      "memory usage: 341.0+ KB\n"
     ]
    }
   ],
   "source": [
    "df.info()"
   ]
  },
  {
   "cell_type": "markdown",
   "id": "81600505",
   "metadata": {},
   "source": [
    "### Descriptive Statistics"
   ]
  },
  {
   "cell_type": "code",
   "execution_count": null,
   "id": "7b76576e",
   "metadata": {},
   "outputs": [
    {
     "data": {
      "application/vnd.microsoft.datawrangler.viewer.v0+json": {
       "columns": [
        {
         "name": "index",
         "rawType": "object",
         "type": "string"
        },
        {
         "name": "date",
         "rawType": "object",
         "type": "unknown"
        },
        {
         "name": "datetime",
         "rawType": "object",
         "type": "unknown"
        },
        {
         "name": "hour_of_day",
         "rawType": "float64",
         "type": "float"
        },
        {
         "name": "money",
         "rawType": "float64",
         "type": "float"
        },
        {
         "name": "Weekdaysort",
         "rawType": "float64",
         "type": "float"
        },
        {
         "name": "Monthsort",
         "rawType": "float64",
         "type": "float"
        }
       ],
       "ref": "2f843de3-6080-4322-a915-9433a676a58f",
       "rows": [
        [
         "count",
         "3636",
         "3636",
         "3636.0",
         "3636.0",
         "3636.0",
         "3636.0"
        ],
        [
         "mean",
         "2024-09-30 11:56:02.376237568",
         "2024-10-01 02:35:30.535053568",
         "14.166941694169417",
         "31.74685918591859",
         "3.847909790979098",
         "6.3946644664466445"
        ],
        [
         "min",
         "2024-03-01 00:00:00",
         "2024-03-01 10:15:50.520000",
         "6.0",
         "18.12",
         "1.0",
         "1.0"
        ],
        [
         "25%",
         "2024-07-03 00:00:00",
         "2024-07-03 16:54:06.084750080",
         "10.0",
         "27.92",
         "2.0",
         "3.0"
        ],
        [
         "50%",
         "2024-10-06 12:00:00",
         "2024-10-07 02:55:12.649500160",
         "14.0",
         "32.82",
         "4.0",
         "6.0"
        ],
        [
         "75%",
         "2025-01-08 00:00:00",
         "2025-01-08 07:55:20.299750144",
         "18.0",
         "35.76",
         "6.0",
         "10.0"
        ],
        [
         "max",
         "2025-03-23 00:00:00",
         "2025-03-23 18:11:38.635000",
         "22.0",
         "40.0",
         "7.0",
         "12.0"
        ],
        [
         "std",
         null,
         null,
         "4.2277548384829675",
         "4.919925803555431",
         "1.9759833179307016",
         "3.4806858124621645"
        ]
       ],
       "shape": {
        "columns": 6,
        "rows": 8
       }
      },
      "text/html": [
       "<div>\n",
       "<style scoped>\n",
       "    .dataframe tbody tr th:only-of-type {\n",
       "        vertical-align: middle;\n",
       "    }\n",
       "\n",
       "    .dataframe tbody tr th {\n",
       "        vertical-align: top;\n",
       "    }\n",
       "\n",
       "    .dataframe thead th {\n",
       "        text-align: right;\n",
       "    }\n",
       "</style>\n",
       "<table border=\"1\" class=\"dataframe\">\n",
       "  <thead>\n",
       "    <tr style=\"text-align: right;\">\n",
       "      <th></th>\n",
       "      <th>date</th>\n",
       "      <th>datetime</th>\n",
       "      <th>hour_of_day</th>\n",
       "      <th>money</th>\n",
       "      <th>Weekdaysort</th>\n",
       "      <th>Monthsort</th>\n",
       "    </tr>\n",
       "  </thead>\n",
       "  <tbody>\n",
       "    <tr>\n",
       "      <th>count</th>\n",
       "      <td>3636</td>\n",
       "      <td>3636</td>\n",
       "      <td>3636.000000</td>\n",
       "      <td>3636.000000</td>\n",
       "      <td>3636.000000</td>\n",
       "      <td>3636.000000</td>\n",
       "    </tr>\n",
       "    <tr>\n",
       "      <th>mean</th>\n",
       "      <td>2024-09-30 11:56:02.376237568</td>\n",
       "      <td>2024-10-01 02:35:30.535053568</td>\n",
       "      <td>14.166942</td>\n",
       "      <td>31.746859</td>\n",
       "      <td>3.847910</td>\n",
       "      <td>6.394664</td>\n",
       "    </tr>\n",
       "    <tr>\n",
       "      <th>min</th>\n",
       "      <td>2024-03-01 00:00:00</td>\n",
       "      <td>2024-03-01 10:15:50.520000</td>\n",
       "      <td>6.000000</td>\n",
       "      <td>18.120000</td>\n",
       "      <td>1.000000</td>\n",
       "      <td>1.000000</td>\n",
       "    </tr>\n",
       "    <tr>\n",
       "      <th>25%</th>\n",
       "      <td>2024-07-03 00:00:00</td>\n",
       "      <td>2024-07-03 16:54:06.084750080</td>\n",
       "      <td>10.000000</td>\n",
       "      <td>27.920000</td>\n",
       "      <td>2.000000</td>\n",
       "      <td>3.000000</td>\n",
       "    </tr>\n",
       "    <tr>\n",
       "      <th>50%</th>\n",
       "      <td>2024-10-06 12:00:00</td>\n",
       "      <td>2024-10-07 02:55:12.649500160</td>\n",
       "      <td>14.000000</td>\n",
       "      <td>32.820000</td>\n",
       "      <td>4.000000</td>\n",
       "      <td>6.000000</td>\n",
       "    </tr>\n",
       "    <tr>\n",
       "      <th>75%</th>\n",
       "      <td>2025-01-08 00:00:00</td>\n",
       "      <td>2025-01-08 07:55:20.299750144</td>\n",
       "      <td>18.000000</td>\n",
       "      <td>35.760000</td>\n",
       "      <td>6.000000</td>\n",
       "      <td>10.000000</td>\n",
       "    </tr>\n",
       "    <tr>\n",
       "      <th>max</th>\n",
       "      <td>2025-03-23 00:00:00</td>\n",
       "      <td>2025-03-23 18:11:38.635000</td>\n",
       "      <td>22.000000</td>\n",
       "      <td>40.000000</td>\n",
       "      <td>7.000000</td>\n",
       "      <td>12.000000</td>\n",
       "    </tr>\n",
       "    <tr>\n",
       "      <th>std</th>\n",
       "      <td>NaN</td>\n",
       "      <td>NaN</td>\n",
       "      <td>4.227755</td>\n",
       "      <td>4.919926</td>\n",
       "      <td>1.975983</td>\n",
       "      <td>3.480686</td>\n",
       "    </tr>\n",
       "  </tbody>\n",
       "</table>\n",
       "</div>"
      ],
      "text/plain": [
       "                                date                       datetime  \\\n",
       "count                           3636                           3636   \n",
       "mean   2024-09-30 11:56:02.376237568  2024-10-01 02:35:30.535053568   \n",
       "min              2024-03-01 00:00:00     2024-03-01 10:15:50.520000   \n",
       "25%              2024-07-03 00:00:00  2024-07-03 16:54:06.084750080   \n",
       "50%              2024-10-06 12:00:00  2024-10-07 02:55:12.649500160   \n",
       "75%              2025-01-08 00:00:00  2025-01-08 07:55:20.299750144   \n",
       "max              2025-03-23 00:00:00     2025-03-23 18:11:38.635000   \n",
       "std                              NaN                            NaN   \n",
       "\n",
       "       hour_of_day        money  Weekdaysort    Monthsort  \n",
       "count  3636.000000  3636.000000  3636.000000  3636.000000  \n",
       "mean     14.166942    31.746859     3.847910     6.394664  \n",
       "min       6.000000    18.120000     1.000000     1.000000  \n",
       "25%      10.000000    27.920000     2.000000     3.000000  \n",
       "50%      14.000000    32.820000     4.000000     6.000000  \n",
       "75%      18.000000    35.760000     6.000000    10.000000  \n",
       "max      22.000000    40.000000     7.000000    12.000000  \n",
       "std       4.227755     4.919926     1.975983     3.480686  "
      ]
     },
     "metadata": {},
     "output_type": "display_data"
    }
   ],
   "source": [
    "df.describe()"
   ]
  },
  {
   "cell_type": "markdown",
   "id": "4ad42924",
   "metadata": {},
   "source": [
    "### Check for Missing Values and Duplicates"
   ]
  },
  {
   "cell_type": "code",
   "execution_count": 6,
   "id": "6a031f5f",
   "metadata": {},
   "outputs": [
    {
     "name": "stdout",
     "output_type": "stream",
     "text": [
      "No duplicates found in Dataset\n"
     ]
    }
   ],
   "source": [
    "def clean_data(sample):\n",
    "    if sample.duplicated().sum() == 0:\n",
    "        print(f\"No duplicates found in Dataset\")\n",
    "    if sample.duplicated().sum() > 0:\n",
    "        num_dup = sample.duplicated().sum()\n",
    "        sample.drop_duplicates(inplace = True)\n",
    "        print(f'{num_dup} duplicates were dropped from dataset') \n",
    "clean_data(df)"
   ]
  },
  {
   "cell_type": "code",
   "execution_count": 7,
   "id": "36ca4a2d",
   "metadata": {},
   "outputs": [
    {
     "name": "stdout",
     "output_type": "stream",
     "text": [
      "Checking for null values in the dataset:\n"
     ]
    },
    {
     "data": {
      "application/vnd.microsoft.datawrangler.viewer.v0+json": {
       "columns": [
        {
         "name": "index",
         "rawType": "object",
         "type": "string"
        },
        {
         "name": "0",
         "rawType": "int64",
         "type": "integer"
        }
       ],
       "ref": "3c349aa3-3c59-4891-a006-3cbebcd32643",
       "rows": [
        [
         "date",
         "0"
        ],
        [
         "datetime",
         "0"
        ],
        [
         "hour_of_day",
         "0"
        ],
        [
         "cash_type",
         "0"
        ],
        [
         "card",
         "89"
        ],
        [
         "money",
         "0"
        ],
        [
         "coffee_name",
         "0"
        ],
        [
         "Time_of_Day",
         "0"
        ],
        [
         "Weekday",
         "0"
        ],
        [
         "Month_name",
         "0"
        ],
        [
         "Weekdaysort",
         "0"
        ],
        [
         "Monthsort",
         "0"
        ]
       ],
       "shape": {
        "columns": 1,
        "rows": 12
       }
      },
      "text/plain": [
       "date            0\n",
       "datetime        0\n",
       "hour_of_day     0\n",
       "cash_type       0\n",
       "card           89\n",
       "money           0\n",
       "coffee_name     0\n",
       "Time_of_Day     0\n",
       "Weekday         0\n",
       "Month_name      0\n",
       "Weekdaysort     0\n",
       "Monthsort       0\n",
       "dtype: int64"
      ]
     },
     "execution_count": 7,
     "metadata": {},
     "output_type": "execute_result"
    }
   ],
   "source": [
    "print(\"Checking for null values in the dataset:\")\n",
    "df.isnull().sum()"
   ]
  },
  {
   "cell_type": "markdown",
   "id": "4dc0b90d",
   "metadata": {},
   "source": [
    "Missing Values within \"Card\" categories are do to cash payment. Filling Values with N/A"
   ]
  },
  {
   "cell_type": "code",
   "execution_count": 13,
   "id": "a5f42818",
   "metadata": {},
   "outputs": [],
   "source": [
    "df.fillna(\"N/A\", inplace=True)"
   ]
  },
  {
   "cell_type": "markdown",
   "id": "c0fd666b",
   "metadata": {},
   "source": [
    "## Exploratory Data Analysis"
   ]
  },
  {
   "cell_type": "markdown",
   "id": "b85beeb3",
   "metadata": {},
   "source": [
    "### Distribution of Dataset"
   ]
  },
  {
   "cell_type": "code",
   "execution_count": 25,
   "id": "0e7b6a78",
   "metadata": {},
   "outputs": [
    {
     "data": {
      "image/png": "[encoded data removed]",
      "text/plain": [
       "<Figure size 800x550 with 1 Axes>"
      ]
     },
     "metadata": {},
     "output_type": "display_data"
    }
   ],
   "source": [
    "plt.style.use('seaborn-v0_8')\n",
    "sns.histplot(data=df, x='money', bins='auto', kde=True)\n",
    "plt.title('Distribution of Money Spent on Coffee')\n",
    "plt.xlabel('Money Spent')\n",
    "plt.ylabel('Frequency')\n",
    "plt.show()"
   ]
  },
  {
   "cell_type": "markdown",
   "id": "9ab8960d",
   "metadata": {},
   "source": [
    "### Most Popular Beverages"
   ]
  },
  {
   "cell_type": "code",
   "execution_count": 28,
   "id": "dbe1c389",
   "metadata": {},
   "outputs": [
    {
     "name": "stderr",
     "output_type": "stream",
     "text": [
      "/var/folders/q9/tcnkwbxn3pv75_gj_6zrz_c80000gn/T/ipykernel_26674/2658326216.py:3: FutureWarning: \n",
      "\n",
      "Passing `palette` without assigning `hue` is deprecated and will be removed in v0.14.0. Assign the `x` variable to `hue` and set `legend=False` for the same effect.\n",
      "\n",
      "  sns.countplot(data=df, x='coffee_name', order=df['coffee_name'].value_counts().index, palette='pastel')\n"
     ]
    },
    {
     "data": {
      "image/png": "[encoded data removed]",
      "text/plain": [
       "<Figure size 1200x600 with 1 Axes>"
      ]
     },
     "metadata": {},
     "output_type": "display_data"
    }
   ],
   "source": [
    "plt.style.use('seaborn-v0_8-colorblind')\n",
    "plt.figure(figsize=(12, 6))\n",
    "sns.countplot(data=df, x='coffee_name', order=df['coffee_name'].value_counts().index, palette='pastel')\n",
    "plt.title('Most Popular Beverages')\n",
    "plt.xlabel('Beverage')\n",
    "plt.ylabel('Count')\n",
    "plt.xticks(rotation=45)\n",
    "plt.show()"
   ]
  },
  {
   "cell_type": "code",
   "execution_count": null,
   "id": "e718fa19",
   "metadata": {},
   "outputs": [],
   "source": []
  }
 ],
 "metadata": {
  "kernelspec": {
   "display_name": ".venv (3.11.9)",
   "language": "python",
   "name": "python3"
  },
  "language_info": {
   "codemirror_mode": {
    "name": "ipython",
    "version": 3
   },
   "file_extension": ".py",
   "mimetype": "text/x-python",
   "name": "python",
   "nbconvert_exporter": "python",
   "pygments_lexer": "ipython3",
   "version": "3.11.9"
  }
 },
 "nbformat": 4,
 "nbformat_minor": 5
}
