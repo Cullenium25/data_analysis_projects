{
 "cells": [
  {
   "cell_type": "markdown",
   "id": "013363c7",
   "metadata": {},
   "source": [
    "# Coffee Sales"
   ]
  },
  {
   "cell_type": "markdown",
   "id": "a6c2ef16",
   "metadata": {},
   "source": [
    "This notebook provides a sales analysis of a local coffeeshop"
   ]
  },
  {
   "cell_type": "code",
   "execution_count": null,
   "id": "6bc04251",
   "metadata": {},
   "outputs": [
    {
     "name": "stdout",
     "output_type": "stream",
     "text": [
      "Collecting kagglehub\n",
      "  Using cached kagglehub-0.3.12-py3-none-any.whl.metadata (38 kB)\n",
      "Requirement already satisfied: packaging in /home/cullen-fedora/Documents/Python-Projects/.venv/lib/python3.12/site-packages (from kagglehub) (24.2)\n",
      "Requirement already satisfied: pyyaml in /home/cullen-fedora/Documents/Python-Projects/.venv/lib/python3.12/site-packages (from kagglehub) (6.0.2)\n",
      "Requirement already satisfied: requests in /home/cullen-fedora/Documents/Python-Projects/.venv/lib/python3.12/site-packages (from kagglehub) (2.32.3)\n",
      "Requirement already satisfied: tqdm in /home/cullen-fedora/Documents/Python-Projects/.venv/lib/python3.12/site-packages (from kagglehub) (4.67.1)\n",
      "Requirement already satisfied: charset-normalizer<4,>=2 in /home/cullen-fedora/Documents/Python-Projects/.venv/lib/python3.12/site-packages (from requests->kagglehub) (3.4.2)\n",
      "Requirement already satisfied: idna<4,>=2.5 in /home/cullen-fedora/Documents/Python-Projects/.venv/lib/python3.12/site-packages (from requests->kagglehub) (3.7)\n",
      "Requirement already satisfied: urllib3<3,>=1.21.1 in /home/cullen-fedora/Documents/Python-Projects/.venv/lib/python3.12/site-packages (from requests->kagglehub) (2.4.0)\n",
      "Requirement already satisfied: certifi>=2017.4.17 in /home/cullen-fedora/Documents/Python-Projects/.venv/lib/python3.12/site-packages (from requests->kagglehub) (2025.4.26)\n",
      "Using cached kagglehub-0.3.12-py3-none-any.whl (67 kB)\n",
      "Installing collected packages: kagglehub\n",
      "Successfully installed kagglehub-0.3.12\n",
      "\n",
      "\u001b[1m[\u001b[0m\u001b[34;49mnotice\u001b[0m\u001b[1;39;49m]\u001b[0m\u001b[39;49m A new release of pip is available: \u001b[0m\u001b[31;49m25.1.1\u001b[0m\u001b[39;49m -> \u001b[0m\u001b[32;49m25.2\u001b[0m\n",
      "\u001b[1m[\u001b[0m\u001b[34;49mnotice\u001b[0m\u001b[1;39;49m]\u001b[0m\u001b[39;49m To update, run: \u001b[0m\u001b[32;49mpip install --upgrade pip\u001b[0m\n",
      "Collecting openpyxl\n",
      "  Downloading openpyxl-3.1.5-py2.py3-none-any.whl.metadata (2.5 kB)\n",
      "Collecting et-xmlfile (from openpyxl)\n",
      "  Downloading et_xmlfile-2.0.0-py3-none-any.whl.metadata (2.7 kB)\n",
      "Downloading openpyxl-3.1.5-py2.py3-none-any.whl (250 kB)\n",
      "Downloading et_xmlfile-2.0.0-py3-none-any.whl (18 kB)\n",
      "Installing collected packages: et-xmlfile, openpyxl\n",
      "\u001b[2K   \u001b[90m━━━━━━━━━━━━━━━━━━━━━━━━━━━━━━━━━━━━━━━━\u001b[0m \u001b[32m2/2\u001b[0m [openpyxl]1/2\u001b[0m [openpyxl]\n",
      "\u001b[1A\u001b[2KSuccessfully installed et-xmlfile-2.0.0 openpyxl-3.1.5\n",
      "\n",
      "\u001b[1m[\u001b[0m\u001b[34;49mnotice\u001b[0m\u001b[1;39;49m]\u001b[0m\u001b[39;49m A new release of pip is available: \u001b[0m\u001b[31;49m25.1.1\u001b[0m\u001b[39;49m -> \u001b[0m\u001b[32;49m25.2\u001b[0m\n",
      "\u001b[1m[\u001b[0m\u001b[34;49mnotice\u001b[0m\u001b[1;39;49m]\u001b[0m\u001b[39;49m To update, run: \u001b[0m\u001b[32;49mpip install --upgrade pip\u001b[0m\n"
     ]
    }
   ],
   "source": [
    "# # Install dependencies as needed:\n",
    "# !pip install kagglehub\n",
    "# !pip install openpyxl"
   ]
  },
  {
   "cell_type": "code",
   "execution_count": 15,
   "id": "66403abb",
   "metadata": {},
   "outputs": [],
   "source": [
    "import kagglehub\n",
    "import pandas as pd\n",
    "import seaborn as sns\n",
    "import matplotlib.pyplot as plt\n"
   ]
  },
  {
   "cell_type": "code",
   "execution_count": 24,
   "id": "79f7113e",
   "metadata": {},
   "outputs": [],
   "source": [
    "plt.style.use('seaborn-v0_8')"
   ]
  },
  {
   "cell_type": "code",
   "execution_count": null,
   "id": "d002cee1",
   "metadata": {},
   "outputs": [
    {
     "name": "stdout",
     "output_type": "stream",
     "text": [
      "Path to dataset files: /home/cullen-fedora/.cache/kagglehub/datasets/reignrichard/coffee-store-sales/versions/2\n"
     ]
    },
    {
     "data": {
      "application/vnd.microsoft.datawrangler.viewer.v0+json": {
       "columns": [
        {
         "name": "index",
         "rawType": "int64",
         "type": "integer"
        },
        {
         "name": "date",
         "rawType": "datetime64[ns]",
         "type": "datetime"
        },
        {
         "name": "datetime",
         "rawType": "datetime64[ns]",
         "type": "datetime"
        },
        {
         "name": "hour_of_day",
         "rawType": "int64",
         "type": "integer"
        },
        {
         "name": "cash_type",
         "rawType": "object",
         "type": "string"
        },
        {
         "name": "card",
         "rawType": "object",
         "type": "string"
        },
        {
         "name": "money",
         "rawType": "float64",
         "type": "float"
        },
        {
         "name": "coffee_name",
         "rawType": "object",
         "type": "string"
        },
        {
         "name": "Time_of_Day",
         "rawType": "object",
         "type": "string"
        },
        {
         "name": "Weekday",
         "rawType": "object",
         "type": "string"
        },
        {
         "name": "Month_name",
         "rawType": "object",
         "type": "string"
        },
        {
         "name": "Weekdaysort",
         "rawType": "int64",
         "type": "integer"
        },
        {
         "name": "Monthsort",
         "rawType": "int64",
         "type": "integer"
        }
       ],
       "ref": "4bc9ac5c-8763-4caf-bfe8-e9d1ee036e41",
       "rows": [
        [
         "0",
         "2024-03-01 00:00:00",
         "2024-03-01 10:15:50.520000",
         "10",
         "card",
         "ANON-0000-0000-0001",
         "38.7",
         "Latte",
         "Morning",
         "Fri",
         "Mar",
         "5",
         "3"
        ],
        [
         "1",
         "2024-03-01 00:00:00",
         "2024-03-01 12:19:22.539000",
         "12",
         "card",
         "ANON-0000-0000-0002",
         "38.7",
         "Hot Chocolate",
         "Afternoon",
         "Fri",
         "Mar",
         "5",
         "3"
        ],
        [
         "2",
         "2024-03-01 00:00:00",
         "2024-03-01 12:20:18.089000",
         "12",
         "card",
         "ANON-0000-0000-0002",
         "38.7",
         "Hot Chocolate",
         "Afternoon",
         "Fri",
         "Mar",
         "5",
         "3"
        ],
        [
         "3",
         "2024-03-01 00:00:00",
         "2024-03-01 13:46:33.006000",
         "13",
         "card",
         "ANON-0000-0000-0003",
         "28.9",
         "Americano",
         "Afternoon",
         "Fri",
         "Mar",
         "5",
         "3"
        ],
        [
         "4",
         "2024-03-01 00:00:00",
         "2024-03-01 13:48:14.626000",
         "13",
         "card",
         "ANON-0000-0000-0004",
         "38.7",
         "Latte",
         "Afternoon",
         "Fri",
         "Mar",
         "5",
         "3"
        ]
       ],
       "shape": {
        "columns": 12,
        "rows": 5
       }
      },
      "text/html": [
       "<div>\n",
       "<style scoped>\n",
       "    .dataframe tbody tr th:only-of-type {\n",
       "        vertical-align: middle;\n",
       "    }\n",
       "\n",
       "    .dataframe tbody tr th {\n",
       "        vertical-align: top;\n",
       "    }\n",
       "\n",
       "    .dataframe thead th {\n",
       "        text-align: right;\n",
       "    }\n",
       "</style>\n",
       "<table border=\"1\" class=\"dataframe\">\n",
       "  <thead>\n",
       "    <tr style=\"text-align: right;\">\n",
       "      <th></th>\n",
       "      <th>date</th>\n",
       "      <th>datetime</th>\n",
       "      <th>hour_of_day</th>\n",
       "      <th>cash_type</th>\n",
       "      <th>card</th>\n",
       "      <th>money</th>\n",
       "      <th>coffee_name</th>\n",
       "      <th>Time_of_Day</th>\n",
       "      <th>Weekday</th>\n",
       "      <th>Month_name</th>\n",
       "      <th>Weekdaysort</th>\n",
       "      <th>Monthsort</th>\n",
       "    </tr>\n",
       "  </thead>\n",
       "  <tbody>\n",
       "    <tr>\n",
       "      <th>0</th>\n",
       "      <td>2024-03-01</td>\n",
       "      <td>2024-03-01 10:15:50.520</td>\n",
       "      <td>10</td>\n",
       "      <td>card</td>\n",
       "      <td>ANON-0000-0000-0001</td>\n",
       "      <td>38.7</td>\n",
       "      <td>Latte</td>\n",
       "      <td>Morning</td>\n",
       "      <td>Fri</td>\n",
       "      <td>Mar</td>\n",
       "      <td>5</td>\n",
       "      <td>3</td>\n",
       "    </tr>\n",
       "    <tr>\n",
       "      <th>1</th>\n",
       "      <td>2024-03-01</td>\n",
       "      <td>2024-03-01 12:19:22.539</td>\n",
       "      <td>12</td>\n",
       "      <td>card</td>\n",
       "      <td>ANON-0000-0000-0002</td>\n",
       "      <td>38.7</td>\n",
       "      <td>Hot Chocolate</td>\n",
       "      <td>Afternoon</td>\n",
       "      <td>Fri</td>\n",
       "      <td>Mar</td>\n",
       "      <td>5</td>\n",
       "      <td>3</td>\n",
       "    </tr>\n",
       "    <tr>\n",
       "      <th>2</th>\n",
       "      <td>2024-03-01</td>\n",
       "      <td>2024-03-01 12:20:18.089</td>\n",
       "      <td>12</td>\n",
       "      <td>card</td>\n",
       "      <td>ANON-0000-0000-0002</td>\n",
       "      <td>38.7</td>\n",
       "      <td>Hot Chocolate</td>\n",
       "      <td>Afternoon</td>\n",
       "      <td>Fri</td>\n",
       "      <td>Mar</td>\n",
       "      <td>5</td>\n",
       "      <td>3</td>\n",
       "    </tr>\n",
       "    <tr>\n",
       "      <th>3</th>\n",
       "      <td>2024-03-01</td>\n",
       "      <td>2024-03-01 13:46:33.006</td>\n",
       "      <td>13</td>\n",
       "      <td>card</td>\n",
       "      <td>ANON-0000-0000-0003</td>\n",
       "      <td>28.9</td>\n",
       "      <td>Americano</td>\n",
       "      <td>Afternoon</td>\n",
       "      <td>Fri</td>\n",
       "      <td>Mar</td>\n",
       "      <td>5</td>\n",
       "      <td>3</td>\n",
       "    </tr>\n",
       "    <tr>\n",
       "      <th>4</th>\n",
       "      <td>2024-03-01</td>\n",
       "      <td>2024-03-01 13:48:14.626</td>\n",
       "      <td>13</td>\n",
       "      <td>card</td>\n",
       "      <td>ANON-0000-0000-0004</td>\n",
       "      <td>38.7</td>\n",
       "      <td>Latte</td>\n",
       "      <td>Afternoon</td>\n",
       "      <td>Fri</td>\n",
       "      <td>Mar</td>\n",
       "      <td>5</td>\n",
       "      <td>3</td>\n",
       "    </tr>\n",
       "  </tbody>\n",
       "</table>\n",
       "</div>"
      ],
      "text/plain": [
       "        date                datetime  hour_of_day cash_type  \\\n",
       "0 2024-03-01 2024-03-01 10:15:50.520           10      card   \n",
       "1 2024-03-01 2024-03-01 12:19:22.539           12      card   \n",
       "2 2024-03-01 2024-03-01 12:20:18.089           12      card   \n",
       "3 2024-03-01 2024-03-01 13:46:33.006           13      card   \n",
       "4 2024-03-01 2024-03-01 13:48:14.626           13      card   \n",
       "\n",
       "                  card  money    coffee_name Time_of_Day Weekday Month_name  \\\n",
       "0  ANON-0000-0000-0001   38.7          Latte     Morning     Fri        Mar   \n",
       "1  ANON-0000-0000-0002   38.7  Hot Chocolate   Afternoon     Fri        Mar   \n",
       "2  ANON-0000-0000-0002   38.7  Hot Chocolate   Afternoon     Fri        Mar   \n",
       "3  ANON-0000-0000-0003   28.9      Americano   Afternoon     Fri        Mar   \n",
       "4  ANON-0000-0000-0004   38.7          Latte   Afternoon     Fri        Mar   \n",
       "\n",
       "   Weekdaysort  Monthsort  \n",
       "0            5          3  \n",
       "1            5          3  \n",
       "2            5          3  \n",
       "3            5          3  \n",
       "4            5          3  "
      ]
     },
     "execution_count": 10,
     "metadata": {},
     "output_type": "execute_result"
    }
   ],
   "source": [
    "# Download the dataset from Kaggle\n",
    "path = kagglehub.dataset_download(\"reignrichard/coffee-store-sales\")\n",
    "print(\"Path to dataset files:\", path)\n",
    "\n",
    "# Load the dataset\n",
    "df = pd.read_excel(path + \"/Coffe_sales.xlsx\")\n",
    "df.head()"
   ]
  },
  {
   "cell_type": "code",
   "execution_count": 11,
   "id": "f69a1829",
   "metadata": {},
   "outputs": [
    {
     "name": "stdout",
     "output_type": "stream",
     "text": [
      "<class 'pandas.core.frame.DataFrame'>\n",
      "RangeIndex: 3636 entries, 0 to 3635\n",
      "Data columns (total 12 columns):\n",
      " #   Column       Non-Null Count  Dtype         \n",
      "---  ------       --------------  -----         \n",
      " 0   date         3636 non-null   datetime64[ns]\n",
      " 1   datetime     3636 non-null   datetime64[ns]\n",
      " 2   hour_of_day  3636 non-null   int64         \n",
      " 3   cash_type    3636 non-null   object        \n",
      " 4   card         3547 non-null   object        \n",
      " 5   money        3636 non-null   float64       \n",
      " 6   coffee_name  3636 non-null   object        \n",
      " 7   Time_of_Day  3636 non-null   object        \n",
      " 8   Weekday      3636 non-null   object        \n",
      " 9   Month_name   3636 non-null   object        \n",
      " 10  Weekdaysort  3636 non-null   int64         \n",
      " 11  Monthsort    3636 non-null   int64         \n",
      "dtypes: datetime64[ns](2), float64(1), int64(3), object(6)\n",
      "memory usage: 341.0+ KB\n"
     ]
    }
   ],
   "source": [
    "df.info()"
   ]
  },
  {
   "cell_type": "code",
   "execution_count": 19,
   "id": "6a031f5f",
   "metadata": {},
   "outputs": [
    {
     "name": "stdout",
     "output_type": "stream",
     "text": [
      "Missing values in each column:\n",
      "date            0\n",
      "datetime        0\n",
      "hour_of_day     0\n",
      "cash_type       0\n",
      "card           89\n",
      "money           0\n",
      "coffee_name     0\n",
      "Time_of_Day     0\n",
      "Weekday         0\n",
      "Month_name      0\n",
      "Weekdaysort     0\n",
      "Monthsort       0\n",
      "dtype: int64\n"
     ]
    }
   ],
   "source": [
    "missing_values = df.isnull().sum()\n",
    "print(\"Missing values in each column:\")\n",
    "print(missing_values)"
   ]
  },
  {
   "cell_type": "code",
   "execution_count": 16,
   "id": "63a3f9cd",
   "metadata": {},
   "outputs": [
    {
     "name": "stdout",
     "output_type": "stream",
     "text": [
      "Number of duplicate rows: 0\n"
     ]
    }
   ],
   "source": [
    "duplicates = df.duplicated().sum()\n",
    "print(f\"Number of duplicate rows: {duplicates}\")"
   ]
  },
  {
   "cell_type": "code",
   "execution_count": 26,
   "id": "0e7b6a78",
   "metadata": {},
   "outputs": [
    {
     "data": {
      "image/png": "[encoded data removed]",
      "text/plain": [
       "<Figure size 800x550 with 1 Axes>"
      ]
     },
     "metadata": {},
     "output_type": "display_data"
    }
   ],
   "source": [
    "sns.histplot(data=df, x='money', bins='auto', kde=True)\n",
    "plt.title('Distribution of Money Spent on Coffee')\n",
    "plt.xlabel('Money Spent')\n",
    "plt.ylabel('Frequency')\n",
    "plt.show()"
   ]
  },
  {
   "cell_type": "code",
   "execution_count": null,
   "id": "31883a17",
   "metadata": {},
   "outputs": [],
   "source": []
  }
 ],
 "metadata": {
  "kernelspec": {
   "display_name": ".venv",
   "language": "python",
   "name": "python3"
  },
  "language_info": {
   "codemirror_mode": {
    "name": "ipython",
    "version": 3
   },
   "file_extension": ".py",
   "mimetype": "text/x-python",
   "name": "python",
   "nbconvert_exporter": "python",
   "pygments_lexer": "ipython3",
   "version": "3.12.11"
  }
 },
 "nbformat": 4,
 "nbformat_minor": 5
}
