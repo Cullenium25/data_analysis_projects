{
 "cells": [
  {
   "cell_type": "code",
   "execution_count": 3,
   "id": "d1971f8b",
   "metadata": {},
   "outputs": [],
   "source": [
    "import csv\n",
    "import tensorflow as tf\n",
    "import pandas as pd"
   ]
  },
  {
   "cell_type": "markdown",
   "id": "9de6dae7",
   "metadata": {},
   "source": [
    "Task: Build a CNN-LSTM hybrid model to classify the customer product reviews into good or bad.\n",
    "\n",
    "Task A\n",
    "•Load GrammarandProductReviews.csv dataset"
   ]
  },
  {
   "cell_type": "code",
   "execution_count": 4,
   "id": "a20beb07",
   "metadata": {},
   "outputs": [],
   "source": [
    "df = pd.read_csv('GrammarandProductReviews.csv')"
   ]
  },
  {
   "cell_type": "code",
   "execution_count": 5,
   "id": "14a1788f",
   "metadata": {},
   "outputs": [
    {
     "data": {
      "application/vnd.microsoft.datawrangler.viewer.v0+json": {
       "columns": [
        {
         "name": "index",
         "rawType": "int64",
         "type": "integer"
        },
        {
         "name": "id",
         "rawType": "object",
         "type": "string"
        },
        {
         "name": "brand",
         "rawType": "object",
         "type": "string"
        },
        {
         "name": "categories",
         "rawType": "object",
         "type": "string"
        },
        {
         "name": "dateAdded",
         "rawType": "object",
         "type": "string"
        },
        {
         "name": "dateUpdated",
         "rawType": "object",
         "type": "string"
        },
        {
         "name": "ean",
         "rawType": "object",
         "type": "string"
        },
        {
         "name": "keys",
         "rawType": "object",
         "type": "string"
        },
        {
         "name": "manufacturer",
         "rawType": "object",
         "type": "string"
        },
        {
         "name": "manufacturerNumber",
         "rawType": "object",
         "type": "string"
        },
        {
         "name": "name",
         "rawType": "object",
         "type": "string"
        },
        {
         "name": "reviews.date",
         "rawType": "object",
         "type": "string"
        },
        {
         "name": "reviews.dateAdded",
         "rawType": "object",
         "type": "string"
        },
        {
         "name": "reviews.dateSeen",
         "rawType": "object",
         "type": "string"
        },
        {
         "name": "reviews.didPurchase",
         "rawType": "object",
         "type": "unknown"
        },
        {
         "name": "reviews.doRecommend",
         "rawType": "object",
         "type": "unknown"
        },
        {
         "name": "reviews.id",
         "rawType": "float64",
         "type": "float"
        },
        {
         "name": "reviews.numHelpful",
         "rawType": "float64",
         "type": "float"
        },
        {
         "name": "reviews.rating",
         "rawType": "int64",
         "type": "integer"
        },
        {
         "name": "reviews.sourceURLs",
         "rawType": "object",
         "type": "string"
        },
        {
         "name": "reviews.text",
         "rawType": "object",
         "type": "string"
        },
        {
         "name": "reviews.title",
         "rawType": "object",
         "type": "string"
        },
        {
         "name": "reviews.userCity",
         "rawType": "object",
         "type": "unknown"
        },
        {
         "name": "reviews.userProvince",
         "rawType": "object",
         "type": "unknown"
        },
        {
         "name": "reviews.username",
         "rawType": "object",
         "type": "string"
        },
        {
         "name": "upc",
         "rawType": "object",
         "type": "string"
        }
       ],
       "conversionMethod": "pd.DataFrame",
       "ref": "6ea39cb1-5571-4fc7-832c-c4ec65f83698",
       "rows": [
        [
         "0",
         "AV13O1A8GV-KLJ3akUyj",
         "Universal Music",
         "Movies, Music & Books,Music,R&b,Movies & TV,Movie Bundles & Collections,CDs & Vinyl,Rap & Hip-Hop,Bass,Music on CD or Vinyl,Rap,Hip-Hop,Mainstream Rap,Pop Rap",
         "2017-07-25T00:52:42Z",
         "2018-02-05T08:36:58Z",
         "6.03E+11",
         "602537205981,universalmusic/14331328,universalmusicgroupcashmoney/14331328,pinkfridayromanreloadedreupwdvd/000000000,pinkfridayromanreloadedreupwdvd/b009ntnhju,0602537205981",
         "Universal Music Group / Cash Money",
         "14331328",
         "Pink Friday: Roman Reloaded Re-Up (w/dvd)",
         "2012-11-30T06:21:45.000Z",
         "2018-02-04T07:28:12Z",
         "2018-01-15T04:45:00.000Z,2018-01-18T14:30:00.000Z,2017-12-20T12:28:00.000Z,2017-12-16T05:40:00.000Z,2017-12-07T09:27:00.000Z,2017-11-18T22:25:00.000Z",
         null,
         null,
         null,
         "0.0",
         "5",
         "https://redsky.target.com/groot-domain-api/v1/reviews/14331328?sort=helpfulness_desc&limit=200&offset=0",
         "i love this album. it's very good. more to the hip hop side than her current pop sound.. SO HYPE! i listen to this everyday at the gym! i give it 5star rating all the way. her metaphors are just crazy.",
         "Just Awesome",
         "Los Angeles",
         null,
         "Joshua",
         "6.03E+11"
        ],
        [
         "1",
         "AV14LG0R-jtxr-f38QfS",
         "Lundberg",
         "Food,Packaged Foods,Snacks,Crackers,Snacks, Cookies & Chips,Rice Cakes,Cakes",
         "2017-07-25T05:16:03Z",
         "2018-02-05T11:27:45Z",
         "73416000391",
         "lundbergorganiccinnamontoastricecakes/b000fvzw8y,lundbergorganiccinnamontoastricecakes/b005grcqwc,073416000391,lundbergorganiccinnamontoastricecakes/b0013jlzbu,0073416000391,lundbergorganiccinnamontoastricecakes/555222704,lundberg/00574764,lundbergorganiccinnamontoastricecakes/563800996",
         "Lundberg",
         "574764",
         "Lundberg Organic Cinnamon Toast Rice Cakes",
         "2017-07-09T00:00:00.000Z",
         "2017-09-23T02:53:06Z",
         "2017-09-16T09:45:00.000Z",
         "True",
         null,
         "100209113.0",
         null,
         "5",
         "https://www.walmart.com/reviews/product/29775278",
         "Good flavor. This review was collected as part of a promotion.",
         "Good",
         null,
         null,
         "Dorothy W",
         "73416000391"
        ],
        [
         "2",
         "AV14LG0R-jtxr-f38QfS",
         "Lundberg",
         "Food,Packaged Foods,Snacks,Crackers,Snacks, Cookies & Chips,Rice Cakes,Cakes",
         "2017-07-25T05:16:03Z",
         "2018-02-05T11:27:45Z",
         "73416000391",
         "lundbergorganiccinnamontoastricecakes/b000fvzw8y,lundbergorganiccinnamontoastricecakes/b005grcqwc,073416000391,lundbergorganiccinnamontoastricecakes/b0013jlzbu,0073416000391,lundbergorganiccinnamontoastricecakes/555222704,lundberg/00574764,lundbergorganiccinnamontoastricecakes/563800996",
         "Lundberg",
         "574764",
         "Lundberg Organic Cinnamon Toast Rice Cakes",
         "2017-07-09T00:00:00.000Z",
         "2017-09-06T04:49:31Z",
         "2017-08-23T10:37:00.000Z",
         "True",
         null,
         "100209113.0",
         null,
         "5",
         "https://www.walmart.com/reviews/product/29775278",
         "Good flavor.",
         "Good",
         null,
         null,
         "Dorothy W",
         "73416000391"
        ],
        [
         "3",
         "AV16khLE-jtxr-f38VFn",
         "K-Y",
         "Personal Care,Medicine Cabinet,Lubricant/Spermicide,Health,Sexual Wellness,Lubricants",
         "2017-07-25T16:26:19Z",
         "2018-02-05T11:25:51Z",
         "67981934427",
         "kylovesensualitypleasuregel/b00u2whx8s,067981934427,0067981934427,kylovesensualitypleasuregel/553550989,kylovesensualitypleasuregel/b014gk947e,ky/067981934427",
         "K-Y",
         "67981934427",
         "K-Y Love Sensuality Pleasure Gel",
         "2016-01-06T00:00:00.000Z",
         "2017-09-11T17:13:57Z",
         "2017-09-04T12:18:00.000Z,2017-08-09T02:12:00.000Z",
         "False",
         "False",
         "113026909.0",
         null,
         "1",
         "https://www.walmart.com/reviews/product/43383370",
         "I read through the reviews on here before looking in to buying one of the couples lubricants, and was ultimately disappointed that it didn't even live up to the reviews I had read. For starters, neither my boyfriend nor I could notice any sort of enhanced or 'captivating' sensation. What we did notice, however, was the messy consistency that was reminiscent of a more liquid-y vaseline. It was difficult to clean up, and was not a pleasant, especially since it lacked the 'captivating' sensation we had both been expecting. I'm disappointed that I paid as much as I did for a lube that I won't use again, when I could just use their normal personal lubricant for 1) less money and 2) less mess.",
         "Disappointed",
         null,
         null,
         "Rebecca",
         "67981934427"
        ],
        [
         "4",
         "AV16khLE-jtxr-f38VFn",
         "K-Y",
         "Personal Care,Medicine Cabinet,Lubricant/Spermicide,Health,Sexual Wellness,Lubricants",
         "2017-07-25T16:26:19Z",
         "2018-02-05T11:25:51Z",
         "67981934427",
         "kylovesensualitypleasuregel/b00u2whx8s,067981934427,0067981934427,kylovesensualitypleasuregel/553550989,kylovesensualitypleasuregel/b014gk947e,ky/067981934427",
         "K-Y",
         "67981934427",
         "K-Y Love Sensuality Pleasure Gel",
         "2016-12-21T00:00:00.000Z",
         "2017-09-11T17:13:57Z",
         "2017-09-04T12:18:00.000Z,2017-08-09T02:12:00.000Z",
         "False",
         "False",
         "171267657.0",
         null,
         "1",
         "https://www.walmart.com/reviews/product/43383370",
         "My husband bought this gel for us. The gel caused irritation and it felt like it was burning my skin. I wouldn't recommend this gel.",
         "Irritation",
         null,
         null,
         "Walker557",
         "67981934427"
        ]
       ],
       "shape": {
        "columns": 25,
        "rows": 5
       }
      },
      "text/html": [
       "<div>\n",
       "<style scoped>\n",
       "    .dataframe tbody tr th:only-of-type {\n",
       "        vertical-align: middle;\n",
       "    }\n",
       "\n",
       "    .dataframe tbody tr th {\n",
       "        vertical-align: top;\n",
       "    }\n",
       "\n",
       "    .dataframe thead th {\n",
       "        text-align: right;\n",
       "    }\n",
       "</style>\n",
       "<table border=\"1\" class=\"dataframe\">\n",
       "  <thead>\n",
       "    <tr style=\"text-align: right;\">\n",
       "      <th></th>\n",
       "      <th>id</th>\n",
       "      <th>brand</th>\n",
       "      <th>categories</th>\n",
       "      <th>dateAdded</th>\n",
       "      <th>dateUpdated</th>\n",
       "      <th>ean</th>\n",
       "      <th>keys</th>\n",
       "      <th>manufacturer</th>\n",
       "      <th>manufacturerNumber</th>\n",
       "      <th>name</th>\n",
       "      <th>...</th>\n",
       "      <th>reviews.id</th>\n",
       "      <th>reviews.numHelpful</th>\n",
       "      <th>reviews.rating</th>\n",
       "      <th>reviews.sourceURLs</th>\n",
       "      <th>reviews.text</th>\n",
       "      <th>reviews.title</th>\n",
       "      <th>reviews.userCity</th>\n",
       "      <th>reviews.userProvince</th>\n",
       "      <th>reviews.username</th>\n",
       "      <th>upc</th>\n",
       "    </tr>\n",
       "  </thead>\n",
       "  <tbody>\n",
       "    <tr>\n",
       "      <th>0</th>\n",
       "      <td>AV13O1A8GV-KLJ3akUyj</td>\n",
       "      <td>Universal Music</td>\n",
       "      <td>Movies, Music &amp; Books,Music,R&amp;b,Movies &amp; TV,Mo...</td>\n",
       "      <td>2017-07-25T00:52:42Z</td>\n",
       "      <td>2018-02-05T08:36:58Z</td>\n",
       "      <td>6.03E+11</td>\n",
       "      <td>602537205981,universalmusic/14331328,universal...</td>\n",
       "      <td>Universal Music Group / Cash Money</td>\n",
       "      <td>14331328</td>\n",
       "      <td>Pink Friday: Roman Reloaded Re-Up (w/dvd)</td>\n",
       "      <td>...</td>\n",
       "      <td>NaN</td>\n",
       "      <td>0.0</td>\n",
       "      <td>5</td>\n",
       "      <td>https://redsky.target.com/groot-domain-api/v1/...</td>\n",
       "      <td>i love this album. it's very good. more to the...</td>\n",
       "      <td>Just Awesome</td>\n",
       "      <td>Los Angeles</td>\n",
       "      <td>NaN</td>\n",
       "      <td>Joshua</td>\n",
       "      <td>6.03E+11</td>\n",
       "    </tr>\n",
       "    <tr>\n",
       "      <th>1</th>\n",
       "      <td>AV14LG0R-jtxr-f38QfS</td>\n",
       "      <td>Lundberg</td>\n",
       "      <td>Food,Packaged Foods,Snacks,Crackers,Snacks, Co...</td>\n",
       "      <td>2017-07-25T05:16:03Z</td>\n",
       "      <td>2018-02-05T11:27:45Z</td>\n",
       "      <td>73416000391</td>\n",
       "      <td>lundbergorganiccinnamontoastricecakes/b000fvzw...</td>\n",
       "      <td>Lundberg</td>\n",
       "      <td>574764</td>\n",
       "      <td>Lundberg Organic Cinnamon Toast Rice Cakes</td>\n",
       "      <td>...</td>\n",
       "      <td>100209113.0</td>\n",
       "      <td>NaN</td>\n",
       "      <td>5</td>\n",
       "      <td>https://www.walmart.com/reviews/product/29775278</td>\n",
       "      <td>Good flavor. This review was collected as part...</td>\n",
       "      <td>Good</td>\n",
       "      <td>NaN</td>\n",
       "      <td>NaN</td>\n",
       "      <td>Dorothy W</td>\n",
       "      <td>73416000391</td>\n",
       "    </tr>\n",
       "    <tr>\n",
       "      <th>2</th>\n",
       "      <td>AV14LG0R-jtxr-f38QfS</td>\n",
       "      <td>Lundberg</td>\n",
       "      <td>Food,Packaged Foods,Snacks,Crackers,Snacks, Co...</td>\n",
       "      <td>2017-07-25T05:16:03Z</td>\n",
       "      <td>2018-02-05T11:27:45Z</td>\n",
       "      <td>73416000391</td>\n",
       "      <td>lundbergorganiccinnamontoastricecakes/b000fvzw...</td>\n",
       "      <td>Lundberg</td>\n",
       "      <td>574764</td>\n",
       "      <td>Lundberg Organic Cinnamon Toast Rice Cakes</td>\n",
       "      <td>...</td>\n",
       "      <td>100209113.0</td>\n",
       "      <td>NaN</td>\n",
       "      <td>5</td>\n",
       "      <td>https://www.walmart.com/reviews/product/29775278</td>\n",
       "      <td>Good flavor.</td>\n",
       "      <td>Good</td>\n",
       "      <td>NaN</td>\n",
       "      <td>NaN</td>\n",
       "      <td>Dorothy W</td>\n",
       "      <td>73416000391</td>\n",
       "    </tr>\n",
       "    <tr>\n",
       "      <th>3</th>\n",
       "      <td>AV16khLE-jtxr-f38VFn</td>\n",
       "      <td>K-Y</td>\n",
       "      <td>Personal Care,Medicine Cabinet,Lubricant/Sperm...</td>\n",
       "      <td>2017-07-25T16:26:19Z</td>\n",
       "      <td>2018-02-05T11:25:51Z</td>\n",
       "      <td>67981934427</td>\n",
       "      <td>kylovesensualitypleasuregel/b00u2whx8s,0679819...</td>\n",
       "      <td>K-Y</td>\n",
       "      <td>67981934427</td>\n",
       "      <td>K-Y Love Sensuality Pleasure Gel</td>\n",
       "      <td>...</td>\n",
       "      <td>113026909.0</td>\n",
       "      <td>NaN</td>\n",
       "      <td>1</td>\n",
       "      <td>https://www.walmart.com/reviews/product/43383370</td>\n",
       "      <td>I read through the reviews on here before look...</td>\n",
       "      <td>Disappointed</td>\n",
       "      <td>NaN</td>\n",
       "      <td>NaN</td>\n",
       "      <td>Rebecca</td>\n",
       "      <td>67981934427</td>\n",
       "    </tr>\n",
       "    <tr>\n",
       "      <th>4</th>\n",
       "      <td>AV16khLE-jtxr-f38VFn</td>\n",
       "      <td>K-Y</td>\n",
       "      <td>Personal Care,Medicine Cabinet,Lubricant/Sperm...</td>\n",
       "      <td>2017-07-25T16:26:19Z</td>\n",
       "      <td>2018-02-05T11:25:51Z</td>\n",
       "      <td>67981934427</td>\n",
       "      <td>kylovesensualitypleasuregel/b00u2whx8s,0679819...</td>\n",
       "      <td>K-Y</td>\n",
       "      <td>67981934427</td>\n",
       "      <td>K-Y Love Sensuality Pleasure Gel</td>\n",
       "      <td>...</td>\n",
       "      <td>171267657.0</td>\n",
       "      <td>NaN</td>\n",
       "      <td>1</td>\n",
       "      <td>https://www.walmart.com/reviews/product/43383370</td>\n",
       "      <td>My husband bought this gel for us. The gel cau...</td>\n",
       "      <td>Irritation</td>\n",
       "      <td>NaN</td>\n",
       "      <td>NaN</td>\n",
       "      <td>Walker557</td>\n",
       "      <td>67981934427</td>\n",
       "    </tr>\n",
       "  </tbody>\n",
       "</table>\n",
       "<p>5 rows × 25 columns</p>\n",
       "</div>"
      ],
      "text/plain": [
       "                     id            brand  \\\n",
       "0  AV13O1A8GV-KLJ3akUyj  Universal Music   \n",
       "1  AV14LG0R-jtxr-f38QfS         Lundberg   \n",
       "2  AV14LG0R-jtxr-f38QfS         Lundberg   \n",
       "3  AV16khLE-jtxr-f38VFn              K-Y   \n",
       "4  AV16khLE-jtxr-f38VFn              K-Y   \n",
       "\n",
       "                                          categories             dateAdded  \\\n",
       "0  Movies, Music & Books,Music,R&b,Movies & TV,Mo...  2017-07-25T00:52:42Z   \n",
       "1  Food,Packaged Foods,Snacks,Crackers,Snacks, Co...  2017-07-25T05:16:03Z   \n",
       "2  Food,Packaged Foods,Snacks,Crackers,Snacks, Co...  2017-07-25T05:16:03Z   \n",
       "3  Personal Care,Medicine Cabinet,Lubricant/Sperm...  2017-07-25T16:26:19Z   \n",
       "4  Personal Care,Medicine Cabinet,Lubricant/Sperm...  2017-07-25T16:26:19Z   \n",
       "\n",
       "            dateUpdated          ean  \\\n",
       "0  2018-02-05T08:36:58Z     6.03E+11   \n",
       "1  2018-02-05T11:27:45Z  73416000391   \n",
       "2  2018-02-05T11:27:45Z  73416000391   \n",
       "3  2018-02-05T11:25:51Z  67981934427   \n",
       "4  2018-02-05T11:25:51Z  67981934427   \n",
       "\n",
       "                                                keys  \\\n",
       "0  602537205981,universalmusic/14331328,universal...   \n",
       "1  lundbergorganiccinnamontoastricecakes/b000fvzw...   \n",
       "2  lundbergorganiccinnamontoastricecakes/b000fvzw...   \n",
       "3  kylovesensualitypleasuregel/b00u2whx8s,0679819...   \n",
       "4  kylovesensualitypleasuregel/b00u2whx8s,0679819...   \n",
       "\n",
       "                         manufacturer manufacturerNumber  \\\n",
       "0  Universal Music Group / Cash Money           14331328   \n",
       "1                            Lundberg             574764   \n",
       "2                            Lundberg             574764   \n",
       "3                                 K-Y        67981934427   \n",
       "4                                 K-Y        67981934427   \n",
       "\n",
       "                                         name  ...   reviews.id  \\\n",
       "0   Pink Friday: Roman Reloaded Re-Up (w/dvd)  ...          NaN   \n",
       "1  Lundberg Organic Cinnamon Toast Rice Cakes  ...  100209113.0   \n",
       "2  Lundberg Organic Cinnamon Toast Rice Cakes  ...  100209113.0   \n",
       "3            K-Y Love Sensuality Pleasure Gel  ...  113026909.0   \n",
       "4            K-Y Love Sensuality Pleasure Gel  ...  171267657.0   \n",
       "\n",
       "  reviews.numHelpful reviews.rating  \\\n",
       "0                0.0              5   \n",
       "1                NaN              5   \n",
       "2                NaN              5   \n",
       "3                NaN              1   \n",
       "4                NaN              1   \n",
       "\n",
       "                                  reviews.sourceURLs  \\\n",
       "0  https://redsky.target.com/groot-domain-api/v1/...   \n",
       "1   https://www.walmart.com/reviews/product/29775278   \n",
       "2   https://www.walmart.com/reviews/product/29775278   \n",
       "3   https://www.walmart.com/reviews/product/43383370   \n",
       "4   https://www.walmart.com/reviews/product/43383370   \n",
       "\n",
       "                                        reviews.text  reviews.title  \\\n",
       "0  i love this album. it's very good. more to the...   Just Awesome   \n",
       "1  Good flavor. This review was collected as part...           Good   \n",
       "2                                       Good flavor.           Good   \n",
       "3  I read through the reviews on here before look...   Disappointed   \n",
       "4  My husband bought this gel for us. The gel cau...     Irritation   \n",
       "\n",
       "   reviews.userCity  reviews.userProvince reviews.username          upc  \n",
       "0       Los Angeles                   NaN           Joshua     6.03E+11  \n",
       "1               NaN                   NaN        Dorothy W  73416000391  \n",
       "2               NaN                   NaN        Dorothy W  73416000391  \n",
       "3               NaN                   NaN          Rebecca  67981934427  \n",
       "4               NaN                   NaN        Walker557  67981934427  \n",
       "\n",
       "[5 rows x 25 columns]"
      ]
     },
     "execution_count": 5,
     "metadata": {},
     "output_type": "execute_result"
    }
   ],
   "source": [
    "df.head(5)"
   ]
  },
  {
   "cell_type": "markdown",
   "id": "cb50b57c",
   "metadata": {},
   "source": [
    "•Create a feature named target by considering that if a customer is pleased by the product, the rating is higher than 3. Any rating below 4 shows that the customer doesn’t like the product. Use column reviews.rating to create feature target (Hint: df['target'] = df['reviews.rating'] < 4 )"
   ]
  },
  {
   "cell_type": "code",
   "execution_count": null,
   "id": "90ec595a",
   "metadata": {},
   "outputs": [],
   "source": []
  },
  {
   "cell_type": "markdown",
   "id": "209b8995",
   "metadata": {},
   "source": [
    "•Create your X with column reviews.text and Y with column target."
   ]
  },
  {
   "cell_type": "code",
   "execution_count": null,
   "id": "a3b78e51",
   "metadata": {},
   "outputs": [],
   "source": []
  },
  {
   "cell_type": "markdown",
   "id": "2c648898",
   "metadata": {},
   "source": [
    "•Split your dataset into train and test in the ratio 80:20"
   ]
  },
  {
   "cell_type": "code",
   "execution_count": null,
   "id": "796a9fa7",
   "metadata": {},
   "outputs": [],
   "source": []
  },
  {
   "cell_type": "markdown",
   "id": "6a9afc94",
   "metadata": {},
   "source": [
    "•Use a tokenizer from Keras to vectorize the text samples into a 2D integer tensor with 20000 words. Fit your tokenizer on train data (MAX_NB_WORDS = 20000)\n",
    "\n",
    "Note: You may use different tokenizers (from scikit-learn, NLTK, custom Python function etc.) This converts text into sequences of indices representing the 20000 most frequent words."
   ]
  },
  {
   "cell_type": "code",
   "execution_count": null,
   "id": "84acc346",
   "metadata": {},
   "outputs": [],
   "source": []
  },
  {
   "cell_type": "markdown",
   "id": "93a9f6f3",
   "metadata": {},
   "source": [
    "•Convert train texts to sequences using the tokenizer texts_to_sequences method"
   ]
  },
  {
   "cell_type": "code",
   "execution_count": null,
   "id": "83b71d04",
   "metadata": {},
   "outputs": [],
   "source": []
  },
  {
   "cell_type": "markdown",
   "id": "432be284",
   "metadata": {},
   "source": [
    "•Convert test texts to sequences using tokenizer texts_to_sequences method"
   ]
  },
  {
   "cell_type": "code",
   "execution_count": null,
   "id": "d28cdb09",
   "metadata": {},
   "outputs": [],
   "source": []
  },
  {
   "cell_type": "markdown",
   "id": "64cd2e81",
   "metadata": {},
   "source": [
    "•Pad train and test sequence (add 0s at the end until the sequence is of length 150). Consider MAX_SEQUENCE_LENGTH = 150 and this step gives x_train and x_test"
   ]
  },
  {
   "cell_type": "code",
   "execution_count": null,
   "id": "f7466742",
   "metadata": {},
   "outputs": [],
   "source": []
  },
  {
   "cell_type": "markdown",
   "id": "40ce936e",
   "metadata": {},
   "source": [
    "•One-hot encode your output classes (True/False)"
   ]
  },
  {
   "cell_type": "code",
   "execution_count": null,
   "id": "5cbcbfb5",
   "metadata": {},
   "outputs": [],
   "source": []
  },
  {
   "cell_type": "markdown",
   "id": "559c2aeb",
   "metadata": {},
   "source": [
    "Build a CNN - LSTM hybrid model with the following layers:\n",
    "•Input layer with input shape = MAX_SEQUENCE_LENGTH and dtype int32\n",
    "\n",
    "•Embedding layer with input dimension = MAX_NB_WORDS, output dimension =50, and input length = MAX_SEQUENCE_LENGTH \n",
    "\n",
    "•Conv1D layer with 64 filters and kernel size 5 and activation relu, followed by MaxPooling1D with pool size = 5 Hint: MaxPool divides the length of the sequence by:\n",
    "•Dropout(0.2)\n",
    "\n",
    "•Conv1D layer with 64 filters and kernel size 5 and activation relu, followed by MaxPooling1D with pool size = 5\n",
    "\n",
    "•Dropout(0.2)\n",
    "\n",
    "•LSTM layer with 64 units\n",
    "\n",
    "•Dense layer with 2 neurons and activation softmax\n"
   ]
  },
  {
   "cell_type": "code",
   "execution_count": null,
   "id": "d5395dc9",
   "metadata": {},
   "outputs": [],
   "source": []
  },
  {
   "cell_type": "markdown",
   "id": "e087879d",
   "metadata": {},
   "source": [
    "•Compile the model with Adam optimizer and metric accuracy"
   ]
  },
  {
   "cell_type": "code",
   "execution_count": null,
   "id": "b0c3031e",
   "metadata": {},
   "outputs": [],
   "source": []
  },
  {
   "cell_type": "markdown",
   "id": "fa2977a6",
   "metadata": {},
   "source": [
    "•Train the model for 5 epochs and batch size 64"
   ]
  },
  {
   "cell_type": "code",
   "execution_count": null,
   "id": "bea33d9d",
   "metadata": {},
   "outputs": [],
   "source": []
  },
  {
   "cell_type": "markdown",
   "id": "c1c8da5e",
   "metadata": {},
   "source": [
    "•Evaluate the model on test text  and print the test loss and accuracy"
   ]
  },
  {
   "cell_type": "code",
   "execution_count": null,
   "id": "0ef827b7",
   "metadata": {},
   "outputs": [],
   "source": []
  },
  {
   "cell_type": "markdown",
   "id": "fc5ffa16",
   "metadata": {},
   "source": [
    "Task B\n",
    "\n",
    "•As a future and take-home task, train the model with the full dataset available in this link - \n",
    "Grammar and Online Product Reviews | Kaggle."
   ]
  },
  {
   "cell_type": "code",
   "execution_count": null,
   "id": "7a9d4d29",
   "metadata": {},
   "outputs": [],
   "source": []
  },
  {
   "cell_type": "markdown",
   "id": "09c65cf4",
   "metadata": {},
   "source": [
    "•Evaluate the model on full test data and compare the performance improvement from a subset of the full dataset"
   ]
  },
  {
   "cell_type": "code",
   "execution_count": null,
   "id": "b0e38fa0",
   "metadata": {},
   "outputs": [],
   "source": []
  }
 ],
 "metadata": {
  "kernelspec": {
   "display_name": ".venv",
   "language": "python",
   "name": "python3"
  },
  "language_info": {
   "codemirror_mode": {
    "name": "ipython",
    "version": 3
   },
   "file_extension": ".py",
   "mimetype": "text/x-python",
   "name": "python",
   "nbconvert_exporter": "python",
   "pygments_lexer": "ipython3",
   "version": "3.12.9"
  }
 },
 "nbformat": 4,
 "nbformat_minor": 5
}
