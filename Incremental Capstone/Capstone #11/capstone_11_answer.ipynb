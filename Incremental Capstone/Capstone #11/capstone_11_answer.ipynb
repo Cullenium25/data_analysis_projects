{
 "cells": [
  {
   "cell_type": "markdown",
   "id": "6dcb5eff",
   "metadata": {},
   "source": [
    "# Problem Statement\n",
    "\n",
    "Aura's e-commerce customer getmeatshirt.com desires to classify customer product reviews into good or bad with the help of a CNN-LSTM hybrid model.\n",
    "\n",
    "## Dataset Description:\n",
    "\n",
    "GrammarandProductReviews.csv [A subset of the dataset with 10000 reviews] to perform this task. This is a list of over 10000 reviews from 1000 different products provided by Datafiniti's Product Database. The dataset includes the text and title of the review, the name and manufacturer of the product, reviewer metadata, and more. We will consider only two columns namely revies.text and reviews.rating."
   ]
  },
  {
   "cell_type": "code",
   "execution_count": 1,
   "id": "4f2c7404",
   "metadata": {},
   "outputs": [
    {
     "name": "stderr",
     "output_type": "stream",
     "text": [
      "2025-04-27 13:26:27.987435: I tensorflow/core/util/port.cc:153] oneDNN custom operations are on. You may see slightly different numerical results due to floating-point round-off errors from different computation orders. To turn them off, set the environment variable `TF_ENABLE_ONEDNN_OPTS=0`.\n",
      "2025-04-27 13:26:27.988029: I external/local_xla/xla/tsl/cuda/cudart_stub.cc:32] Could not find cuda drivers on your machine, GPU will not be used.\n",
      "2025-04-27 13:26:27.990356: I external/local_xla/xla/tsl/cuda/cudart_stub.cc:32] Could not find cuda drivers on your machine, GPU will not be used.\n",
      "2025-04-27 13:26:27.995912: E external/local_xla/xla/stream_executor/cuda/cuda_fft.cc:467] Unable to register cuFFT factory: Attempting to register factory for plugin cuFFT when one has already been registered\n",
      "WARNING: All log messages before absl::InitializeLog() is called are written to STDERR\n",
      "E0000 00:00:1745778388.005687    2669 cuda_dnn.cc:8579] Unable to register cuDNN factory: Attempting to register factory for plugin cuDNN when one has already been registered\n",
      "E0000 00:00:1745778388.008358    2669 cuda_blas.cc:1407] Unable to register cuBLAS factory: Attempting to register factory for plugin cuBLAS when one has already been registered\n",
      "W0000 00:00:1745778388.016022    2669 computation_placer.cc:177] computation placer already registered. Please check linkage and avoid linking the same target more than once.\n",
      "W0000 00:00:1745778388.016039    2669 computation_placer.cc:177] computation placer already registered. Please check linkage and avoid linking the same target more than once.\n",
      "W0000 00:00:1745778388.016040    2669 computation_placer.cc:177] computation placer already registered. Please check linkage and avoid linking the same target more than once.\n",
      "W0000 00:00:1745778388.016041    2669 computation_placer.cc:177] computation placer already registered. Please check linkage and avoid linking the same target more than once.\n",
      "2025-04-27 13:26:28.019306: I tensorflow/core/platform/cpu_feature_guard.cc:210] This TensorFlow binary is optimized to use available CPU instructions in performance-critical operations.\n",
      "To enable the following instructions: AVX2 AVX512F AVX512_VNNI AVX512_BF16 FMA, in other operations, rebuild TensorFlow with the appropriate compiler flags.\n"
     ]
    }
   ],
   "source": [
    "import numpy as np #linear algebra\n",
    "import pandas as pd #data processing, CSV file I/O\n",
    "import matplotlib.pyplot as plt\n",
    "import seaborn as sns\n",
    "\n",
    "# Set random seed\n",
    "np.random.seed(32)\n",
    "\n",
    "# Scikit-learn\n",
    "from sklearn.model_selection import train_test_split\n",
    "from sklearn.metrics import roc_auc_score, confusion_matrix\n",
    "from sklearn.manifold import TSNE\n",
    "from sklearn.preprocessing import StandardScaler\n",
    "\n",
    "# TensorFlow\n",
    "from tensorflow.keras.preprocessing.text import Tokenizer\n",
    "from tensorflow.keras.preprocessing.sequence import pad_sequences\n",
    "from tensorflow.keras.utils import to_categorical\n",
    "from tensorflow.keras.layers import (\n",
    "    Input, Dense, Flatten, Dropout,\n",
    "    LSTM, Conv1D, MaxPooling1D,\n",
    "    GlobalAveragePooling1D, Embedding, Activation)\n",
    "from tensorflow.keras.models import Model\n",
    "\n",
    "# Jupyter magic (only keep if using Jupyter Notebook)\n",
    "# %matplotlib inline"
   ]
  },
  {
   "cell_type": "markdown",
   "id": "c3fb5f5f",
   "metadata": {},
   "source": [
    "# 1. Load GrammarandProductReviews.csv dataset"
   ]
  },
  {
   "cell_type": "code",
   "execution_count": 2,
   "id": "180185d1",
   "metadata": {},
   "outputs": [],
   "source": [
    "df = pd.read_csv('GrammarandProductReviews.csv')"
   ]
  },
  {
   "cell_type": "code",
   "execution_count": 3,
   "id": "59adb1b1",
   "metadata": {},
   "outputs": [
    {
     "data": {
      "application/vnd.microsoft.datawrangler.viewer.v0+json": {
       "columns": [
        {
         "name": "index",
         "rawType": "int64",
         "type": "integer"
        },
        {
         "name": "id",
         "rawType": "object",
         "type": "string"
        },
        {
         "name": "brand",
         "rawType": "object",
         "type": "string"
        },
        {
         "name": "categories",
         "rawType": "object",
         "type": "string"
        },
        {
         "name": "dateAdded",
         "rawType": "object",
         "type": "string"
        },
        {
         "name": "dateUpdated",
         "rawType": "object",
         "type": "string"
        },
        {
         "name": "ean",
         "rawType": "object",
         "type": "string"
        },
        {
         "name": "keys",
         "rawType": "object",
         "type": "string"
        },
        {
         "name": "manufacturer",
         "rawType": "object",
         "type": "string"
        },
        {
         "name": "manufacturerNumber",
         "rawType": "object",
         "type": "string"
        },
        {
         "name": "name",
         "rawType": "object",
         "type": "string"
        },
        {
         "name": "reviews.date",
         "rawType": "object",
         "type": "string"
        },
        {
         "name": "reviews.dateAdded",
         "rawType": "object",
         "type": "string"
        },
        {
         "name": "reviews.dateSeen",
         "rawType": "object",
         "type": "string"
        },
        {
         "name": "reviews.didPurchase",
         "rawType": "object",
         "type": "unknown"
        },
        {
         "name": "reviews.doRecommend",
         "rawType": "object",
         "type": "unknown"
        },
        {
         "name": "reviews.id",
         "rawType": "float64",
         "type": "float"
        },
        {
         "name": "reviews.numHelpful",
         "rawType": "float64",
         "type": "float"
        },
        {
         "name": "reviews.rating",
         "rawType": "int64",
         "type": "integer"
        },
        {
         "name": "reviews.sourceURLs",
         "rawType": "object",
         "type": "string"
        },
        {
         "name": "reviews.text",
         "rawType": "object",
         "type": "string"
        },
        {
         "name": "reviews.title",
         "rawType": "object",
         "type": "string"
        },
        {
         "name": "reviews.userCity",
         "rawType": "object",
         "type": "unknown"
        },
        {
         "name": "reviews.userProvince",
         "rawType": "object",
         "type": "unknown"
        },
        {
         "name": "reviews.username",
         "rawType": "object",
         "type": "string"
        },
        {
         "name": "upc",
         "rawType": "object",
         "type": "string"
        }
       ],
       "conversionMethod": "pd.DataFrame",
       "ref": "0c209fcd-d4cd-40c8-87c8-1b959a596672",
       "rows": [
        [
         "0",
         "AV13O1A8GV-KLJ3akUyj",
         "Universal Music",
         "Movies, Music & Books,Music,R&b,Movies & TV,Movie Bundles & Collections,CDs & Vinyl,Rap & Hip-Hop,Bass,Music on CD or Vinyl,Rap,Hip-Hop,Mainstream Rap,Pop Rap",
         "2017-07-25T00:52:42Z",
         "2018-02-05T08:36:58Z",
         "6.03E+11",
         "602537205981,universalmusic/14331328,universalmusicgroupcashmoney/14331328,pinkfridayromanreloadedreupwdvd/000000000,pinkfridayromanreloadedreupwdvd/b009ntnhju,0602537205981",
         "Universal Music Group / Cash Money",
         "14331328",
         "Pink Friday: Roman Reloaded Re-Up (w/dvd)",
         "2012-11-30T06:21:45.000Z",
         "2018-02-04T07:28:12Z",
         "2018-01-15T04:45:00.000Z,2018-01-18T14:30:00.000Z,2017-12-20T12:28:00.000Z,2017-12-16T05:40:00.000Z,2017-12-07T09:27:00.000Z,2017-11-18T22:25:00.000Z",
         null,
         null,
         null,
         "0.0",
         "5",
         "https://redsky.target.com/groot-domain-api/v1/reviews/14331328?sort=helpfulness_desc&limit=200&offset=0",
         "i love this album. it's very good. more to the hip hop side than her current pop sound.. SO HYPE! i listen to this everyday at the gym! i give it 5star rating all the way. her metaphors are just crazy.",
         "Just Awesome",
         "Los Angeles",
         null,
         "Joshua",
         "6.03E+11"
        ],
        [
         "1",
         "AV14LG0R-jtxr-f38QfS",
         "Lundberg",
         "Food,Packaged Foods,Snacks,Crackers,Snacks, Cookies & Chips,Rice Cakes,Cakes",
         "2017-07-25T05:16:03Z",
         "2018-02-05T11:27:45Z",
         "73416000391",
         "lundbergorganiccinnamontoastricecakes/b000fvzw8y,lundbergorganiccinnamontoastricecakes/b005grcqwc,073416000391,lundbergorganiccinnamontoastricecakes/b0013jlzbu,0073416000391,lundbergorganiccinnamontoastricecakes/555222704,lundberg/00574764,lundbergorganiccinnamontoastricecakes/563800996",
         "Lundberg",
         "574764",
         "Lundberg Organic Cinnamon Toast Rice Cakes",
         "2017-07-09T00:00:00.000Z",
         "2017-09-23T02:53:06Z",
         "2017-09-16T09:45:00.000Z",
         "True",
         null,
         "100209113.0",
         null,
         "5",
         "https://www.walmart.com/reviews/product/29775278",
         "Good flavor. This review was collected as part of a promotion.",
         "Good",
         null,
         null,
         "Dorothy W",
         "73416000391"
        ],
        [
         "2",
         "AV14LG0R-jtxr-f38QfS",
         "Lundberg",
         "Food,Packaged Foods,Snacks,Crackers,Snacks, Cookies & Chips,Rice Cakes,Cakes",
         "2017-07-25T05:16:03Z",
         "2018-02-05T11:27:45Z",
         "73416000391",
         "lundbergorganiccinnamontoastricecakes/b000fvzw8y,lundbergorganiccinnamontoastricecakes/b005grcqwc,073416000391,lundbergorganiccinnamontoastricecakes/b0013jlzbu,0073416000391,lundbergorganiccinnamontoastricecakes/555222704,lundberg/00574764,lundbergorganiccinnamontoastricecakes/563800996",
         "Lundberg",
         "574764",
         "Lundberg Organic Cinnamon Toast Rice Cakes",
         "2017-07-09T00:00:00.000Z",
         "2017-09-06T04:49:31Z",
         "2017-08-23T10:37:00.000Z",
         "True",
         null,
         "100209113.0",
         null,
         "5",
         "https://www.walmart.com/reviews/product/29775278",
         "Good flavor.",
         "Good",
         null,
         null,
         "Dorothy W",
         "73416000391"
        ],
        [
         "3",
         "AV16khLE-jtxr-f38VFn",
         "K-Y",
         "Personal Care,Medicine Cabinet,Lubricant/Spermicide,Health,Sexual Wellness,Lubricants",
         "2017-07-25T16:26:19Z",
         "2018-02-05T11:25:51Z",
         "67981934427",
         "kylovesensualitypleasuregel/b00u2whx8s,067981934427,0067981934427,kylovesensualitypleasuregel/553550989,kylovesensualitypleasuregel/b014gk947e,ky/067981934427",
         "K-Y",
         "67981934427",
         "K-Y Love Sensuality Pleasure Gel",
         "2016-01-06T00:00:00.000Z",
         "2017-09-11T17:13:57Z",
         "2017-09-04T12:18:00.000Z,2017-08-09T02:12:00.000Z",
         "False",
         "False",
         "113026909.0",
         null,
         "1",
         "https://www.walmart.com/reviews/product/43383370",
         "I read through the reviews on here before looking in to buying one of the couples lubricants, and was ultimately disappointed that it didn't even live up to the reviews I had read. For starters, neither my boyfriend nor I could notice any sort of enhanced or 'captivating' sensation. What we did notice, however, was the messy consistency that was reminiscent of a more liquid-y vaseline. It was difficult to clean up, and was not a pleasant, especially since it lacked the 'captivating' sensation we had both been expecting. I'm disappointed that I paid as much as I did for a lube that I won't use again, when I could just use their normal personal lubricant for 1) less money and 2) less mess.",
         "Disappointed",
         null,
         null,
         "Rebecca",
         "67981934427"
        ],
        [
         "4",
         "AV16khLE-jtxr-f38VFn",
         "K-Y",
         "Personal Care,Medicine Cabinet,Lubricant/Spermicide,Health,Sexual Wellness,Lubricants",
         "2017-07-25T16:26:19Z",
         "2018-02-05T11:25:51Z",
         "67981934427",
         "kylovesensualitypleasuregel/b00u2whx8s,067981934427,0067981934427,kylovesensualitypleasuregel/553550989,kylovesensualitypleasuregel/b014gk947e,ky/067981934427",
         "K-Y",
         "67981934427",
         "K-Y Love Sensuality Pleasure Gel",
         "2016-12-21T00:00:00.000Z",
         "2017-09-11T17:13:57Z",
         "2017-09-04T12:18:00.000Z,2017-08-09T02:12:00.000Z",
         "False",
         "False",
         "171267657.0",
         null,
         "1",
         "https://www.walmart.com/reviews/product/43383370",
         "My husband bought this gel for us. The gel caused irritation and it felt like it was burning my skin. I wouldn't recommend this gel.",
         "Irritation",
         null,
         null,
         "Walker557",
         "67981934427"
        ]
       ],
       "shape": {
        "columns": 25,
        "rows": 5
       }
      },
      "text/html": [
       "<div>\n",
       "<style scoped>\n",
       "    .dataframe tbody tr th:only-of-type {\n",
       "        vertical-align: middle;\n",
       "    }\n",
       "\n",
       "    .dataframe tbody tr th {\n",
       "        vertical-align: top;\n",
       "    }\n",
       "\n",
       "    .dataframe thead th {\n",
       "        text-align: right;\n",
       "    }\n",
       "</style>\n",
       "<table border=\"1\" class=\"dataframe\">\n",
       "  <thead>\n",
       "    <tr style=\"text-align: right;\">\n",
       "      <th></th>\n",
       "      <th>id</th>\n",
       "      <th>brand</th>\n",
       "      <th>categories</th>\n",
       "      <th>dateAdded</th>\n",
       "      <th>dateUpdated</th>\n",
       "      <th>ean</th>\n",
       "      <th>keys</th>\n",
       "      <th>manufacturer</th>\n",
       "      <th>manufacturerNumber</th>\n",
       "      <th>name</th>\n",
       "      <th>...</th>\n",
       "      <th>reviews.id</th>\n",
       "      <th>reviews.numHelpful</th>\n",
       "      <th>reviews.rating</th>\n",
       "      <th>reviews.sourceURLs</th>\n",
       "      <th>reviews.text</th>\n",
       "      <th>reviews.title</th>\n",
       "      <th>reviews.userCity</th>\n",
       "      <th>reviews.userProvince</th>\n",
       "      <th>reviews.username</th>\n",
       "      <th>upc</th>\n",
       "    </tr>\n",
       "  </thead>\n",
       "  <tbody>\n",
       "    <tr>\n",
       "      <th>0</th>\n",
       "      <td>AV13O1A8GV-KLJ3akUyj</td>\n",
       "      <td>Universal Music</td>\n",
       "      <td>Movies, Music &amp; Books,Music,R&amp;b,Movies &amp; TV,Mo...</td>\n",
       "      <td>2017-07-25T00:52:42Z</td>\n",
       "      <td>2018-02-05T08:36:58Z</td>\n",
       "      <td>6.03E+11</td>\n",
       "      <td>602537205981,universalmusic/14331328,universal...</td>\n",
       "      <td>Universal Music Group / Cash Money</td>\n",
       "      <td>14331328</td>\n",
       "      <td>Pink Friday: Roman Reloaded Re-Up (w/dvd)</td>\n",
       "      <td>...</td>\n",
       "      <td>NaN</td>\n",
       "      <td>0.0</td>\n",
       "      <td>5</td>\n",
       "      <td>https://redsky.target.com/groot-domain-api/v1/...</td>\n",
       "      <td>i love this album. it's very good. more to the...</td>\n",
       "      <td>Just Awesome</td>\n",
       "      <td>Los Angeles</td>\n",
       "      <td>NaN</td>\n",
       "      <td>Joshua</td>\n",
       "      <td>6.03E+11</td>\n",
       "    </tr>\n",
       "    <tr>\n",
       "      <th>1</th>\n",
       "      <td>AV14LG0R-jtxr-f38QfS</td>\n",
       "      <td>Lundberg</td>\n",
       "      <td>Food,Packaged Foods,Snacks,Crackers,Snacks, Co...</td>\n",
       "      <td>2017-07-25T05:16:03Z</td>\n",
       "      <td>2018-02-05T11:27:45Z</td>\n",
       "      <td>73416000391</td>\n",
       "      <td>lundbergorganiccinnamontoastricecakes/b000fvzw...</td>\n",
       "      <td>Lundberg</td>\n",
       "      <td>574764</td>\n",
       "      <td>Lundberg Organic Cinnamon Toast Rice Cakes</td>\n",
       "      <td>...</td>\n",
       "      <td>100209113.0</td>\n",
       "      <td>NaN</td>\n",
       "      <td>5</td>\n",
       "      <td>https://www.walmart.com/reviews/product/29775278</td>\n",
       "      <td>Good flavor. This review was collected as part...</td>\n",
       "      <td>Good</td>\n",
       "      <td>NaN</td>\n",
       "      <td>NaN</td>\n",
       "      <td>Dorothy W</td>\n",
       "      <td>73416000391</td>\n",
       "    </tr>\n",
       "    <tr>\n",
       "      <th>2</th>\n",
       "      <td>AV14LG0R-jtxr-f38QfS</td>\n",
       "      <td>Lundberg</td>\n",
       "      <td>Food,Packaged Foods,Snacks,Crackers,Snacks, Co...</td>\n",
       "      <td>2017-07-25T05:16:03Z</td>\n",
       "      <td>2018-02-05T11:27:45Z</td>\n",
       "      <td>73416000391</td>\n",
       "      <td>lundbergorganiccinnamontoastricecakes/b000fvzw...</td>\n",
       "      <td>Lundberg</td>\n",
       "      <td>574764</td>\n",
       "      <td>Lundberg Organic Cinnamon Toast Rice Cakes</td>\n",
       "      <td>...</td>\n",
       "      <td>100209113.0</td>\n",
       "      <td>NaN</td>\n",
       "      <td>5</td>\n",
       "      <td>https://www.walmart.com/reviews/product/29775278</td>\n",
       "      <td>Good flavor.</td>\n",
       "      <td>Good</td>\n",
       "      <td>NaN</td>\n",
       "      <td>NaN</td>\n",
       "      <td>Dorothy W</td>\n",
       "      <td>73416000391</td>\n",
       "    </tr>\n",
       "    <tr>\n",
       "      <th>3</th>\n",
       "      <td>AV16khLE-jtxr-f38VFn</td>\n",
       "      <td>K-Y</td>\n",
       "      <td>Personal Care,Medicine Cabinet,Lubricant/Sperm...</td>\n",
       "      <td>2017-07-25T16:26:19Z</td>\n",
       "      <td>2018-02-05T11:25:51Z</td>\n",
       "      <td>67981934427</td>\n",
       "      <td>kylovesensualitypleasuregel/b00u2whx8s,0679819...</td>\n",
       "      <td>K-Y</td>\n",
       "      <td>67981934427</td>\n",
       "      <td>K-Y Love Sensuality Pleasure Gel</td>\n",
       "      <td>...</td>\n",
       "      <td>113026909.0</td>\n",
       "      <td>NaN</td>\n",
       "      <td>1</td>\n",
       "      <td>https://www.walmart.com/reviews/product/43383370</td>\n",
       "      <td>I read through the reviews on here before look...</td>\n",
       "      <td>Disappointed</td>\n",
       "      <td>NaN</td>\n",
       "      <td>NaN</td>\n",
       "      <td>Rebecca</td>\n",
       "      <td>67981934427</td>\n",
       "    </tr>\n",
       "    <tr>\n",
       "      <th>4</th>\n",
       "      <td>AV16khLE-jtxr-f38VFn</td>\n",
       "      <td>K-Y</td>\n",
       "      <td>Personal Care,Medicine Cabinet,Lubricant/Sperm...</td>\n",
       "      <td>2017-07-25T16:26:19Z</td>\n",
       "      <td>2018-02-05T11:25:51Z</td>\n",
       "      <td>67981934427</td>\n",
       "      <td>kylovesensualitypleasuregel/b00u2whx8s,0679819...</td>\n",
       "      <td>K-Y</td>\n",
       "      <td>67981934427</td>\n",
       "      <td>K-Y Love Sensuality Pleasure Gel</td>\n",
       "      <td>...</td>\n",
       "      <td>171267657.0</td>\n",
       "      <td>NaN</td>\n",
       "      <td>1</td>\n",
       "      <td>https://www.walmart.com/reviews/product/43383370</td>\n",
       "      <td>My husband bought this gel for us. The gel cau...</td>\n",
       "      <td>Irritation</td>\n",
       "      <td>NaN</td>\n",
       "      <td>NaN</td>\n",
       "      <td>Walker557</td>\n",
       "      <td>67981934427</td>\n",
       "    </tr>\n",
       "  </tbody>\n",
       "</table>\n",
       "<p>5 rows × 25 columns</p>\n",
       "</div>"
      ],
      "text/plain": [
       "                     id            brand  \\\n",
       "0  AV13O1A8GV-KLJ3akUyj  Universal Music   \n",
       "1  AV14LG0R-jtxr-f38QfS         Lundberg   \n",
       "2  AV14LG0R-jtxr-f38QfS         Lundberg   \n",
       "3  AV16khLE-jtxr-f38VFn              K-Y   \n",
       "4  AV16khLE-jtxr-f38VFn              K-Y   \n",
       "\n",
       "                                          categories             dateAdded  \\\n",
       "0  Movies, Music & Books,Music,R&b,Movies & TV,Mo...  2017-07-25T00:52:42Z   \n",
       "1  Food,Packaged Foods,Snacks,Crackers,Snacks, Co...  2017-07-25T05:16:03Z   \n",
       "2  Food,Packaged Foods,Snacks,Crackers,Snacks, Co...  2017-07-25T05:16:03Z   \n",
       "3  Personal Care,Medicine Cabinet,Lubricant/Sperm...  2017-07-25T16:26:19Z   \n",
       "4  Personal Care,Medicine Cabinet,Lubricant/Sperm...  2017-07-25T16:26:19Z   \n",
       "\n",
       "            dateUpdated          ean  \\\n",
       "0  2018-02-05T08:36:58Z     6.03E+11   \n",
       "1  2018-02-05T11:27:45Z  73416000391   \n",
       "2  2018-02-05T11:27:45Z  73416000391   \n",
       "3  2018-02-05T11:25:51Z  67981934427   \n",
       "4  2018-02-05T11:25:51Z  67981934427   \n",
       "\n",
       "                                                keys  \\\n",
       "0  602537205981,universalmusic/14331328,universal...   \n",
       "1  lundbergorganiccinnamontoastricecakes/b000fvzw...   \n",
       "2  lundbergorganiccinnamontoastricecakes/b000fvzw...   \n",
       "3  kylovesensualitypleasuregel/b00u2whx8s,0679819...   \n",
       "4  kylovesensualitypleasuregel/b00u2whx8s,0679819...   \n",
       "\n",
       "                         manufacturer manufacturerNumber  \\\n",
       "0  Universal Music Group / Cash Money           14331328   \n",
       "1                            Lundberg             574764   \n",
       "2                            Lundberg             574764   \n",
       "3                                 K-Y        67981934427   \n",
       "4                                 K-Y        67981934427   \n",
       "\n",
       "                                         name  ...   reviews.id  \\\n",
       "0   Pink Friday: Roman Reloaded Re-Up (w/dvd)  ...          NaN   \n",
       "1  Lundberg Organic Cinnamon Toast Rice Cakes  ...  100209113.0   \n",
       "2  Lundberg Organic Cinnamon Toast Rice Cakes  ...  100209113.0   \n",
       "3            K-Y Love Sensuality Pleasure Gel  ...  113026909.0   \n",
       "4            K-Y Love Sensuality Pleasure Gel  ...  171267657.0   \n",
       "\n",
       "  reviews.numHelpful reviews.rating  \\\n",
       "0                0.0              5   \n",
       "1                NaN              5   \n",
       "2                NaN              5   \n",
       "3                NaN              1   \n",
       "4                NaN              1   \n",
       "\n",
       "                                  reviews.sourceURLs  \\\n",
       "0  https://redsky.target.com/groot-domain-api/v1/...   \n",
       "1   https://www.walmart.com/reviews/product/29775278   \n",
       "2   https://www.walmart.com/reviews/product/29775278   \n",
       "3   https://www.walmart.com/reviews/product/43383370   \n",
       "4   https://www.walmart.com/reviews/product/43383370   \n",
       "\n",
       "                                        reviews.text  reviews.title  \\\n",
       "0  i love this album. it's very good. more to the...   Just Awesome   \n",
       "1  Good flavor. This review was collected as part...           Good   \n",
       "2                                       Good flavor.           Good   \n",
       "3  I read through the reviews on here before look...   Disappointed   \n",
       "4  My husband bought this gel for us. The gel cau...     Irritation   \n",
       "\n",
       "   reviews.userCity  reviews.userProvince reviews.username          upc  \n",
       "0       Los Angeles                   NaN           Joshua     6.03E+11  \n",
       "1               NaN                   NaN        Dorothy W  73416000391  \n",
       "2               NaN                   NaN        Dorothy W  73416000391  \n",
       "3               NaN                   NaN          Rebecca  67981934427  \n",
       "4               NaN                   NaN        Walker557  67981934427  \n",
       "\n",
       "[5 rows x 25 columns]"
      ]
     },
     "execution_count": 3,
     "metadata": {},
     "output_type": "execute_result"
    }
   ],
   "source": [
    "df.head()"
   ]
  },
  {
   "cell_type": "markdown",
   "id": "6a60a9de",
   "metadata": {},
   "source": [
    "We will only consider the text of the reviews and the ratings.\n",
    "\n",
    "We are going to make an approximation oin order to predict from the text the satisfaction level of the customer"
   ]
  },
  {
   "cell_type": "code",
   "execution_count": 4,
   "id": "fbf970b5",
   "metadata": {},
   "outputs": [
    {
     "data": {
      "text/plain": [
       "(array([ 249.,    0.,  145.,    0.,    0.,  453.,    0., 2856.,    0.,\n",
       "        6298.]),\n",
       " array([1. , 1.4, 1.8, 2.2, 2.6, 3. , 3.4, 3.8, 4.2, 4.6, 5. ]),\n",
       " <BarContainer object of 10 artists>)"
      ]
     },
     "execution_count": 4,
     "metadata": {},
     "output_type": "execute_result"
    },
    {
     "data": {
      "image/png": "[encoded data removed]",
      "text/plain": [
       "<Figure size 640x480 with 1 Axes>"
      ]
     },
     "metadata": {},
     "output_type": "display_data"
    }
   ],
   "source": [
    "plt.hist(df['reviews.rating'])"
   ]
  },
  {
   "cell_type": "markdown",
   "id": "4fd540cb",
   "metadata": {},
   "source": [
    "## Observation\n",
    "- The histogram plot shows the distribution/count of each ratings in the dataset"
   ]
  },
  {
   "cell_type": "markdown",
   "id": "6363a4be",
   "metadata": {},
   "source": [
    "# 2. Create a feature named target by considering that a customer is pleased by the product if the rating is higher than 3. Any rating below 4 shows that the customer doesn't like the product. Use column reviews.rating to create feature target"
   ]
  },
  {
   "cell_type": "code",
   "execution_count": 5,
   "id": "e2c09c1c",
   "metadata": {},
   "outputs": [],
   "source": [
    "df['target'] = df['reviews.rating'].apply(lambda x: 1 if x > 3 else 0)\n",
    "# or\n",
    "df['target'] = df['reviews.rating']<4"
   ]
  },
  {
   "cell_type": "code",
   "execution_count": 6,
   "id": "8d3f6e3c",
   "metadata": {},
   "outputs": [
    {
     "data": {
      "text/plain": [
       "(array([9154.,    0.,    0.,    0.,    0.,    0.,    0.,    0.,    0.,\n",
       "         847.]),\n",
       " array([0. , 0.1, 0.2, 0.3, 0.4, 0.5, 0.6, 0.7, 0.8, 0.9, 1. ]),\n",
       " <BarContainer object of 10 artists>)"
      ]
     },
     "execution_count": 6,
     "metadata": {},
     "output_type": "execute_result"
    },
    {
     "data": {
      "image/png": "[encoded data removed]",
      "text/plain": [
       "<Figure size 640x480 with 1 Axes>"
      ]
     },
     "metadata": {},
     "output_type": "display_data"
    }
   ],
   "source": [
    "plt.hist(df['target'].astype(str))"
   ]
  },
  {
   "cell_type": "markdown",
   "id": "896b5a08",
   "metadata": {},
   "source": [
    "## Observation\n",
    "- The histogram plot shows the distribution of our good and bad reviews\n",
    "\n",
    "We can see that we have a lot of \"happy\" customers due to our target distribution"
   ]
  },
  {
   "cell_type": "markdown",
   "id": "24a71c4b",
   "metadata": {},
   "source": [
    "# 3. Create your X with column reviews.text and Y with column target\n",
    "\n",
    "# 4. Split your dataset into train and test in the ratio 80:20"
   ]
  },
  {
   "cell_type": "code",
   "execution_count": 7,
   "id": "c37d0a00",
   "metadata": {},
   "outputs": [],
   "source": [
    "train_text, test_text, train_y, test_y = train_test_split(df['reviews.text'], df['target'], test_size=0.2)"
   ]
  },
  {
   "cell_type": "code",
   "execution_count": 8,
   "id": "86d555c8",
   "metadata": {},
   "outputs": [
    {
     "data": {
      "text/plain": [
       "(8000,)"
      ]
     },
     "execution_count": 8,
     "metadata": {},
     "output_type": "execute_result"
    }
   ],
   "source": [
    "train_text.shape"
   ]
  },
  {
   "cell_type": "markdown",
   "id": "530ca71e",
   "metadata": {},
   "source": [
    "# 5. Use tokenizer from Keras to vectorize the text samples into a 2D integer tensor with 20000 words. Fit your tokenizer on train data. (Max_NB_WORDS = 20000)\n",
    "\n",
    "Preprocessing text for the (supervised)\n",
    "\n",
    "Raw text requires (sometimes a lot of) preprocessing\n",
    "\n",
    "The following cells uses Keras to preprocess text:\n",
    "\n",
    "- using a tokenizer. You may use different tokenizers (from scikit-learn, NlTK, custom python function etc.) This converts the texts into sequences of indices representing the 20000 most frequent words.\n",
    "- sequences have different lengths, so we pad them (add 0s at the end until the sequence is of 1000)\n",
    "- we convert the output classes as 1-hot encodings\n"
   ]
  },
  {
   "cell_type": "code",
   "execution_count": 9,
   "id": "d86f4b25",
   "metadata": {},
   "outputs": [],
   "source": [
    "MAX_NB_WORDS = 20000\n",
    "\n",
    "# get the raw text data\n",
    "texts_train = train_text.astype(str)\n",
    "texts_test = test_text.astype(str)\n",
    "\n",
    "# finally, vectorize the text samples into a 2D integer tensor\n",
    "tokenizer = Tokenizer(num_words=MAX_NB_WORDS, char_level=False)\n",
    "tokenizer.fit_on_texts(texts_train)"
   ]
  },
  {
   "cell_type": "markdown",
   "id": "2bfa263d",
   "metadata": {},
   "source": [
    "# 6. Convert train texts to sequences using tokenizer texts_to_seqeuences method."
   ]
  },
  {
   "cell_type": "code",
   "execution_count": 10,
   "id": "250f7514",
   "metadata": {},
   "outputs": [],
   "source": [
    "sequences = tokenizer.texts_to_sequences(texts_train)"
   ]
  },
  {
   "cell_type": "markdown",
   "id": "d75a50a4",
   "metadata": {},
   "source": [
    "# 7. Convert test texts to sequences using tokenizers texts_to_sequences method"
   ]
  },
  {
   "cell_type": "code",
   "execution_count": 11,
   "id": "22854c46",
   "metadata": {},
   "outputs": [
    {
     "name": "stdout",
     "output_type": "stream",
     "text": [
      "Found 9279 unique tokens.\n"
     ]
    }
   ],
   "source": [
    "sequences_test = tokenizer.texts_to_sequences(texts_test)\n",
    "word_index = tokenizer.word_index\n",
    "print('Found %s unique tokens.' % len(word_index))"
   ]
  },
  {
   "cell_type": "code",
   "execution_count": 12,
   "id": "53f0660f",
   "metadata": {},
   "outputs": [
    {
     "data": {
      "text/plain": [
       "[115,\n",
       " 51,\n",
       " 58,\n",
       " 26,\n",
       " 1017,\n",
       " 43,\n",
       " 488,\n",
       " 26,\n",
       " 224,\n",
       " 270,\n",
       " 4,\n",
       " 826,\n",
       " 5,\n",
       " 15,\n",
       " 9,\n",
       " 16,\n",
       " 10,\n",
       " 14,\n",
       " 8,\n",
       " 3,\n",
       " 17]"
      ]
     },
     "execution_count": 12,
     "metadata": {},
     "output_type": "execute_result"
    }
   ],
   "source": [
    "sequences[0]"
   ]
  },
  {
   "cell_type": "markdown",
   "id": "3688ed77",
   "metadata": {},
   "source": [
    "The tokenizer object stores a mapping (vocabulary) from word strings to token ids that can be inverted to reconstruct the original message (without formatting):"
   ]
  },
  {
   "cell_type": "code",
   "execution_count": 13,
   "id": "9e711bb8",
   "metadata": {},
   "outputs": [
    {
     "data": {
      "text/plain": [
       "(dict, 9279)"
      ]
     },
     "execution_count": 13,
     "metadata": {},
     "output_type": "execute_result"
    }
   ],
   "source": [
    "type(tokenizer.word_index), len(tokenizer.word_index)"
   ]
  },
  {
   "cell_type": "code",
   "execution_count": 14,
   "id": "b68c988f",
   "metadata": {},
   "outputs": [],
   "source": [
    "index_to_word = dict((i,w) for w, i in tokenizer.word_index.items())"
   ]
  },
  {
   "cell_type": "code",
   "execution_count": 15,
   "id": "35ccc40b",
   "metadata": {},
   "outputs": [
    {
     "data": {
      "text/plain": [
       "'works really well on picking up spills on both carpet and tile this review was collected as part of a promotion'"
      ]
     },
     "execution_count": 15,
     "metadata": {},
     "output_type": "execute_result"
    }
   ],
   "source": [
    "\" \".join([index_to_word[i] for i in sequences[0]])"
   ]
  },
  {
   "cell_type": "markdown",
   "id": "ebc8e6ca",
   "metadata": {},
   "source": [
    "The above code shows how to convert tokenized indicies back to sentences\n",
    "\n",
    "Let's have a closer look at the tokenized sequences:"
   ]
  },
  {
   "cell_type": "code",
   "execution_count": 16,
   "id": "70c00f38",
   "metadata": {},
   "outputs": [
    {
     "name": "stdout",
     "output_type": "stream",
     "text": [
      "average length: 32.3\n",
      "max length: 1036\n"
     ]
    }
   ],
   "source": [
    "seq_lens = [len(s) for s in sequences]\n",
    "print(\"average length: %0.1f\" % np.mean(seq_lens))\n",
    "print(\"max length: %d\" % np.max(seq_lens))"
   ]
  },
  {
   "cell_type": "code",
   "execution_count": 17,
   "id": "e2a2d0ce",
   "metadata": {},
   "outputs": [
    {
     "name": "stdout",
     "output_type": "stream",
     "text": [
      "Using matplotlib backend: module://matplotlib_inline.backend_inline\n"
     ]
    },
    {
     "data": {
      "text/plain": [
       "(array([3.255e+03, 3.170e+03, 8.440e+02, 3.190e+02, 1.560e+02, 7.800e+01,\n",
       "        6.500e+01, 3.600e+01, 2.100e+01, 1.700e+01, 1.000e+01, 7.000e+00,\n",
       "        3.000e+00, 3.000e+00, 3.000e+00, 3.000e+00, 0.000e+00, 2.000e+00,\n",
       "        0.000e+00, 1.000e+00, 3.000e+00, 0.000e+00, 0.000e+00, 0.000e+00,\n",
       "        0.000e+00, 0.000e+00, 0.000e+00, 0.000e+00, 0.000e+00, 0.000e+00,\n",
       "        0.000e+00, 0.000e+00, 0.000e+00, 1.000e+00, 0.000e+00, 0.000e+00,\n",
       "        0.000e+00, 0.000e+00, 0.000e+00, 0.000e+00, 0.000e+00, 0.000e+00,\n",
       "        0.000e+00, 0.000e+00, 0.000e+00, 0.000e+00, 0.000e+00, 0.000e+00,\n",
       "        1.000e+00, 2.000e+00]),\n",
       " array([   0.  ,   20.72,   41.44,   62.16,   82.88,  103.6 ,  124.32,\n",
       "         145.04,  165.76,  186.48,  207.2 ,  227.92,  248.64,  269.36,\n",
       "         290.08,  310.8 ,  331.52,  352.24,  372.96,  393.68,  414.4 ,\n",
       "         435.12,  455.84,  476.56,  497.28,  518.  ,  538.72,  559.44,\n",
       "         580.16,  600.88,  621.6 ,  642.32,  663.04,  683.76,  704.48,\n",
       "         725.2 ,  745.92,  766.64,  787.36,  808.08,  828.8 ,  849.52,\n",
       "         870.24,  890.96,  911.68,  932.4 ,  953.12,  973.84,  994.56,\n",
       "        1015.28, 1036.  ]),\n",
       " <BarContainer object of 50 artists>)"
      ]
     },
     "execution_count": 17,
     "metadata": {},
     "output_type": "execute_result"
    },
    {
     "data": {
      "image/png": "[encoded data removed]",
      "text/plain": [
       "<Figure size 640x480 with 1 Axes>"
      ]
     },
     "metadata": {},
     "output_type": "display_data"
    }
   ],
   "source": [
    "%matplotlib\n",
    "import matplotlib.pyplot as plt\n",
    "\n",
    "plt.hist(seq_lens, bins=50)"
   ]
  },
  {
   "cell_type": "markdown",
   "id": "ef633fda",
   "metadata": {},
   "source": [
    "## Observations\n",
    "- The histogram plot shows the number of words in reviews\n",
    "\n",
    "Let's zoom on the distribution of regular sized posts. The vast majority of the posts have less than 200 symbols:"
   ]
  },
  {
   "cell_type": "code",
   "execution_count": 18,
   "id": "e000da11",
   "metadata": {},
   "outputs": [
    {
     "data": {
      "text/plain": [
       "(array([9.000e+01, 1.500e+02, 7.540e+02, 1.033e+03, 9.320e+02, 1.077e+03,\n",
       "        8.040e+02, 6.270e+02, 4.810e+02, 3.460e+02, 2.560e+02, 1.970e+02,\n",
       "        1.810e+02, 1.460e+02, 1.250e+02, 8.800e+01, 8.300e+01, 8.300e+01,\n",
       "        6.800e+01, 3.900e+01, 4.200e+01, 3.700e+01, 3.100e+01, 3.100e+01,\n",
       "        1.800e+01, 2.500e+01, 1.800e+01, 1.600e+01, 1.200e+01, 1.200e+01,\n",
       "        1.900e+01, 8.000e+00, 1.100e+01, 9.000e+00, 1.900e+01, 1.600e+01,\n",
       "        1.100e+01, 8.000e+00, 8.000e+00, 6.000e+00, 5.000e+00, 2.000e+00,\n",
       "        1.000e+00, 2.000e+00, 6.000e+00, 7.000e+00, 4.000e+00, 4.000e+00,\n",
       "        4.000e+00, 2.000e+00]),\n",
       " array([  0.  ,   3.98,   7.96,  11.94,  15.92,  19.9 ,  23.88,  27.86,\n",
       "         31.84,  35.82,  39.8 ,  43.78,  47.76,  51.74,  55.72,  59.7 ,\n",
       "         63.68,  67.66,  71.64,  75.62,  79.6 ,  83.58,  87.56,  91.54,\n",
       "         95.52,  99.5 , 103.48, 107.46, 111.44, 115.42, 119.4 , 123.38,\n",
       "        127.36, 131.34, 135.32, 139.3 , 143.28, 147.26, 151.24, 155.22,\n",
       "        159.2 , 163.18, 167.16, 171.14, 175.12, 179.1 , 183.08, 187.06,\n",
       "        191.04, 195.02, 199.  ]),\n",
       " <BarContainer object of 50 artists>)"
      ]
     },
     "execution_count": 18,
     "metadata": {},
     "output_type": "execute_result"
    },
    {
     "data": {
      "image/png": "[encoded data removed]",
      "text/plain": [
       "<Figure size 640x480 with 1 Axes>"
      ]
     },
     "metadata": {},
     "output_type": "display_data"
    }
   ],
   "source": [
    "plt.hist([l for l in seq_lens if l <200], bins=50)"
   ]
  },
  {
   "cell_type": "markdown",
   "id": "2810e671",
   "metadata": {},
   "source": [
    "## Observation\n",
    "- The histogram plot shows the most of the reviews has words less than 200"
   ]
  },
  {
   "cell_type": "markdown",
   "id": "a834efc0",
   "metadata": {},
   "source": [
    "# 8. Pad train and test sequence (add 0s at the end until the sequence is of length 150). Consider MAX_SEQUENCE_LENGTH = 150 and this step gives your x_train and x_text"
   ]
  },
  {
   "cell_type": "code",
   "execution_count": 19,
   "id": "6aea051b",
   "metadata": {},
   "outputs": [
    {
     "name": "stdout",
     "output_type": "stream",
     "text": [
      "Shape of data tensor: (8000, 150)\n",
      "Shape of data text tensor: (2001, 150)\n"
     ]
    }
   ],
   "source": [
    "MAX_SEQUENCE_LENGTH = 150\n",
    "\n",
    "# pad sequences with 0s\n",
    "x_train = pad_sequences(sequences, maxlen=MAX_SEQUENCE_LENGTH)\n",
    "x_test = pad_sequences(sequences_test, maxlen=MAX_SEQUENCE_LENGTH)\n",
    "print('Shape of data tensor:', x_train.shape)\n",
    "print('Shape of data text tensor:', x_test.shape)"
   ]
  },
  {
   "cell_type": "markdown",
   "id": "1ef2ea4a",
   "metadata": {},
   "source": [
    "# 9. One-hot encode your output classess (true/false)"
   ]
  },
  {
   "cell_type": "code",
   "execution_count": 20,
   "id": "30ff580d",
   "metadata": {},
   "outputs": [
    {
     "name": "stdout",
     "output_type": "stream",
     "text": [
      "Shape of label tensor: (8000, 2)\n",
      "Shape of label tensor: (2001, 2)\n"
     ]
    }
   ],
   "source": [
    "y_train = train_y\n",
    "y_test = test_y\n",
    "\n",
    "y_train = to_categorical(np.asarray(y_train))\n",
    "print('Shape of label tensor:', y_train.shape)\n",
    "y_test = to_categorical(np.asarray(y_test))\n",
    "print('Shape of label tensor:', y_test.shape)"
   ]
  },
  {
   "cell_type": "code",
   "execution_count": 21,
   "id": "dfc8bed5",
   "metadata": {},
   "outputs": [
    {
     "data": {
      "text/plain": [
       "array([[1., 0.],\n",
       "       [1., 0.],\n",
       "       [1., 0.],\n",
       "       ...,\n",
       "       [1., 0.],\n",
       "       [1., 0.],\n",
       "       [1., 0.]])"
      ]
     },
     "execution_count": 21,
     "metadata": {},
     "output_type": "execute_result"
    }
   ],
   "source": [
    "y_train"
   ]
  },
  {
   "cell_type": "markdown",
   "id": "ea867385",
   "metadata": {},
   "source": [
    "# 10 Build a CNN - LSTM hybrid model with the following layers:\n",
    "•Input layer with input shape = MAX_SEQUENCE_LENGTH and dtype int32\n",
    "\n",
    "•Embedding layer with input dimension = MAX_NB_WORDS, output dimension =50, and input length = MAX_SEQUENCE_LENGTH \n",
    "\n",
    "•Conv1D layer with 64 filters and kernel size 5 and activation relu, followed by MaxPooling1D with pool size = 5 \n",
    "\n",
    "Hint: MaxPool divides the length of the sequence by:\n",
    "\n",
    "•Dropout(0.2)\n",
    "\n",
    "•Conv1D layer with 64 filters and kernel size 5 and activation relu, followed by MaxPooling1D with pool size = 5\n",
    "\n",
    "•Dropout(0.2)\n",
    "\n",
    "•LSTM layer with 64 units\n",
    "\n",
    "•Dense layer with 2 neurons and activation softmax\n"
   ]
  },
  {
   "cell_type": "markdown",
   "id": "13779406",
   "metadata": {},
   "source": [
    "A simple supervised model in Keras\n",
    "\n",
    "Vector space model is well known in information retrieval where each document is represented as a vector. The vector components represent weights or importance of each word in the document. The similarity between two documents is computed using the cosine similarity measure."
   ]
  },
  {
   "cell_type": "code",
   "execution_count": 22,
   "id": "41704643",
   "metadata": {},
   "outputs": [
    {
     "name": "stderr",
     "output_type": "stream",
     "text": [
      "/home/cullen-fedora/Documents/Python-Projects/.venv/lib/python3.12/site-packages/keras/src/layers/core/embedding.py:90: UserWarning: Argument `input_length` is deprecated. Just remove it.\n",
      "  warnings.warn(\n",
      "2025-04-27 13:26:30.370271: E external/local_xla/xla/stream_executor/cuda/cuda_platform.cc:51] failed call to cuInit: INTERNAL: CUDA error: Failed call to cuInit: UNKNOWN ERROR (303)\n"
     ]
    }
   ],
   "source": [
    "EMBEDDING_DIM = 50\n",
    "N_CLASSES = 2\n",
    "\n",
    "# input: a sequence of MAX_SEQEUENCE_LENGTH integers\n",
    "sequence_input = Input(shape=(MAX_SEQUENCE_LENGTH,), dtype='int32')\n",
    "\n",
    "embedding_layer = Embedding(MAX_NB_WORDS, EMBEDDING_DIM, \n",
    "                            input_length=MAX_SEQUENCE_LENGTH,\n",
    "                            trainable=True)\n",
    "embedded_sequences = embedding_layer(sequence_input)\n",
    "\n",
    "# 1D convolution with 64 output channels\n",
    "x = Conv1D(64, 5) (embedded_sequences)\n",
    "x = Activation('relu')(x)\n",
    "# MaxPool divides the length of the sequence by 5\n",
    "x = MaxPooling1D(5)(x)\n",
    "x = Dropout(0.2)(x)\n",
    "x = Conv1D(64, 5)(x)\n",
    "x = Activation('relu')(x)\n",
    "x = MaxPooling1D(5)(x)\n",
    "# LSTM layer with a hidden size of 64\n",
    "x = Dropout(0.2)(x)\n",
    "x = LSTM(64)(x)\n",
    "predictions = Dense(2, activation='softmax')(x)\n",
    "\n",
    "model = Model(sequence_input, predictions)"
   ]
  },
  {
   "cell_type": "markdown",
   "id": "18dfe553",
   "metadata": {},
   "source": [
    "We have built an embedding layer mapping each word to a vector representation.\n",
    "\n",
    "The goal here is to compute the vector representation of all words in each sequence and average them"
   ]
  },
  {
   "cell_type": "markdown",
   "id": "4bb31f85",
   "metadata": {},
   "source": [
    "# 11. Compile the model with Adam optimizer and metric accuracy"
   ]
  },
  {
   "cell_type": "code",
   "execution_count": 23,
   "id": "ba33e285",
   "metadata": {},
   "outputs": [],
   "source": [
    "model.compile(loss='categorical_crossentropy',\n",
    "              optimizer='adam',\n",
    "              metrics=['accuracy'])"
   ]
  },
  {
   "cell_type": "markdown",
   "id": "a72d45eb",
   "metadata": {},
   "source": [
    "•Train the model for 5 epochs and batch size 64"
   ]
  },
  {
   "cell_type": "code",
   "execution_count": 24,
   "id": "928950cd",
   "metadata": {},
   "outputs": [
    {
     "name": "stdout",
     "output_type": "stream",
     "text": [
      "Epoch 1/5\n",
      "\u001b[1m113/113\u001b[0m \u001b[32m━━━━━━━━━━━━━━━━━━━━\u001b[0m\u001b[37m\u001b[0m \u001b[1m2s\u001b[0m 9ms/step - accuracy: 0.8884 - loss: 0.3603 - val_accuracy: 0.9112 - val_loss: 0.2951\n",
      "Epoch 2/5\n",
      "\u001b[1m113/113\u001b[0m \u001b[32m━━━━━━━━━━━━━━━━━━━━\u001b[0m\u001b[37m\u001b[0m \u001b[1m1s\u001b[0m 7ms/step - accuracy: 0.9213 - loss: 0.2600 - val_accuracy: 0.9112 - val_loss: 0.2570\n",
      "Epoch 3/5\n",
      "\u001b[1m113/113\u001b[0m \u001b[32m━━━━━━━━━━━━━━━━━━━━\u001b[0m\u001b[37m\u001b[0m \u001b[1m1s\u001b[0m 7ms/step - accuracy: 0.9253 - loss: 0.2106 - val_accuracy: 0.9237 - val_loss: 0.2240\n",
      "Epoch 4/5\n",
      "\u001b[1m113/113\u001b[0m \u001b[32m━━━━━━━━━━━━━━━━━━━━\u001b[0m\u001b[37m\u001b[0m \u001b[1m1s\u001b[0m 7ms/step - accuracy: 0.9513 - loss: 0.1474 - val_accuracy: 0.9212 - val_loss: 0.2415\n",
      "Epoch 5/5\n",
      "\u001b[1m113/113\u001b[0m \u001b[32m━━━━━━━━━━━━━━━━━━━━\u001b[0m\u001b[37m\u001b[0m \u001b[1m1s\u001b[0m 7ms/step - accuracy: 0.9758 - loss: 0.0826 - val_accuracy: 0.9200 - val_loss: 0.2656\n"
     ]
    }
   ],
   "source": [
    "history = model.fit(x_train, y_train, validation_split=0.1, epochs = 5, batch_size=64)"
   ]
  },
  {
   "cell_type": "markdown",
   "id": "20a9251c",
   "metadata": {},
   "source": [
    "•Evaluate the model on test text  and print the test loss and accuracy"
   ]
  },
  {
   "cell_type": "code",
   "execution_count": 25,
   "id": "b3bdcbe5",
   "metadata": {},
   "outputs": [],
   "source": [
    "train_accuracy = history.history['accuracy']\n",
    "val_accuracy = history.history['val_accuracy']\n",
    "\n",
    "train_loss = history.history['loss']\n",
    "val_loss = history.history['val_loss']"
   ]
  },
  {
   "cell_type": "code",
   "execution_count": 26,
   "id": "3c8190aa",
   "metadata": {},
   "outputs": [
    {
     "data": {
      "image/png": "[encoded data removed]",
      "text/plain": [
       "<Figure size 1200x1000 with 2 Axes>"
      ]
     },
     "metadata": {},
     "output_type": "display_data"
    }
   ],
   "source": [
    "fig, ax = plt.subplots(nrows=2, ncols=1, figsize=(12, 10))\n",
    "\n",
    "ax[0].set_title('Training Accuracy vs. Epochs')\n",
    "ax[0].plot(train_accuracy, 'o-', label='Training Accuracy')\n",
    "ax[0].plot(val_accuracy, 'o-', label='Validation Accuracy')\n",
    "ax[0].set_xlabel('Epochs')\n",
    "ax[0].set_ylabel('Accuracy')\n",
    "ax[0].legend(loc='best')\n",
    "\n",
    "ax[1].set_title('Training/Validation Loss vs. Epochs')\n",
    "ax[1].plot(train_loss, 'o-', label='Training Loss')\n",
    "ax[1].plot(val_loss, 'o-', label='Validation Loss')\n",
    "ax[1].set_xlabel('Epochs')\n",
    "ax[1].set_ylabel('Loss')\n",
    "ax[1].legend(loc='best')\n",
    "\n",
    "plt.tight_layout()\n",
    "plt.show()"
   ]
  },
  {
   "cell_type": "markdown",
   "id": "3a7e89d5",
   "metadata": {},
   "source": [
    "## Observations\n",
    "- We see a constant decrease in the Training Loss where as validation loss starts increasing after a point\n",
    "- The plot shows that the model starts getting to overfit, and we have a varianace problem here\n",
    "- Adding regularization like drop-out and other techniques may help stabilize the performance"
   ]
  },
  {
   "cell_type": "code",
   "execution_count": 27,
   "id": "dd1ee895",
   "metadata": {},
   "outputs": [
    {
     "name": "stdout",
     "output_type": "stream",
     "text": [
      "\u001b[1m63/63\u001b[0m \u001b[32m━━━━━━━━━━━━━━━━━━━━\u001b[0m\u001b[37m\u001b[0m \u001b[1m0s\u001b[0m 3ms/step\n",
      "test auc: 0.8042516221651637\n"
     ]
    }
   ],
   "source": [
    "output_test = model.predict(x_test)\n",
    "print('test auc:', roc_auc_score(y_test, output_test))"
   ]
  },
  {
   "cell_type": "code",
   "execution_count": 28,
   "id": "cd30e502",
   "metadata": {},
   "outputs": [
    {
     "name": "stdout",
     "output_type": "stream",
     "text": [
      "\u001b[1m63/63\u001b[0m \u001b[32m━━━━━━━━━━━━━━━━━━━━\u001b[0m\u001b[37m\u001b[0m \u001b[1m0s\u001b[0m 3ms/step - accuracy: 0.9153 - loss: 0.2531\n",
      "Test Loss: 0.26515325903892517\n",
      "Test Accuracy: 0.9150424599647522\n"
     ]
    }
   ],
   "source": [
    "test_loss, test_accuracy = model.evaluate(x_test, y_test)\n",
    "print(f\"Test Loss: {test_loss}\")\n",
    "print(f\"Test Accuracy: {test_accuracy}\")"
   ]
  },
  {
   "cell_type": "markdown",
   "id": "03734789",
   "metadata": {},
   "source": [
    "## Observation\n",
    "- The model has given a decent accuracy of 91.75% on unseen test dataset\n",
    "- The AUC score on test dataset is 28%"
   ]
  },
  {
   "cell_type": "markdown",
   "id": "b98120c4",
   "metadata": {},
   "source": [
    "Task B\n",
    "\n",
    "•As a future and take-home task, train the model with the full dataset available in this link - \n",
    "Grammar and Online Product Reviews | Kaggle."
   ]
  },
  {
   "cell_type": "code",
   "execution_count": null,
   "id": "b829796c",
   "metadata": {},
   "outputs": [],
   "source": []
  },
  {
   "cell_type": "markdown",
   "id": "3a94e7ca",
   "metadata": {},
   "source": [
    "•Evaluate the model on full test data and compare the performance improvement from a subset of the full dataset"
   ]
  },
  {
   "cell_type": "markdown",
   "id": "20db5a49",
   "metadata": {},
   "source": [
    "# Conclusion\n",
    "- Deeplearning can be better on text classification than similiar ML techniques, but only on vary large datasets and well designed/tuned models.\n",
    "- A CNN-LSTM hybrid networks give a solution to use both structural characterization and spatial information together.\n",
    "- The following projects can replicated similar word embedding models much more efficiently: word2vec and gensim's word2vec (self-supervised learning only), fastText (both supervised and self-seupervised learning), Vowpal Wabbit (supervised learning).\n",
    "- Plan shallow sparse TF-IDF bigrams features without any embedding and Logistic Regression or Multinominal Naiive Bayes is often competitive in small to medium datasets."
   ]
  }
 ],
 "metadata": {
  "kernelspec": {
   "display_name": ".venv",
   "language": "python",
   "name": "python3"
  },
  "language_info": {
   "codemirror_mode": {
    "name": "ipython",
    "version": 3
   },
   "file_extension": ".py",
   "mimetype": "text/x-python",
   "name": "python",
   "nbconvert_exporter": "python",
   "pygments_lexer": "ipython3",
   "version": "3.12.10"
  }
 },
 "nbformat": 4,
 "nbformat_minor": 5
}
