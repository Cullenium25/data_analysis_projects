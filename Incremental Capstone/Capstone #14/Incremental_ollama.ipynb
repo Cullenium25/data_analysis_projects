{
 "cells": [
  {
   "cell_type": "markdown",
   "id": "ab76a2e7",
   "metadata": {},
   "source": [
    "You'll need to install Ollama first\n",
    "\n",
    "Run in computer terminal (not on vscode):\n",
    "\n",
    "curl -fsSL https://ollama.com/install.sh # to install ollama\n",
    "\n",
    "ollama serve # to start local server\n",
    "\n",
    "ollama pull mistral  # to pull a LLM model \n",
    "(can also run:\n",
    " Gemma2\n",
    " Gemma3\n",
    " llama\n",
    " llama4\n",
    " mistral3\n",
    " qwen2\n",
    " quen3)"
   ]
  },
  {
   "cell_type": "code",
   "execution_count": null,
   "id": "4a137b8a",
   "metadata": {},
   "outputs": [],
   "source": [
    "# !pip install langchain requests --quiet"
   ]
  },
  {
   "cell_type": "code",
   "execution_count": null,
   "id": "acf826b8",
   "metadata": {},
   "outputs": [],
   "source": [
    "from langchain.llms import Ollama\n",
    "from langchain.prompts import PromptTemplate"
   ]
  },
  {
   "cell_type": "code",
   "execution_count": 2,
   "id": "72acc1cf",
   "metadata": {},
   "outputs": [],
   "source": [
    "bike_specs = \"Electric mountain bike, 21-speed, battery range of 50km, lightweight aluminum frame\"\n",
    "discount = \"20% off weekend rentals + free helmet\"\n",
    "theme = \"Adventure and eco-friendly commuting\""
   ]
  },
  {
   "cell_type": "code",
   "execution_count": 3,
   "id": "ace7ef29",
   "metadata": {},
   "outputs": [],
   "source": [
    "template = PromptTemplate(\n",
    "    input_variables=[\"bike_specs\", \"discount\", \"theme\"],\n",
    "    template=\"\"\"\n",
    "You are a creative advertising copywriter for a modern, eco-friendly bike rental company called BikeEase.\n",
    "\n",
    "Create a persuasive and engaging promotional ad based on the following:\n",
    "\n",
    "Bike Specifications:\n",
    "{bike_specs}\n",
    "\n",
    "Current Discount Offer:\n",
    "{discount}\n",
    "\n",
    "Marketing Theme:\n",
    "{theme}\n",
    "\n",
    "Make the tone friendly, modern, and action-driven. Keep it concise and appealing for social media.\n",
    "\"\"\"\n",
    ")"
   ]
  },
  {
   "cell_type": "code",
   "execution_count": 4,
   "id": "80abe484",
   "metadata": {},
   "outputs": [
    {
     "name": "stdout",
     "output_type": "stream",
     "text": [
      "\n",
      "You are a creative advertising copywriter for a modern, eco-friendly bike rental company called BikeEase.\n",
      "\n",
      "Create a persuasive and engaging promotional ad based on the following:\n",
      "\n",
      "Bike Specifications:\n",
      "Electric mountain bike, 21-speed, battery range of 50km, lightweight aluminum frame\n",
      "\n",
      "Current Discount Offer:\n",
      "20% off weekend rentals + free helmet\n",
      "\n",
      "Marketing Theme:\n",
      "Adventure and eco-friendly commuting\n",
      "\n",
      "Make the tone friendly, modern, and action-driven. Keep it concise and appealing for social media.\n",
      "\n"
     ]
    }
   ],
   "source": [
    "final_prompt = template.format(\n",
    "    bike_specs=bike_specs,\n",
    "    discount=discount,\n",
    "    theme=theme\n",
    ")\n",
    "\n",
    "print(final_prompt)"
   ]
  },
  {
   "cell_type": "code",
   "execution_count": 10,
   "id": "2f1b1c07",
   "metadata": {},
   "outputs": [],
   "source": [
    "llm = Ollama(model=\"Gemma3\")  # You can change to llama2, phi, etc.\n"
   ]
  },
  {
   "cell_type": "code",
   "execution_count": 11,
   "id": "e62a1d2d",
   "metadata": {},
   "outputs": [
    {
     "name": "stdout",
     "output_type": "stream",
     "text": [
      "🚴 BikeEase Ad:\n",
      "\n",
      "Okay, here are a few options for a social media ad for BikeEase, playing with different lengths and slightly varied tones, all based on your provided information.\n",
      "\n",
      "**Option 1: (Short & Punchy - Ideal for Instagram/TikTok)**\n",
      "\n",
      "**(Video: Quick cuts of someone effortlessly cruising a scenic mountain trail on the e-bike, ending with a smiling rider at a viewpoint.)**\n",
      "\n",
      "**Text Overlay:** “Level up your weekend. ⚡️ Rent our electric mountain bike & explore! 20% OFF weekend rentals + FREE helmet.  Go further, go greener. #BikeEase #AdventureAwaits #EcoCommute”\n",
      "\n",
      "**(Sound: Upbeat, energetic electronic music)**\n",
      "\n",
      "\n",
      "\n",
      "**Option 2: (Slightly Longer - Great for Facebook/Instagram Carousel)**\n",
      "\n",
      "**(Image 1: Stunning photo of the e-bike in a beautiful natural setting.)**\n",
      "\n",
      "**Text:** \"Ditch the traffic, embrace the adventure! ⛰️ BikeEase makes eco-friendly commuting seriously fun. \n",
      "\n",
      "**(Image 2: Close-up of the bike’s features – battery, gears, frame.)**\n",
      "\n",
      "**Text:** Our lightweight aluminum e-bike boasts 21 speeds, a 50km battery range, and is ready for anything.\n",
      "\n",
      "**(Image 3: Rider wearing a helmet, smiling.)**\n",
      "\n",
      "**Text:**  Plus, get 20% OFF weekend rentals + a FREE helmet!  Discover hidden trails and reduce your carbon footprint. \n",
      "\n",
      "**Link in Bio: Book your ride today! ➡️ [Link to Website] #BikeEase #EcoFriendly #MountainBike #AdventureTime”**\n",
      "\n",
      "**(Sound: Gentle, inspiring acoustic music)**\n",
      "\n",
      "\n",
      "\n",
      "**Option 3: (Focus on Benefit - Short & Engaging)**\n",
      "\n",
      "**(Image:  Person grinning as they pedal uphill effortlessly on the e-bike)**\n",
      "\n",
      "**Text:** “Conquer hills, not your carbon footprint. 🌿 Rent our electric mountain bike this weekend for 20% OFF + FREE helmet. 50km range, 21 speeds, pure adventure.  #BikeEase #EcoCommuting #WeekendVibes”\n",
      "\n",
      "---\n",
      "\n",
      "**Key Elements Used & Why:**\n",
      "\n",
      "*   **Action-Oriented Language:**  “Rent,” “Book your ride,” “Discover,” “Conquer.”  These prompt immediate engagement.\n",
      "*   **Benefit-Driven:**  Highlighting what the rider *gets* - adventure, reduced carbon footprint, easy riding.\n",
      "*   **Strong Visuals:** (I've suggested visual elements – you’d need actual photos or video) – Essential for social media.\n",
      "*   **Emojis:**  Used strategically to add personality and draw attention.\n",
      "*   **Relevant Hashtags:**  Expand reach.\n",
      "*   **Concise & Readable:** Short sentences and paragraphs are ideal for scrolling.\n",
      "\n",
      "To help me tailor this even further, could you tell me:\n",
      "\n",
      "*   What platform are you primarily targeting (Instagram, Facebook, TikTok, etc.)?\n",
      "*   Are there any specific geographic areas you’re focusing on?\n"
     ]
    }
   ],
   "source": [
    "ad_copy = llm.invoke(final_prompt)\n",
    "\n",
    "print(\"🚴 BikeEase Ad:\\n\")\n",
    "print(ad_copy)"
   ]
  }
 ],
 "metadata": {
  "kernelspec": {
   "display_name": ".venv",
   "language": "python",
   "name": "python3"
  },
  "language_info": {
   "codemirror_mode": {
    "name": "ipython",
    "version": 3
   },
   "file_extension": ".py",
   "mimetype": "text/x-python",
   "name": "python",
   "nbconvert_exporter": "python",
   "pygments_lexer": "ipython3",
   "version": "3.12.10"
  }
 },
 "nbformat": 4,
 "nbformat_minor": 5
}
