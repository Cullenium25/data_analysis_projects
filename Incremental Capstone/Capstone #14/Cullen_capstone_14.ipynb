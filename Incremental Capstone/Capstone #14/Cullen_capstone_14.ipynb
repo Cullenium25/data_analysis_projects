{
 "cells": [
  {
   "cell_type": "markdown",
   "id": "e310af1c",
   "metadata": {},
   "source": [
    "# Overview\n",
    "BikeEase has successfully implemented various AI-powered solutions for demand forecasting, customer review analysis, and image classification. As they continue to grow, they aim to automate certain tasks using Large Language Models (LLMs), particularly in marketing and advertising generation to attract more customers and increase engagement."
   ]
  },
  {
   "cell_type": "markdown",
   "id": "beca09f5",
   "metadata": {},
   "source": [
    "To achieve this, BikeEase plans to develop a Generative AI-powered system that can automatically create engaging and persuasive advertisements based on bike specifications, discount offers, and promotional themes. This will enable them to generate high-quality marketing content without manual effort, saving time and ensuring brand consistency\n",
    "\n",
    "Project Statement\n",
    "\n",
    "Develop a Generative AI-powered advertisement generation system using LLMs and LangChain to create compelling promotional content for BikeEase’s rental services"
   ]
  },
  {
   "cell_type": "markdown",
   "id": "8651015b",
   "metadata": {},
   "source": [
    "Steps to Perform\n",
    "\n",
    "## Task 1: Understand generative AI & LLMs\n",
    "\n",
    "### Explore how LLMs can be used for automated marketing\n",
    "\n",
    "### Learn about LangChain and how it helps integrate LLMs into applications"
   ]
  },
  {
   "cell_type": "markdown",
   "id": "2826cee4",
   "metadata": {},
   "source": [
    "- LLMs can be used for content creation, social media posts, and email marketing campaigns\n",
    "\n",
    "- LLMS can also be used for brainstorming and idea generation by being able to synthesis information it was trained on\n",
    "\n",
    "- Langchain allows integration of LLMs to other data sources, tools, and established systems"
   ]
  },
  {
   "cell_type": "markdown",
   "id": "773f0d41",
   "metadata": {},
   "source": [
    "## Task 2: Designing the Ad generation pipeline\n"
   ]
  },
  {
   "cell_type": "markdown",
   "id": "10f6f91f",
   "metadata": {},
   "source": [
    "## Task 3: Building the LLM-based Ad generator\n",
    "\n",
    "Use LangChain to manage the prompt engineering process\n",
    "\n",
    "Integrate a local Hugging Face model to generate text without API dependencies\n",
    "\n",
    "Experiment with different prompt techniques to enhance response quality"
   ]
  },
  {
   "cell_type": "markdown",
   "id": "7868e7e9",
   "metadata": {},
   "source": [
    "## Task 4: Evaluation and optimization\n",
    "\n",
    "Test the ad variations to ensure quality, persuasiveness, and relevance.\n",
    "Implement prompt tuning to fine-tune outputs for different use cases.\n",
    "\n",
    "Compare different LLM models to identify the most effective one for marketing"
   ]
  },
  {
   "cell_type": "code",
   "execution_count": 1,
   "id": "0896a4eb",
   "metadata": {},
   "outputs": [
    {
     "name": "stderr",
     "output_type": "stream",
     "text": [
      "/home/cullen-fedora/Documents/Python-Projects/.venv/lib/python3.12/site-packages/tqdm/auto.py:21: TqdmWarning: IProgress not found. Please update jupyter and ipywidgets. See https://ipywidgets.readthedocs.io/en/stable/user_install.html\n",
      "  from .autonotebook import tqdm as notebook_tqdm\n"
     ]
    }
   ],
   "source": [
    "import torch\n",
    "from transformers import AutoModelForCausalLM, AutoTokenizer, pipeline\n",
    "from langchain.prompts import PromptTemplate\n",
    "from langchain.llms import HuggingFacePipeline\n",
    "from langchain.chains import LLMChain"
   ]
  },
  {
   "cell_type": "code",
   "execution_count": 2,
   "id": "44d6b09b",
   "metadata": {},
   "outputs": [
    {
     "name": "stderr",
     "output_type": "stream",
     "text": [
      "Device set to use cpu\n"
     ]
    }
   ],
   "source": [
    "# Load a local model from Hugging Face (No API token required)\n",
    "model_name = \"gpt2\"  # Choose a model that runs on your system\n",
    "tokenizer = AutoTokenizer.from_pretrained(model_name)\n",
    "model = AutoModelForCausalLM.from_pretrained(model_name, torch_dtype=torch.float16, device_map=\"auto\")\n",
    "pipe = pipeline(\n",
    "    task = \"text-generation\",\n",
    "    model=model,\n",
    "    tokenizer=tokenizer,\n",
    "    max_length=200,\n",
    "    do_sample=True,\n",
    "    temperature=0.9,\n",
    "    repetition_penalty=1.15,\n",
    "    top_p=0.95,\n",
    "    max_new_tokens=500,\n",
    ")"
   ]
  },
  {
   "cell_type": "code",
   "execution_count": 3,
   "id": "543cdeab",
   "metadata": {},
   "outputs": [
    {
     "name": "stderr",
     "output_type": "stream",
     "text": [
      "/tmp/ipykernel_658/2276898271.py:17: LangChainDeprecationWarning: The class `HuggingFacePipeline` was deprecated in LangChain 0.0.37 and will be removed in 1.0. An updated version of the class exists in the :class:`~langchain-huggingface package and should be used instead. To use it run `pip install -U :class:`~langchain-huggingface` and import as `from :class:`~langchain_huggingface import HuggingFacePipeline``.\n",
      "  local_llm = HuggingFacePipeline(pipeline=pipe)\n",
      "/tmp/ipykernel_658/2276898271.py:20: LangChainDeprecationWarning: The class `LLMChain` was deprecated in LangChain 0.1.17 and will be removed in 1.0. Use :meth:`~RunnableSequence, e.g., `prompt | llm`` instead.\n",
      "  llm_chain = LLMChain(prompt=prompt_template, llm=local_llm)\n"
     ]
    }
   ],
   "source": [
    "# Define a prompt template\n",
    "prompt_template = PromptTemplate(\n",
    "    input_variables=[\"bike_model\", \"features\", \"discount\", \"theme\"],\n",
    "    template=\"\"\"\n",
    "Create an exciting marketing advertisement for BikeEase for commuters based on the following:\n",
    "- Bike Model: {bike_model}\n",
    "- Features: {features}\n",
    "- Discount: {discount}\n",
    "- Marketing Theme: {theme}\n",
    "\n",
    "Include some short reviews from satisfied customers, highlighting the bike's performance and comfort. Use a friendly, practical, and persuasive tone to encourage potential buyers to consider this bike for their daily commute.\n",
    "\n",
    "Write in a friendly, practical, and persuasive tone:\n",
    "\"\"\",\n",
    ")\n",
    "\n",
    "local_llm = HuggingFacePipeline(pipeline=pipe)\n",
    "\n",
    "# Create the LangChain chain\n",
    "llm_chain = LLMChain(prompt=prompt_template, llm=local_llm)"
   ]
  },
  {
   "cell_type": "markdown",
   "id": "ba4d2980",
   "metadata": {},
   "source": [
    "\n",
    "Accept user inputs for bike specifications, discount options, and marketing themes\n",
    "\n",
    "Use LLMs (Hugging Face models) to generate creative, engaging ads\n",
    "Structure the output to align with BikeEase’s branding and tone"
   ]
  },
  {
   "cell_type": "code",
   "execution_count": 4,
   "id": "3347d331",
   "metadata": {},
   "outputs": [],
   "source": [
    "# sample input example\n",
    "input_data = {\n",
    "    \"bike_model\": \"Schwinn Cycles E-Bike 2023\",\n",
    "    \"features\": \"lightweight aluminum frame, 40-mile battery range, smart lock system\",\n",
    "    \"discount\": \"20% off this weekend only\",\n",
    "    \"theme\": \"eco-friendly urban commuting\"\n",
    "}"
   ]
  },
  {
   "cell_type": "code",
   "execution_count": 5,
   "id": "791842f8",
   "metadata": {},
   "outputs": [
    {
     "name": "stderr",
     "output_type": "stream",
     "text": [
      "/tmp/ipykernel_658/4106880462.py:2: LangChainDeprecationWarning: The method `Chain.run` was deprecated in langchain 0.1.0 and will be removed in 1.0. Use :meth:`~invoke` instead.\n",
      "  generated_ad = llm_chain.run(input_data)\n",
      "Setting `pad_token_id` to `eos_token_id`:50256 for open-end generation.\n"
     ]
    },
    {
     "name": "stdout",
     "output_type": "stream",
     "text": [
      "📣 Generated Ad:\n",
      " \n",
      "Create an exciting marketing advertisement for BikeEase for commuters based on the following:\n",
      "- Bike Model: Schwinn Cycles E-Bike 2023\n",
      "- Features: lightweight aluminum frame, 40-mile battery range, smart lock system\n",
      "- Discount: 20% off this weekend only\n",
      "- Marketing Theme: eco-friendly urban commuting\n",
      "\n",
      "Include some short reviews from satisfied customers, highlighting the bike's performance and comfort. Use a friendly, practical, and persuasive tone to encourage potential buyers to consider this bike for their daily commute.\n",
      "\n",
      "Write in a friendly, practical, and persuasive tone:\n",
      "– \"If they're asking you if that bicycle is something different than what it was designed or built to be then why not try one of these new bikes? Well there are several ways we can change your life…you could buy up all sorts! In addition, when I'm out riding my kids with friends who live nearby every morning while still using bicycles like scooters (especially those which run over dirt roads), many would rather see me ride around alone because once parked at home by myself...my kid loves walking everywhere.\" – Jenny\n"
     ]
    }
   ],
   "source": [
    "# Generate the ad\n",
    "generated_ad = llm_chain.run(input_data)\n",
    "print(\"📣 Generated Ad:\\n\", generated_ad)"
   ]
  },
  {
   "cell_type": "markdown",
   "id": "ac5b5e90",
   "metadata": {},
   "source": [
    "Tuning: \n",
    "- repetition penalty was set to 1.15 to limit repetitive generation of text\n",
    "- temperature was set to .9 to allow creativity in creation"
   ]
  },
  {
   "cell_type": "code",
   "execution_count": 6,
   "id": "693f91e3",
   "metadata": {},
   "outputs": [
    {
     "name": "stderr",
     "output_type": "stream",
     "text": [
      "Setting `pad_token_id` to `eos_token_id`:50256 for open-end generation.\n"
     ]
    },
    {
     "name": "stdout",
     "output_type": "stream",
     "text": [
      "📣 Generated Ad:\n",
      " \n",
      "Create an exciting marketing advertisement for BikeEase for commuters based on the following:\n",
      "- Bike Model: Electric\n",
      "- Features: adjustable seat\n",
      "- Discount: 40% off\n",
      "- Marketing Theme: Eco-friendly\n",
      "\n",
      "Include some short reviews from satisfied customers, highlighting the bike's performance and comfort. Use a friendly, practical, and persuasive tone to encourage potential buyers to consider this bike for their daily commute.\n",
      "\n",
      "Write in a friendly, practical, and persuasive tone:\n",
      " (optional) Be professional with your words & actions! Write eloquently about how you are feeling personally as well give personal encouragement by using different brands/brand names that will make sharing stories seem more like business than it is.. Share examples of why or where they stand... Keep up-to date if necessary\n"
     ]
    }
   ],
   "source": [
    "# Custome input example\n",
    "custom_input_data = {\n",
    "    \"bike_model\": input(\"Enter bike specifications (e.g., Electric, Lightweight, GPS Enabled): \"),\n",
    "    \"features\": input(\"Enter key features (e.g., 21-speed gear system, LED lights, adjustable seat): \"),\n",
    "    \"discount\": input(\"Enter discount options (e.g., 20% off for first-time users): \"),\n",
    "    \"theme\": input(\"Enter ad theme (e.g., Adventure in the City, Family Fun, Eco-Friendly Travel): \")\n",
    "}\n",
    "\n",
    "# Generate the ad with custom input\n",
    "generated_ad = llm_chain.run(custom_input_data)\n",
    "print(\"📣 Generated Ad:\\n\", generated_ad)"
   ]
  },
  {
   "cell_type": "code",
   "execution_count": 7,
   "id": "38a7829d",
   "metadata": {},
   "outputs": [],
   "source": [
    "# Define a prompt template\n",
    "prompt_template = PromptTemplate(\n",
    "    input_variables=[\"bike_model\", \"features\", \"discount\", \"theme\"],\n",
    "    template=\"\"\"\n",
    "Create an exciting marketing advertisement for BikeEase for commuters based on the following:\n",
    "- Bike Model: {bike_model}\n",
    "- Features: {features}\n",
    "- Discount: {discount}\n",
    "- Marketing Theme: {theme}\n",
    "\n",
    "Include some short reviews from satisfied customers, highlighting the bike's performance and comfort. Use a friendly, practical, and persuasive tone to encourage potential buyers to consider this bike for their daily commute.\n",
    "\n",
    "Write in a friendly, practical, and persuasive tone:\n",
    "\"\"\",\n",
    ")\n",
    "\n",
    "local_llm = HuggingFacePipeline(pipeline=pipe)\n",
    "\n",
    "# Create the LangChain chain\n",
    "llm_chain = LLMChain(prompt=prompt_template, llm=local_llm)"
   ]
  },
  {
   "cell_type": "markdown",
   "id": "6b97d9c1",
   "metadata": {},
   "source": [
    "### Using Ollama instead of Huggingface\n",
    "\n",
    "You'll need to install Ollama first\n",
    "\n",
    "Run in computer terminal (not on vscode):\n",
    "\n",
    "curl -fsSL https://ollama.com/install.sh # to install ollama\n",
    "\n",
    "ollama serve # to start local server\n",
    "\n",
    "ollama pull mistral  # to pull a LLM model \n",
    "(can also run:\n",
    " Gemma2\n",
    " Gemma3\n",
    " llama\n",
    " llama4\n",
    " mistral3\n",
    " qwen2\n",
    " quen3)"
   ]
  },
  {
   "cell_type": "code",
   "execution_count": 8,
   "id": "4a137b8a",
   "metadata": {},
   "outputs": [],
   "source": [
    "# !pip install langchain requests --quiet"
   ]
  },
  {
   "cell_type": "code",
   "execution_count": 9,
   "id": "acf826b8",
   "metadata": {},
   "outputs": [],
   "source": [
    "from langchain.llms import Ollama\n",
    "from langchain.prompts import PromptTemplate"
   ]
  },
  {
   "cell_type": "code",
   "execution_count": 10,
   "id": "72acc1cf",
   "metadata": {},
   "outputs": [],
   "source": [
    "bike_specs = \"Electric mountain bike, 21-speed, battery range of 50km, lightweight aluminum frame\"\n",
    "discount = \"20% off weekend rentals + free helmet\"\n",
    "theme = \"Adventure and eco-friendly commuting\""
   ]
  },
  {
   "cell_type": "code",
   "execution_count": 11,
   "id": "ace7ef29",
   "metadata": {},
   "outputs": [],
   "source": [
    "template = PromptTemplate(\n",
    "    input_variables=[\"bike_specs\", \"discount\", \"theme\"],\n",
    "    template=\"\"\"\n",
    "You are a creative advertising copywriter for a modern, eco-friendly bike rental company called BikeEase.\n",
    "Create a persuasive and engaging promotional ad based on the following:\n",
    "Bike Specifications:\n",
    "{bike_specs}\n",
    "Current Discount Offer:\n",
    "{discount}\n",
    "Marketing Theme:\n",
    "{theme}\n",
    "Make the tone friendly, modern, and action-driven. Keep it concise and appealing for social media.\n",
    "\"\"\"\n",
    ")"
   ]
  },
  {
   "cell_type": "code",
   "execution_count": 12,
   "id": "80abe484",
   "metadata": {},
   "outputs": [
    {
     "name": "stdout",
     "output_type": "stream",
     "text": [
      "\n",
      "You are a creative advertising copywriter for a modern, eco-friendly bike rental company called BikeEase.\n",
      "Create a persuasive and engaging promotional ad based on the following:\n",
      "Bike Specifications:\n",
      "Electric mountain bike, 21-speed, battery range of 50km, lightweight aluminum frame\n",
      "Current Discount Offer:\n",
      "20% off weekend rentals + free helmet\n",
      "Marketing Theme:\n",
      "Adventure and eco-friendly commuting\n",
      "Make the tone friendly, modern, and action-driven. Keep it concise and appealing for social media.\n",
      "\n"
     ]
    }
   ],
   "source": [
    "final_prompt = template.format(\n",
    "    bike_specs=bike_specs,\n",
    "    discount=discount,\n",
    "    theme=theme\n",
    ")\n",
    "\n",
    "print(final_prompt)"
   ]
  },
  {
   "cell_type": "code",
   "execution_count": 16,
   "id": "2f1b1c07",
   "metadata": {},
   "outputs": [],
   "source": [
    "llm = Ollama(\n",
    "    model=\"Gemma3\",\n",
    "    temperature = 0.8,\n",
    "    top_p = 0.95,\n",
    "    num_ctx=2048,\n",
    "    repeat_penalty=1.1,\n",
    "    stop=[\"###\", \"User:\", \"AI:\"]\n",
    "    )  # You can change to llama2, phi, etc.\n"
   ]
  },
  {
   "cell_type": "code",
   "execution_count": 17,
   "id": "e62a1d2d",
   "metadata": {},
   "outputs": [
    {
     "name": "stdout",
     "output_type": "stream",
     "text": [
      "🚴 BikeEase Ad:\n",
      "\n",
      "Okay, here are a few options for a social media ad for BikeEase, playing with different lengths and styles, all aiming for a modern, eco-friendly, and action-driven feel:\n",
      "\n",
      "**Option 1: (Short & Punchy - Ideal for Instagram/TikTok)**\n",
      "\n",
      "**(Video: Fast-paced montage of someone riding the e-bike through scenic trails, city streets, and smiling faces)**\n",
      "\n",
      "**Text Overlay:** “Level Up Your Weekend. ⚡️”\n",
      "**Body:** “Ditch the traffic, embrace the trails. BikeEase electric mountain bikes are here to fuel your adventure. 20% OFF weekend rentals + FREE helmet! 🌎 #BikeEase #ElectricBike #AdventureTime #EcoCommute”\n",
      "\n",
      "**Option 2: (Slightly Longer - Good for Facebook/Instagram)**\n",
      "\n",
      "**(Image: Stunning photo of the e-bike against a beautiful natural backdrop - sunrise, mountain view, etc.)**\n",
      "\n",
      "**Text:** “Ready for an Adventure That Doesn’t Cost the Earth? 🌍”\n",
      "\n",
      "“Explore further, faster, and greener with BikeEase’s electric mountain bikes! Our lightweight aluminum frames, 21-speed gears, and 50km battery range are built for epic weekend rides. \n",
      "\n",
      "**🔥 20% OFF Weekend Rentals + FREE Helmet! 🔥**\n",
      "\n",
      "Perfect for eco-friendly commuting and exploring new trails. \n",
      "\n",
      "➡️ Book your ride today: [Link to Website]\n",
      "\n",
      "#BikeEase #ElectricMountainBike #AdventureBike #SustainableTravel #EcoFriendly”\n",
      "\n",
      "**Option 3: (Focus on Benefit - Twitter/X Style)**\n",
      "\n",
      "“Stop stressing, start exploring! 🚴‍♀️💨 BikeEase electric mountain bikes let you conquer trails & commute with a clear conscience. \n",
      "\n",
      "⚡️ 20% OFF Weekend Rentals + FREE Helmet ⚡️\n",
      "\n",
      "50km range, lightweight, & ready for adventure.  \n",
      "\n",
      "👉  [Shortened Link to Website] #BikeEase #ElectricBike #WeekendVibes”\n",
      "\n",
      "\n",
      "---\n",
      "\n",
      "**Key Considerations & Why These Work:**\n",
      "\n",
      "*   **Visuals are Crucial:**  These ads *need* compelling visuals - high-quality photos or videos of the bike in action.\n",
      "*   **Emojis:**  Used strategically to grab attention and convey energy.\n",
      "*   **Strong Call to Action:** \"Book your ride today\" or \"Visit our website\" – clear instructions.\n",
      "*   **Benefits-Focused:**  Highlights *what* the customer gets (adventure, eco-friendly, freedom).\n",
      "*   **Relevant Hashtags:**  Increases visibility and reach.\n",
      "*   **Concise Language:** Short, punchy sentences are perfect for scrolling feeds.\n",
      "\n",
      "To help me refine this even further, could you tell me:\n",
      "\n",
      "*   What platform are you primarily targeting (Instagram, Facebook, TikTok, etc.)?\n",
      "*   Do you have a specific aesthetic you’re going for (e.g., minimalist, vibrant, adventurous)?\n"
     ]
    }
   ],
   "source": [
    "# Make sure to have Ollama running locally first via `ollama serve`\n",
    "ad_copy = llm.invoke(final_prompt)\n",
    "\n",
    "print(\"🚴 BikeEase Ad:\\n\")\n",
    "print(ad_copy)"
   ]
  },
  {
   "cell_type": "markdown",
   "id": "a3b8bebc",
   "metadata": {},
   "source": [
    "## Conclusions\n",
    "- Ollama was used to run an LLM locally, in this case Gemma3\n",
    "- Gemma3 appears to give a more robust ad than gpt2 which seems to just repeat aspects of the prompt template\n",
    "- Parameters can be tuned for different results\n",
    "    - Higher temperature means more creativity\n",
    "    - Max length of tokens can be limited for length of sequence\n",
    "    - top k and top p can be used to manipulate probabilities of vocabulary words"
   ]
  }
 ],
 "metadata": {
  "kernelspec": {
   "display_name": ".venv",
   "language": "python",
   "name": "python3"
  },
  "language_info": {
   "codemirror_mode": {
    "name": "ipython",
    "version": 3
   },
   "file_extension": ".py",
   "mimetype": "text/x-python",
   "name": "python",
   "nbconvert_exporter": "python",
   "pygments_lexer": "ipython3",
   "version": "3.12.10"
  }
 },
 "nbformat": 4,
 "nbformat_minor": 5
}
