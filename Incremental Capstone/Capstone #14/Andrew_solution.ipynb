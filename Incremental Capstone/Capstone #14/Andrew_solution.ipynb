{
 "cells": [
  {
   "cell_type": "code",
   "execution_count": 1,
   "id": "08b429ca",
   "metadata": {},
   "outputs": [
    {
     "name": "stderr",
     "output_type": "stream",
     "text": [
      "/home/cullen-fedora/Documents/Python-Projects/.venv/lib/python3.12/site-packages/tqdm/auto.py:21: TqdmWarning: IProgress not found. Please update jupyter and ipywidgets. See https://ipywidgets.readthedocs.io/en/stable/user_install.html\n",
      "  from .autonotebook import tqdm as notebook_tqdm\n"
     ]
    }
   ],
   "source": [
    "from langchain import HuggingFaceHub\n",
    "from langchain.llms import HuggingFacePipeline\n",
    "from langchain.prompts import PromptTemplate\n",
    "from langchain.chains import LLMChain\n",
    "from transformers import pipeline\n"
   ]
  },
  {
   "cell_type": "code",
   "execution_count": 2,
   "id": "23b64cca",
   "metadata": {},
   "outputs": [
    {
     "name": "stderr",
     "output_type": "stream",
     "text": [
      "Device set to use cpu\n",
      "/tmp/ipykernel_1400/3094125975.py:2: LangChainDeprecationWarning: The class `HuggingFacePipeline` was deprecated in LangChain 0.0.37 and will be removed in 1.0. An updated version of the class exists in the :class:`~langchain-huggingface package and should be used instead. To use it run `pip install -U :class:`~langchain-huggingface` and import as `from :class:`~langchain_huggingface import HuggingFacePipeline``.\n",
      "  llm = HuggingFacePipeline(pipeline=generator)\n",
      "/tmp/ipykernel_1400/3094125975.py:13: LangChainDeprecationWarning: The class `LLMChain` was deprecated in LangChain 0.1.17 and will be removed in 1.0. Use :meth:`~RunnableSequence, e.g., `prompt | llm`` instead.\n",
      "  chain = LLMChain(llm=llm, prompt=prompt)\n",
      "/tmp/ipykernel_1400/3094125975.py:33: LangChainDeprecationWarning: The method `Chain.run` was deprecated in langchain 0.1.0 and will be removed in 1.0. Use :meth:`~invoke` instead.\n",
      "  output = chain.run(input)\n",
      "Setting `pad_token_id` to `eos_token_id`:50256 for open-end generation.\n"
     ]
    },
    {
     "name": "stdout",
     "output_type": "stream",
     "text": [
      " Write a promotional ad for BikeEase.\n",
      "bike:Mountain Cruiser 3000\n",
      "bike color:red\n",
      "offer:20% off\n",
      "campaign theme: Adventure Awaits\n",
      "Tone: exciting\n",
      "Tone: upbeat\n",
      "Pant: fun\n"
     ]
    }
   ],
   "source": [
    "generator = pipeline('text-generation', model='gpt2', max_length=200, temperature=0.8)\n",
    "llm = HuggingFacePipeline(pipeline=generator)\n",
    "template = ''' Write a promotional ad for BikeEase.\n",
    "bike:{bike_model}\n",
    "bike color:{bike_color}\n",
    "offer:{discount}\n",
    "campaign theme: {theme}\n",
    "Tone: {tone}\n",
    "'''\n",
    "\n",
    "prompt = PromptTemplate(template=template, input_variables=[\"bike_model\", \"bike_color\", \"discount\", \"theme\", \"tone\"])\n",
    "\n",
    "chain = LLMChain(llm=llm, prompt=prompt)\n",
    "\n",
    "# Sample input\n",
    "input = {\n",
    "    \"bike_model\": \"Mountain Cruiser 3000\",\n",
    "    \"bike_color\": \"red\",\n",
    "    \"discount\": \"20% off\",\n",
    "    \"theme\": \"Adventure Awaits\",\n",
    "    \"tone\": \"exciting\"\n",
    "}\n",
    "\n",
    "input_2 = {\n",
    "    \"bike_model\": \"City Commuter Pro\",\n",
    "    \"bike_color\": \"blue\",\n",
    "    \"discount\": \"15% off\",\n",
    "    \"theme\": \"Ride the City\",\n",
    "    \"tone\": \"friendly\"\n",
    "}\n",
    "\n",
    "# Generate the ad\n",
    "output = chain.run(input)\n",
    "print(output)"
   ]
  },
  {
   "cell_type": "code",
   "execution_count": null,
   "id": "8ea60c5d",
   "metadata": {},
   "outputs": [],
   "source": []
  }
 ],
 "metadata": {
  "kernelspec": {
   "display_name": ".venv",
   "language": "python",
   "name": "python3"
  },
  "language_info": {
   "codemirror_mode": {
    "name": "ipython",
    "version": 3
   },
   "file_extension": ".py",
   "mimetype": "text/x-python",
   "name": "python",
   "nbconvert_exporter": "python",
   "pygments_lexer": "ipython3",
   "version": "3.12.10"
  }
 },
 "nbformat": 4,
 "nbformat_minor": 5
}
