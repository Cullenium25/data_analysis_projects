{
 "cells": [
  {
   "cell_type": "markdown",
   "metadata": {},
   "source": [
    "Task: Study the various Recommendation Techniques for recommending movies using\n",
    "movies.csv, ratings.csv datasets"
   ]
  },
  {
   "cell_type": "code",
   "execution_count": 1,
   "metadata": {},
   "outputs": [],
   "source": [
    "import pandas as pd\n",
    "import numpy as np\n",
    "from sklearn.model_selection import KFold, cross_validate\n",
    "from sklearn.metrics import mean_squared_error\n",
    "from sklearn.neighbors import NearestNeighbors\n",
    "from sklearn.decomposition import TruncatedSVD, NMF\n",
    "from math import sqrt\n",
    "\n",
    "# from surprise import Dataset, Reader, KNNBasic, SVD, NMF\n",
    "# from surprise.model_selection import cross_validate\n",
    "\n",
    "import warnings\n",
    "warnings.filterwarnings('ignore')"
   ]
  },
  {
   "cell_type": "markdown",
   "metadata": {},
   "source": [
    "# Load movies.csv and ratings.csv dataset\n"
   ]
  },
  {
   "cell_type": "code",
   "execution_count": 2,
   "metadata": {},
   "outputs": [],
   "source": [
    "df_movie = pd.read_csv(\"movies.csv\")\n",
    "df_rating = pd.read_csv(\"ratings.csv\")"
   ]
  },
  {
   "cell_type": "markdown",
   "metadata": {},
   "source": [
    "## Merge both data frames on movieid\n"
   ]
  },
  {
   "cell_type": "code",
   "execution_count": 3,
   "metadata": {},
   "outputs": [],
   "source": [
    "merged_df = pd.merge(df_movie, df_rating, on=\"movieId\")"
   ]
  },
  {
   "cell_type": "code",
   "execution_count": 4,
   "metadata": {},
   "outputs": [
    {
     "name": "stdout",
     "output_type": "stream",
     "text": [
      "   movieId             title                                       genres  \\\n",
      "0        1  Toy Story (1995)  Adventure|Animation|Children|Comedy|Fantasy   \n",
      "1        1  Toy Story (1995)  Adventure|Animation|Children|Comedy|Fantasy   \n",
      "2        1  Toy Story (1995)  Adventure|Animation|Children|Comedy|Fantasy   \n",
      "3        1  Toy Story (1995)  Adventure|Animation|Children|Comedy|Fantasy   \n",
      "4        1  Toy Story (1995)  Adventure|Animation|Children|Comedy|Fantasy   \n",
      "5        1  Toy Story (1995)  Adventure|Animation|Children|Comedy|Fantasy   \n",
      "6        1  Toy Story (1995)  Adventure|Animation|Children|Comedy|Fantasy   \n",
      "7        1  Toy Story (1995)  Adventure|Animation|Children|Comedy|Fantasy   \n",
      "8        1  Toy Story (1995)  Adventure|Animation|Children|Comedy|Fantasy   \n",
      "9        1  Toy Story (1995)  Adventure|Animation|Children|Comedy|Fantasy   \n",
      "\n",
      "   userId  rating   timestamp  \n",
      "0       1     4.0   964982703  \n",
      "1       5     4.0   847434962  \n",
      "2       7     4.5  1106635946  \n",
      "3      15     2.5  1510577970  \n",
      "4      17     4.5  1305696483  \n",
      "5      18     3.5  1455209816  \n",
      "6      19     4.0   965705637  \n",
      "7      21     3.5  1407618878  \n",
      "8      27     3.0   962685262  \n",
      "9      31     5.0   850466616  \n",
      "<class 'pandas.core.frame.DataFrame'>\n",
      "RangeIndex: 100836 entries, 0 to 100835\n",
      "Data columns (total 6 columns):\n",
      " #   Column     Non-Null Count   Dtype  \n",
      "---  ------     --------------   -----  \n",
      " 0   movieId    100836 non-null  int64  \n",
      " 1   title      100836 non-null  object \n",
      " 2   genres     100836 non-null  object \n",
      " 3   userId     100836 non-null  int64  \n",
      " 4   rating     100836 non-null  float64\n",
      " 5   timestamp  100836 non-null  int64  \n",
      "dtypes: float64(1), int64(3), object(2)\n",
      "memory usage: 4.6+ MB\n",
      "None\n"
     ]
    }
   ],
   "source": [
    "print(merged_df.head(10))\n",
    "print(merged_df.info())"
   ]
  },
  {
   "cell_type": "markdown",
   "metadata": {},
   "source": [
    "## Create User-Item Matrix (Hint: Use pandas pivot_table method with index = 'userId',columns = 'title', values = 'rating' )"
   ]
  },
  {
   "cell_type": "code",
   "execution_count": 5,
   "metadata": {},
   "outputs": [
    {
     "name": "stdout",
     "output_type": "stream",
     "text": [
      "title   '71 (2014)  'Hellboy': The Seeds of Creation (2004)  \\\n",
      "userId                                                        \n",
      "1              NaN                                      NaN   \n",
      "2              NaN                                      NaN   \n",
      "3              NaN                                      NaN   \n",
      "4              NaN                                      NaN   \n",
      "5              NaN                                      NaN   \n",
      "\n",
      "title   'Round Midnight (1986)  'Salem's Lot (2004)  \\\n",
      "userId                                                \n",
      "1                          NaN                  NaN   \n",
      "2                          NaN                  NaN   \n",
      "3                          NaN                  NaN   \n",
      "4                          NaN                  NaN   \n",
      "5                          NaN                  NaN   \n",
      "\n",
      "title   'Til There Was You (1997)  'Tis the Season for Love (2015)  \\\n",
      "userId                                                               \n",
      "1                             NaN                              NaN   \n",
      "2                             NaN                              NaN   \n",
      "3                             NaN                              NaN   \n",
      "4                             NaN                              NaN   \n",
      "5                             NaN                              NaN   \n",
      "\n",
      "title   'burbs, The (1989)  'night Mother (1986)  (500) Days of Summer (2009)  \\\n",
      "userId                                                                          \n",
      "1                      NaN                   NaN                          NaN   \n",
      "2                      NaN                   NaN                          NaN   \n",
      "3                      NaN                   NaN                          NaN   \n",
      "4                      NaN                   NaN                          NaN   \n",
      "5                      NaN                   NaN                          NaN   \n",
      "\n",
      "title   *batteries not included (1987)  ...  Zulu (2013)  [REC] (2007)  \\\n",
      "userId                                  ...                              \n",
      "1                                  NaN  ...          NaN           NaN   \n",
      "2                                  NaN  ...          NaN           NaN   \n",
      "3                                  NaN  ...          NaN           NaN   \n",
      "4                                  NaN  ...          NaN           NaN   \n",
      "5                                  NaN  ...          NaN           NaN   \n",
      "\n",
      "title   [REC]² (2009)  [REC]³ 3 Génesis (2012)  \\\n",
      "userId                                           \n",
      "1                 NaN                      NaN   \n",
      "2                 NaN                      NaN   \n",
      "3                 NaN                      NaN   \n",
      "4                 NaN                      NaN   \n",
      "5                 NaN                      NaN   \n",
      "\n",
      "title   anohana: The Flower We Saw That Day - The Movie (2013)  \\\n",
      "userId                                                           \n",
      "1                                                     NaN        \n",
      "2                                                     NaN        \n",
      "3                                                     NaN        \n",
      "4                                                     NaN        \n",
      "5                                                     NaN        \n",
      "\n",
      "title   eXistenZ (1999)  xXx (2002)  xXx: State of the Union (2005)  \\\n",
      "userId                                                                \n",
      "1                   NaN         NaN                             NaN   \n",
      "2                   NaN         NaN                             NaN   \n",
      "3                   NaN         NaN                             NaN   \n",
      "4                   NaN         NaN                             NaN   \n",
      "5                   NaN         NaN                             NaN   \n",
      "\n",
      "title   ¡Three Amigos! (1986)  À nous la liberté (Freedom for Us) (1931)  \n",
      "userId                                                                    \n",
      "1                         4.0                                        NaN  \n",
      "2                         NaN                                        NaN  \n",
      "3                         NaN                                        NaN  \n",
      "4                         NaN                                        NaN  \n",
      "5                         NaN                                        NaN  \n",
      "\n",
      "[5 rows x 9719 columns]\n"
     ]
    }
   ],
   "source": [
    "user_item_matrix = pd.pivot_table(merged_df, index='userId', columns='title', values='rating')\n",
    "print(user_item_matrix.head())"
   ]
  },
  {
   "cell_type": "markdown",
   "metadata": {},
   "source": [
    "## Perform User-based Collaborative Filtering\n",
    "\n",
    "### Fill the row-wise NaNs in the User-Item Matrix with the corresponding user's mean ratings, and find the Pearson correlation between users"
   ]
  },
  {
   "cell_type": "code",
   "execution_count": 6,
   "metadata": {},
   "outputs": [
    {
     "name": "stdout",
     "output_type": "stream",
     "text": [
      "title   '71 (2014)  'Hellboy': The Seeds of Creation (2004)  \\\n",
      "userId                                                        \n",
      "1         4.366379                                 4.366379   \n",
      "2         3.948276                                 3.948276   \n",
      "3         2.435897                                 2.435897   \n",
      "4         3.555556                                 3.555556   \n",
      "5         3.636364                                 3.636364   \n",
      "\n",
      "title   'Round Midnight (1986)  'Salem's Lot (2004)  \\\n",
      "userId                                                \n",
      "1                     4.366379             4.366379   \n",
      "2                     3.948276             3.948276   \n",
      "3                     2.435897             2.435897   \n",
      "4                     3.555556             3.555556   \n",
      "5                     3.636364             3.636364   \n",
      "\n",
      "title   'Til There Was You (1997)  'Tis the Season for Love (2015)  \\\n",
      "userId                                                               \n",
      "1                        4.366379                         4.366379   \n",
      "2                        3.948276                         3.948276   \n",
      "3                        2.435897                         2.435897   \n",
      "4                        3.555556                         3.555556   \n",
      "5                        3.636364                         3.636364   \n",
      "\n",
      "title   'burbs, The (1989)  'night Mother (1986)  (500) Days of Summer (2009)  \\\n",
      "userId                                                                          \n",
      "1                 4.366379              4.366379                     4.366379   \n",
      "2                 3.948276              3.948276                     3.948276   \n",
      "3                 2.435897              2.435897                     2.435897   \n",
      "4                 3.555556              3.555556                     3.555556   \n",
      "5                 3.636364              3.636364                     3.636364   \n",
      "\n",
      "title   *batteries not included (1987)  ...  Zulu (2013)  [REC] (2007)  \\\n",
      "userId                                  ...                              \n",
      "1                             4.366379  ...     4.366379      4.366379   \n",
      "2                             3.948276  ...     3.948276      3.948276   \n",
      "3                             2.435897  ...     2.435897      2.435897   \n",
      "4                             3.555556  ...     3.555556      3.555556   \n",
      "5                             3.636364  ...     3.636364      3.636364   \n",
      "\n",
      "title   [REC]² (2009)  [REC]³ 3 Génesis (2012)  \\\n",
      "userId                                           \n",
      "1            4.366379                 4.366379   \n",
      "2            3.948276                 3.948276   \n",
      "3            2.435897                 2.435897   \n",
      "4            3.555556                 3.555556   \n",
      "5            3.636364                 3.636364   \n",
      "\n",
      "title   anohana: The Flower We Saw That Day - The Movie (2013)  \\\n",
      "userId                                                           \n",
      "1                                                4.366379        \n",
      "2                                                3.948276        \n",
      "3                                                2.435897        \n",
      "4                                                3.555556        \n",
      "5                                                3.636364        \n",
      "\n",
      "title   eXistenZ (1999)  xXx (2002)  xXx: State of the Union (2005)  \\\n",
      "userId                                                                \n",
      "1              4.366379    4.366379                        4.366379   \n",
      "2              3.948276    3.948276                        3.948276   \n",
      "3              2.435897    2.435897                        2.435897   \n",
      "4              3.555556    3.555556                        3.555556   \n",
      "5              3.636364    3.636364                        3.636364   \n",
      "\n",
      "title   ¡Three Amigos! (1986)  À nous la liberté (Freedom for Us) (1931)  \n",
      "userId                                                                    \n",
      "1                    4.000000                                   4.366379  \n",
      "2                    3.948276                                   3.948276  \n",
      "3                    2.435897                                   2.435897  \n",
      "4                    3.555556                                   3.555556  \n",
      "5                    3.636364                                   3.636364  \n",
      "\n",
      "[5 rows x 9719 columns]\n"
     ]
    }
   ],
   "source": [
    "user_item_filled = user_item_matrix.T.fillna(user_item_matrix.T.mean()).T\n",
    "print(user_item_filled.head())"
   ]
  },
  {
   "cell_type": "markdown",
   "metadata": {},
   "source": [
    "\n",
    "### Choose the correlation of all users with only User 1\n",
    "Sort the User 1 correlation in the descending order\n",
    "\n",
    "Drop the NaN values generated in the correlation matrix\n"
   ]
  },
  {
   "cell_type": "code",
   "execution_count": 7,
   "metadata": {},
   "outputs": [],
   "source": [
    "user_correlation = user_item_filled.T.corr()\n",
    "user1_corr = user_correlation[1].sort_values(ascending=False)\n",
    "user1_corr = user1_corr.dropna().drop(1)"
   ]
  },
  {
   "cell_type": "markdown",
   "metadata": {},
   "source": [
    "### Choose the top 50 users that are highly correlated to User 1\n"
   ]
  },
  {
   "cell_type": "code",
   "execution_count": 8,
   "metadata": {},
   "outputs": [
    {
     "name": "stdout",
     "output_type": "stream",
     "text": [
      "Top 50 Users similar to User 1 are:  userId\n",
      "597    0.102631\n",
      "414    0.101348\n",
      "477    0.099217\n",
      "57     0.099070\n",
      "369    0.098295\n",
      "206    0.096852\n",
      "535    0.096493\n",
      "590    0.095191\n",
      "418    0.094153\n",
      "120    0.092770\n",
      "75     0.091987\n",
      "577    0.089396\n",
      "198    0.088883\n",
      "160    0.088133\n",
      "226    0.088068\n",
      "266    0.086064\n",
      "312    0.086017\n",
      "19     0.085249\n",
      "135    0.084672\n",
      "484    0.084350\n",
      "469    0.084184\n",
      "72     0.083613\n",
      "593    0.082403\n",
      "44     0.081400\n",
      "297    0.080839\n",
      "434    0.078361\n",
      "483    0.078085\n",
      "449    0.077631\n",
      "552    0.077630\n",
      "171    0.077241\n",
      "199    0.076905\n",
      "45     0.076489\n",
      "608    0.075224\n",
      "494    0.073544\n",
      "116    0.073329\n",
      "450    0.072014\n",
      "201    0.071913\n",
      "387    0.071418\n",
      "173    0.071317\n",
      "600    0.069528\n",
      "513    0.069213\n",
      "524    0.069208\n",
      "368    0.069179\n",
      "555    0.068507\n",
      "180    0.067516\n",
      "445    0.067329\n",
      "20     0.066990\n",
      "307    0.066782\n",
      "480    0.066395\n",
      "178    0.066101\n",
      "Name: 1, dtype: float64\n"
     ]
    }
   ],
   "source": [
    "top_50_users = user1_corr[1:51]\n",
    "print(\"Top 50 Users similar to User 1 are: \", top_50_users)"
   ]
  },
  {
   "cell_type": "markdown",
   "metadata": {},
   "source": [
    "### Predict the rating that User 1 might give for the movie with movieid 32 based on the top 50 user correlation matrix\n",
    "(Hint: Predicted rating = sum of [(weights) * (ratings)] / sum of (weights ). Here, weights is the correlation of the corresponding user with the first user). That is, the predicted ratingis calculated as the weighted average of k similar users"
   ]
  },
  {
   "cell_type": "code",
   "execution_count": 9,
   "metadata": {},
   "outputs": [],
   "source": [
    "Movie_id_to_predict = 32\n",
    "movie_title = df_movie[df_movie['movieId'] == Movie_id_to_predict]['title'].values[0]\n"
   ]
  },
  {
   "cell_type": "code",
   "execution_count": 10,
   "metadata": {},
   "outputs": [],
   "source": [
    "ratings_top_50_users = user_item_filled.loc[top_50_users.index, movie_title]"
   ]
  },
  {
   "cell_type": "code",
   "execution_count": 11,
   "metadata": {},
   "outputs": [
    {
     "name": "stdout",
     "output_type": "stream",
     "text": [
      "Predicted Rating for the movie:  3.864651734772927\n"
     ]
    }
   ],
   "source": [
    "weights = top_50_users.values\n",
    "weighted_sum = (ratings_top_50_users * weights).sum()\n",
    "weights_sum = weights.sum()\n",
    "predicted_rating = weighted_sum / weights_sum\n",
    "print(\"Predicted Rating for the movie: \", predicted_rating)"
   ]
  },
  {
   "cell_type": "markdown",
   "metadata": {},
   "source": [
    "## Perform Item-based Collaborative Filtering\n",
    "### Fill the column-wise NaN's in the User-Item Matrix with the corresponding movie's mean ratings, and find Pearson correlation between movies"
   ]
  },
  {
   "cell_type": "code",
   "execution_count": 12,
   "metadata": {},
   "outputs": [],
   "source": [
    "movie_item_filled = user_item_matrix.apply(lambda col: col.fillna(col.mean()), axis=0)\n",
    "\n",
    "movie_corr = movie_item_filled.corr()"
   ]
  },
  {
   "cell_type": "markdown",
   "metadata": {},
   "source": [
    "### Choose the correlation of all movies with the movie Jurassic Park (1993) only\n"
   ]
  },
  {
   "cell_type": "code",
   "execution_count": 13,
   "metadata": {},
   "outputs": [],
   "source": [
    "jurassic_corr = movie_corr[\"Jurassic Park (1993)\"].dropna().sort_values(ascending=False)"
   ]
  },
  {
   "cell_type": "markdown",
   "metadata": {},
   "source": [
    "### Sort the Jurassic Park movie correlation in descending order"
   ]
  },
  {
   "cell_type": "markdown",
   "metadata": {},
   "source": [
    "### Find 10 movies similar to the movie Jurassic Park (1993)"
   ]
  },
  {
   "cell_type": "code",
   "execution_count": 14,
   "metadata": {},
   "outputs": [
    {
     "name": "stdout",
     "output_type": "stream",
     "text": [
      "\n",
      "Top 10 movies similar to 'Jurassic Park (1993)':\n",
      "title\n",
      "Fugitive, The (1993)                           0.324717\n",
      "Lethal Weapon (1987)                           0.318646\n",
      "Independence Day (a.k.a. ID4) (1996)           0.263629\n",
      "Mission: Impossible (1996)                     0.258080\n",
      "Ghostbusters (a.k.a. Ghost Busters) (1984)     0.256527\n",
      "Mulan (1998)                                   0.255672\n",
      "Rise of the Planet of the Apes (2011)          0.248134\n",
      "Bug's Life, A (1998)                           0.240964\n",
      "Indiana Jones and the Temple of Doom (1984)    0.239826\n",
      "Die Hard (1988)                                0.239294\n",
      "Name: Jurassic Park (1993), dtype: float64\n"
     ]
    }
   ],
   "source": [
    "similar_movies = jurassic_corr.drop(labels=[\"Jurassic Park (1993)\"]).head(10)\n",
    "print(\"\\nTop 10 movies similar to 'Jurassic Park (1993)':\")\n",
    "print(similar_movies)"
   ]
  },
  {
   "cell_type": "markdown",
   "metadata": {},
   "source": [
    "## Perform KNNBasic, SVD, NMF Model-based Collaborative Filtering\n",
    "### Initialize KNNBasic with similarity configuration as Mean Squared Distance Similarity (msd), 20 neighbors and cross-validate 5 folds against measure RMSE.\n",
    "(Hint: cross_validate(algo=algo, data=data, measures=['RMSE'], cv=5, verbose=True))\n"
   ]
  },
  {
   "cell_type": "code",
   "execution_count": 15,
   "metadata": {},
   "outputs": [
    {
     "ename": "NameError",
     "evalue": "name 'Reader' is not defined",
     "output_type": "error",
     "traceback": [
      "\u001b[31m---------------------------------------------------------------------------\u001b[39m",
      "\u001b[31mNameError\u001b[39m                                 Traceback (most recent call last)",
      "\u001b[36mCell\u001b[39m\u001b[36m \u001b[39m\u001b[32mIn[15]\u001b[39m\u001b[32m, line 1\u001b[39m\n\u001b[32m----> \u001b[39m\u001b[32m1\u001b[39m reader = \u001b[43mReader\u001b[49m(rating_scale=(\u001b[32m0.5\u001b[39m, \u001b[32m5.0\u001b[39m))\n\u001b[32m      3\u001b[39m data = Dataset.load_from_df(df_rating[[\u001b[33m'\u001b[39m\u001b[33muserId\u001b[39m\u001b[33m'\u001b[39m, \u001b[33m'\u001b[39m\u001b[33mmovieId\u001b[39m\u001b[33m'\u001b[39m, \u001b[33m'\u001b[39m\u001b[33mrating\u001b[39m\u001b[33m'\u001b[39m]], reader = reader)\n",
      "\u001b[31mNameError\u001b[39m: name 'Reader' is not defined"
     ]
    }
   ],
   "source": [
    "reader = Reader(rating_scale=(0.5, 5.0))\n",
    "\n",
    "data = Dataset.load_from_df(df_rating[['userId', 'movieId', 'rating']], reader = reader)"
   ]
  },
  {
   "cell_type": "code",
   "execution_count": null,
   "metadata": {},
   "outputs": [
    {
     "name": "stdout",
     "output_type": "stream",
     "text": [
      "\n",
      "Average RMSE Scores (5-Fold CV):\n",
      "KNNBasic (approx MSD): 2.5222\n",
      "SVD: 3.4011\n",
      "NMF: 3.3646\n"
     ]
    }
   ],
   "source": [
    "# KNNBasic Model\n",
    "knn = NearestNeighbors(sim_options={'name': 'msd', 'user_based': True}, k=20)\n",
    "cross_validate(knn, data, measures=['RMSE'], cv=5, verbose=True)"
   ]
  },
  {
   "cell_type": "markdown",
   "metadata": {},
   "source": [
    "### Initialize Singular Value Decomposition (SVD) and cross-validate 5 folds against measure RMSE.\n"
   ]
  },
  {
   "cell_type": "code",
   "execution_count": null,
   "metadata": {},
   "outputs": [],
   "source": [
    "# SVD Model\n",
    "svd = TruncatedSVD()\n",
    "cross_validate(svd, data, measures=['RMSE'], cv=5, verbose=True)"
   ]
  },
  {
   "cell_type": "markdown",
   "metadata": {},
   "source": [
    "### Initialize Non-Negative Matrix Factorization (NMF) and cross-validate 5 folds against measure RMSE.\n"
   ]
  },
  {
   "cell_type": "code",
   "execution_count": null,
   "metadata": {},
   "outputs": [],
   "source": [
    "# NMF Model\n",
    "nmf = NMF()\n",
    "cross_validate(nmf, data, measures=['RMSE'], cv=5, verbose=True)"
   ]
  },
  {
   "cell_type": "code",
   "execution_count": null,
   "metadata": {},
   "outputs": [],
   "source": [
    "### --- Model-Based Collaborative Filtering (KNN, SVD, NMF) ---\n",
    "# Fill NaNs with 0 for modeling\n",
    "user_item_model = user_item_matrix.fillna(0)\n",
    "X = user_item_model.values\n",
    "kf = KFold(n_splits=5, shuffle=True, random_state=42)\n",
    "rmse_knn, rmse_svd, rmse_nmf = [], [], []"
   ]
  },
  {
   "cell_type": "code",
   "execution_count": null,
   "metadata": {},
   "outputs": [
    {
     "name": "stdout",
     "output_type": "stream",
     "text": [
      "\n",
      "Average RMSE Scores (5-Fold CV):\n",
      "KNNBasic (approx MSD): 2.5222\n",
      "SVD: 3.4011\n",
      "NMF: 3.3646\n"
     ]
    }
   ],
   "source": [
    "for train_index, test_index in kf.split(X):\n",
    "    X_train, X_test = X[train_index], X[test_index]\n",
    "    # KNN Approximate MSD\n",
    "    knn = NearestNeighbors(n_neighbors=20, metric='minkowski', p=2)\n",
    "    knn.fit(X_train)\n",
    "    distances, indices = knn.kneighbors(X_test)\n",
    "    knn_preds, knn_actuals = [], []\n",
    "    for i, neighbors in enumerate(indices):\n",
    "        neighbor_ratings = X_train[neighbors]\n",
    "        pred = np.where(np.count_nonzero(neighbor_ratings, axis=0) > 0,\n",
    "                        neighbor_ratings.sum(axis=0) / np.maximum(1, (neighbor_ratings != 0).sum(axis=0)),\n",
    "                        0)\n",
    "        actual = X_test[i]\n",
    "        mask = actual != 0\n",
    "        if mask.sum() > 0:\n",
    "            knn_preds.extend(pred[mask])\n",
    "            knn_actuals.extend(actual[mask])\n",
    "    rmse_knn.append(np.sqrt(mean_squared_error(knn_actuals, knn_preds)))\n",
    "        # SVD\n",
    "    svd_model = TruncatedSVD(n_components=20, random_state=42)\n",
    "    X_svd = svd_model.fit_transform(X_train)\n",
    "    X_reconstructed = svd_model.inverse_transform(X_svd)\n",
    "    svd_preds, svd_actuals = [], []\n",
    "    for i, user_idx in enumerate(test_index):\n",
    "        actual = X[user_idx]\n",
    "        pred = X_reconstructed[i]\n",
    "        mask = actual != 0\n",
    "        svd_preds.extend(pred[mask])\n",
    "        svd_actuals.extend(actual[mask])\n",
    "    rmse_svd.append(np.sqrt(mean_squared_error(svd_actuals, svd_preds)))\n",
    "    # NMF\n",
    "    nmf_model = NMF(n_components=20, init='random', random_state=42, max_iter=200)\n",
    "    X_train_nmf = np.where(X_train == 0, 1e-5, X_train)\n",
    "    W = nmf_model.fit_transform(X_train_nmf)\n",
    "    H = nmf_model.components_\n",
    "    X_reconstructed = np.dot(W, H)\n",
    "    nmf_preds, nmf_actuals = [], []\n",
    "    for i, user_idx in enumerate(test_index):\n",
    "        actual = X[user_idx]\n",
    "        pred = X_reconstructed[i]\n",
    "        mask = actual != 0\n",
    "        nmf_preds.extend(pred[mask])\n",
    "        nmf_actuals.extend(actual[mask])\n",
    "    rmse_nmf.append(np.sqrt(mean_squared_error(nmf_actuals, nmf_preds)))\n",
    "# Output average RMSE scores\n",
    "avg_rmse_scores = {\n",
    "    'KNNBasic (approx MSD)': np.mean(rmse_knn),\n",
    "    'SVD': np.mean(rmse_svd),\n",
    "    'NMF': np.mean(rmse_nmf)\n",
    "}\n",
    "print(\"\\nAverage RMSE Scores (5-Fold CV):\")\n",
    "for model, score in avg_rmse_scores.items():\n",
    "    print(f\"{model}: {score:.4f}\")"
   ]
  },
  {
   "cell_type": "markdown",
   "metadata": {},
   "source": [
    "### Print best score and best params from Cross Validate on all the models built."
   ]
  }
 ],
 "metadata": {
  "kernelspec": {
   "display_name": ".venv",
   "language": "python",
   "name": "python3"
  },
  "language_info": {
   "codemirror_mode": {
    "name": "ipython",
    "version": 3
   },
   "file_extension": ".py",
   "mimetype": "text/x-python",
   "name": "python",
   "nbconvert_exporter": "python",
   "pygments_lexer": "ipython3",
   "version": "3.12.3"
  }
 },
 "nbformat": 4,
 "nbformat_minor": 2
}
