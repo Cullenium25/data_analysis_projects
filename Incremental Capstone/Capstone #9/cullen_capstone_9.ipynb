{
 "cells": [
  {
   "cell_type": "markdown",
   "id": "6cfc848b",
   "metadata": {},
   "source": [
    "# Task: Build an Artificial Neural Network to identify the customers who will be leaving the bank, based on the data of all customers over the past three months."
   ]
  },
  {
   "cell_type": "code",
   "execution_count": 1,
   "id": "31f86d71",
   "metadata": {},
   "outputs": [
    {
     "name": "stderr",
     "output_type": "stream",
     "text": [
      "2025-04-25 14:11:43.838976: I tensorflow/core/util/port.cc:153] oneDNN custom operations are on. You may see slightly different numerical results due to floating-point round-off errors from different computation orders. To turn them off, set the environment variable `TF_ENABLE_ONEDNN_OPTS=0`.\n",
      "2025-04-25 14:11:43.839627: I external/local_xla/xla/tsl/cuda/cudart_stub.cc:32] Could not find cuda drivers on your machine, GPU will not be used.\n",
      "2025-04-25 14:11:43.841880: I external/local_xla/xla/tsl/cuda/cudart_stub.cc:32] Could not find cuda drivers on your machine, GPU will not be used.\n",
      "2025-04-25 14:11:43.847770: E external/local_xla/xla/stream_executor/cuda/cuda_fft.cc:467] Unable to register cuFFT factory: Attempting to register factory for plugin cuFFT when one has already been registered\n",
      "WARNING: All log messages before absl::InitializeLog() is called are written to STDERR\n",
      "E0000 00:00:1745608303.858124   28740 cuda_dnn.cc:8579] Unable to register cuDNN factory: Attempting to register factory for plugin cuDNN when one has already been registered\n",
      "E0000 00:00:1745608303.860951   28740 cuda_blas.cc:1407] Unable to register cuBLAS factory: Attempting to register factory for plugin cuBLAS when one has already been registered\n",
      "W0000 00:00:1745608303.869272   28740 computation_placer.cc:177] computation placer already registered. Please check linkage and avoid linking the same target more than once.\n",
      "W0000 00:00:1745608303.869288   28740 computation_placer.cc:177] computation placer already registered. Please check linkage and avoid linking the same target more than once.\n",
      "W0000 00:00:1745608303.869289   28740 computation_placer.cc:177] computation placer already registered. Please check linkage and avoid linking the same target more than once.\n",
      "W0000 00:00:1745608303.869290   28740 computation_placer.cc:177] computation placer already registered. Please check linkage and avoid linking the same target more than once.\n",
      "2025-04-25 14:11:43.872291: I tensorflow/core/platform/cpu_feature_guard.cc:210] This TensorFlow binary is optimized to use available CPU instructions in performance-critical operations.\n",
      "To enable the following instructions: AVX2 AVX512F AVX512_VNNI AVX512_BF16 FMA, in other operations, rebuild TensorFlow with the appropriate compiler flags.\n"
     ]
    }
   ],
   "source": [
    "import pandas as pd\n",
    "import numpy as np\n",
    "import matplotlib.pyplot as plt\n",
    "from sklearn.preprocessing import LabelEncoder, StandardScaler\n",
    "from sklearn.model_selection import train_test_split\n",
    "from sklearn.metrics import accuracy_score, classification_report, confusion_matrix, ConfusionMatrixDisplay\n",
    "from tensorflow import keras\n",
    "from tensorflow.keras import models, layers\n",
    "from tensorflow.keras.models import Sequential"
   ]
  },
  {
   "cell_type": "markdown",
   "id": "84e48db8",
   "metadata": {},
   "source": [
    "## Task A:\n",
    "### Load the dataset"
   ]
  },
  {
   "cell_type": "code",
   "execution_count": 2,
   "id": "dc9fdf7f",
   "metadata": {},
   "outputs": [],
   "source": [
    "df = pd.read_csv('Churn_Modelling.csv')"
   ]
  },
  {
   "cell_type": "markdown",
   "id": "711dc017",
   "metadata": {},
   "source": [
    "Row Numbers: Row numbers from 1 to 10000\n",
    "\n",
    "CustomerId: Unique IDs for bank customer identification \n",
    "\n",
    "Surname: Customer’s Last Name \n",
    "\n",
    "CreditScore: Credit score of the customer \n",
    "\n",
    "Geography: The country that the customer\n",
    "belongs to\n",
    "\n",
    "Gender: Male or Female\n",
    "\n",
    "Age: Age of the customer\n",
    "\n",
    "Tenure: Number of years for which the customer has been with the bank\n",
    "\n",
    "Balance: Bank balance of the customer\n",
    "\n",
    "NumOfProducts: Number of bank products the customer is using"
   ]
  },
  {
   "cell_type": "code",
   "execution_count": 3,
   "id": "c46e0d8e",
   "metadata": {},
   "outputs": [
    {
     "name": "stdout",
     "output_type": "stream",
     "text": [
      "<class 'pandas.core.frame.DataFrame'>\n",
      "RangeIndex: 10000 entries, 0 to 9999\n",
      "Data columns (total 14 columns):\n",
      " #   Column           Non-Null Count  Dtype  \n",
      "---  ------           --------------  -----  \n",
      " 0   RowNumber        10000 non-null  int64  \n",
      " 1   CustomerId       10000 non-null  int64  \n",
      " 2   Surname          10000 non-null  object \n",
      " 3   CreditScore      10000 non-null  int64  \n",
      " 4   Geography        10000 non-null  object \n",
      " 5   Gender           10000 non-null  object \n",
      " 6   Age              10000 non-null  int64  \n",
      " 7   Tenure           10000 non-null  int64  \n",
      " 8   Balance          10000 non-null  float64\n",
      " 9   NumOfProducts    10000 non-null  int64  \n",
      " 10  HasCrCard        10000 non-null  int64  \n",
      " 11  IsActiveMember   10000 non-null  int64  \n",
      " 12  EstimatedSalary  10000 non-null  float64\n",
      " 13  Exited           10000 non-null  int64  \n",
      "dtypes: float64(2), int64(9), object(3)\n",
      "memory usage: 1.1+ MB\n"
     ]
    }
   ],
   "source": [
    "df.info()"
   ]
  },
  {
   "cell_type": "code",
   "execution_count": 4,
   "id": "5b208c96",
   "metadata": {},
   "outputs": [
    {
     "data": {
      "application/vnd.microsoft.datawrangler.viewer.v0+json": {
       "columns": [
        {
         "name": "index",
         "rawType": "int64",
         "type": "integer"
        },
        {
         "name": "RowNumber",
         "rawType": "int64",
         "type": "integer"
        },
        {
         "name": "CustomerId",
         "rawType": "int64",
         "type": "integer"
        },
        {
         "name": "Surname",
         "rawType": "object",
         "type": "string"
        },
        {
         "name": "CreditScore",
         "rawType": "int64",
         "type": "integer"
        },
        {
         "name": "Geography",
         "rawType": "object",
         "type": "string"
        },
        {
         "name": "Gender",
         "rawType": "object",
         "type": "string"
        },
        {
         "name": "Age",
         "rawType": "int64",
         "type": "integer"
        },
        {
         "name": "Tenure",
         "rawType": "int64",
         "type": "integer"
        },
        {
         "name": "Balance",
         "rawType": "float64",
         "type": "float"
        },
        {
         "name": "NumOfProducts",
         "rawType": "int64",
         "type": "integer"
        },
        {
         "name": "HasCrCard",
         "rawType": "int64",
         "type": "integer"
        },
        {
         "name": "IsActiveMember",
         "rawType": "int64",
         "type": "integer"
        },
        {
         "name": "EstimatedSalary",
         "rawType": "float64",
         "type": "float"
        },
        {
         "name": "Exited",
         "rawType": "int64",
         "type": "integer"
        }
       ],
       "conversionMethod": "pd.DataFrame",
       "ref": "5b61ba2f-e1f0-489e-abfd-3d93be259be4",
       "rows": [
        [
         "0",
         "1",
         "15634602",
         "Hargrave",
         "619",
         "France",
         "Female",
         "42",
         "2",
         "0.0",
         "1",
         "1",
         "1",
         "101348.88",
         "1"
        ],
        [
         "1",
         "2",
         "15647311",
         "Hill",
         "608",
         "Spain",
         "Female",
         "41",
         "1",
         "83807.86",
         "1",
         "0",
         "1",
         "112542.58",
         "0"
        ],
        [
         "2",
         "3",
         "15619304",
         "Onio",
         "502",
         "France",
         "Female",
         "42",
         "8",
         "159660.8",
         "3",
         "1",
         "0",
         "113931.57",
         "1"
        ],
        [
         "3",
         "4",
         "15701354",
         "Boni",
         "699",
         "France",
         "Female",
         "39",
         "1",
         "0.0",
         "2",
         "0",
         "0",
         "93826.63",
         "0"
        ],
        [
         "4",
         "5",
         "15737888",
         "Mitchell",
         "850",
         "Spain",
         "Female",
         "43",
         "2",
         "125510.82",
         "1",
         "1",
         "1",
         "79084.1",
         "0"
        ]
       ],
       "shape": {
        "columns": 14,
        "rows": 5
       }
      },
      "text/html": [
       "<div>\n",
       "<style scoped>\n",
       "    .dataframe tbody tr th:only-of-type {\n",
       "        vertical-align: middle;\n",
       "    }\n",
       "\n",
       "    .dataframe tbody tr th {\n",
       "        vertical-align: top;\n",
       "    }\n",
       "\n",
       "    .dataframe thead th {\n",
       "        text-align: right;\n",
       "    }\n",
       "</style>\n",
       "<table border=\"1\" class=\"dataframe\">\n",
       "  <thead>\n",
       "    <tr style=\"text-align: right;\">\n",
       "      <th></th>\n",
       "      <th>RowNumber</th>\n",
       "      <th>CustomerId</th>\n",
       "      <th>Surname</th>\n",
       "      <th>CreditScore</th>\n",
       "      <th>Geography</th>\n",
       "      <th>Gender</th>\n",
       "      <th>Age</th>\n",
       "      <th>Tenure</th>\n",
       "      <th>Balance</th>\n",
       "      <th>NumOfProducts</th>\n",
       "      <th>HasCrCard</th>\n",
       "      <th>IsActiveMember</th>\n",
       "      <th>EstimatedSalary</th>\n",
       "      <th>Exited</th>\n",
       "    </tr>\n",
       "  </thead>\n",
       "  <tbody>\n",
       "    <tr>\n",
       "      <th>0</th>\n",
       "      <td>1</td>\n",
       "      <td>15634602</td>\n",
       "      <td>Hargrave</td>\n",
       "      <td>619</td>\n",
       "      <td>France</td>\n",
       "      <td>Female</td>\n",
       "      <td>42</td>\n",
       "      <td>2</td>\n",
       "      <td>0.00</td>\n",
       "      <td>1</td>\n",
       "      <td>1</td>\n",
       "      <td>1</td>\n",
       "      <td>101348.88</td>\n",
       "      <td>1</td>\n",
       "    </tr>\n",
       "    <tr>\n",
       "      <th>1</th>\n",
       "      <td>2</td>\n",
       "      <td>15647311</td>\n",
       "      <td>Hill</td>\n",
       "      <td>608</td>\n",
       "      <td>Spain</td>\n",
       "      <td>Female</td>\n",
       "      <td>41</td>\n",
       "      <td>1</td>\n",
       "      <td>83807.86</td>\n",
       "      <td>1</td>\n",
       "      <td>0</td>\n",
       "      <td>1</td>\n",
       "      <td>112542.58</td>\n",
       "      <td>0</td>\n",
       "    </tr>\n",
       "    <tr>\n",
       "      <th>2</th>\n",
       "      <td>3</td>\n",
       "      <td>15619304</td>\n",
       "      <td>Onio</td>\n",
       "      <td>502</td>\n",
       "      <td>France</td>\n",
       "      <td>Female</td>\n",
       "      <td>42</td>\n",
       "      <td>8</td>\n",
       "      <td>159660.80</td>\n",
       "      <td>3</td>\n",
       "      <td>1</td>\n",
       "      <td>0</td>\n",
       "      <td>113931.57</td>\n",
       "      <td>1</td>\n",
       "    </tr>\n",
       "    <tr>\n",
       "      <th>3</th>\n",
       "      <td>4</td>\n",
       "      <td>15701354</td>\n",
       "      <td>Boni</td>\n",
       "      <td>699</td>\n",
       "      <td>France</td>\n",
       "      <td>Female</td>\n",
       "      <td>39</td>\n",
       "      <td>1</td>\n",
       "      <td>0.00</td>\n",
       "      <td>2</td>\n",
       "      <td>0</td>\n",
       "      <td>0</td>\n",
       "      <td>93826.63</td>\n",
       "      <td>0</td>\n",
       "    </tr>\n",
       "    <tr>\n",
       "      <th>4</th>\n",
       "      <td>5</td>\n",
       "      <td>15737888</td>\n",
       "      <td>Mitchell</td>\n",
       "      <td>850</td>\n",
       "      <td>Spain</td>\n",
       "      <td>Female</td>\n",
       "      <td>43</td>\n",
       "      <td>2</td>\n",
       "      <td>125510.82</td>\n",
       "      <td>1</td>\n",
       "      <td>1</td>\n",
       "      <td>1</td>\n",
       "      <td>79084.10</td>\n",
       "      <td>0</td>\n",
       "    </tr>\n",
       "  </tbody>\n",
       "</table>\n",
       "</div>"
      ],
      "text/plain": [
       "   RowNumber  CustomerId   Surname  CreditScore Geography  Gender  Age  \\\n",
       "0          1    15634602  Hargrave          619    France  Female   42   \n",
       "1          2    15647311      Hill          608     Spain  Female   41   \n",
       "2          3    15619304      Onio          502    France  Female   42   \n",
       "3          4    15701354      Boni          699    France  Female   39   \n",
       "4          5    15737888  Mitchell          850     Spain  Female   43   \n",
       "\n",
       "   Tenure    Balance  NumOfProducts  HasCrCard  IsActiveMember  \\\n",
       "0       2       0.00              1          1               1   \n",
       "1       1   83807.86              1          0               1   \n",
       "2       8  159660.80              3          1               0   \n",
       "3       1       0.00              2          0               0   \n",
       "4       2  125510.82              1          1               1   \n",
       "\n",
       "   EstimatedSalary  Exited  \n",
       "0        101348.88       1  \n",
       "1        112542.58       0  \n",
       "2        113931.57       1  \n",
       "3         93826.63       0  \n",
       "4         79084.10       0  "
      ]
     },
     "execution_count": 4,
     "metadata": {},
     "output_type": "execute_result"
    }
   ],
   "source": [
    "df.head()"
   ]
  },
  {
   "cell_type": "markdown",
   "id": "d4ea6124",
   "metadata": {},
   "source": [
    "### Drop the customers' personal data columns that will not be useful for analysis. (Hint: First three columns)"
   ]
  },
  {
   "cell_type": "code",
   "execution_count": 5,
   "id": "586215cf",
   "metadata": {},
   "outputs": [],
   "source": [
    "df.drop(['RowNumber', 'CustomerId', 'Surname'], axis=1, inplace=True)"
   ]
  },
  {
   "cell_type": "markdown",
   "id": "ad670c79",
   "metadata": {},
   "source": [
    "### Prepare independent variables X and dependent variable Y (Exited)."
   ]
  },
  {
   "cell_type": "code",
   "execution_count": 6,
   "id": "e1a8160a",
   "metadata": {},
   "outputs": [],
   "source": [
    "X = df.drop('Exited', axis=1)\n",
    "y = df['Exited']"
   ]
  },
  {
   "cell_type": "markdown",
   "id": "4148cebe",
   "metadata": {},
   "source": [
    "### LabelEncode the Gender column"
   ]
  },
  {
   "cell_type": "code",
   "execution_count": 7,
   "id": "fe981ec9",
   "metadata": {},
   "outputs": [],
   "source": [
    "le = LabelEncoder()\n",
    "X['Gender'] = le.fit_transform(X['Gender'])"
   ]
  },
  {
   "cell_type": "markdown",
   "id": "eedb5dbf",
   "metadata": {},
   "source": [
    "### OneHotEncode the Geography column"
   ]
  },
  {
   "cell_type": "code",
   "execution_count": 8,
   "id": "b42d21ee",
   "metadata": {},
   "outputs": [],
   "source": [
    "X_geo = pd.get_dummies(X['Geography'], prefix='encoded', drop_first=True).astype(int)"
   ]
  },
  {
   "cell_type": "code",
   "execution_count": 9,
   "id": "333e512a",
   "metadata": {},
   "outputs": [
    {
     "data": {
      "application/vnd.microsoft.datawrangler.viewer.v0+json": {
       "columns": [
        {
         "name": "index",
         "rawType": "int64",
         "type": "integer"
        },
        {
         "name": "encoded_Germany",
         "rawType": "int64",
         "type": "integer"
        },
        {
         "name": "encoded_Spain",
         "rawType": "int64",
         "type": "integer"
        },
        {
         "name": "CreditScore",
         "rawType": "int64",
         "type": "integer"
        },
        {
         "name": "Gender",
         "rawType": "int64",
         "type": "integer"
        },
        {
         "name": "Age",
         "rawType": "int64",
         "type": "integer"
        },
        {
         "name": "Tenure",
         "rawType": "int64",
         "type": "integer"
        },
        {
         "name": "Balance",
         "rawType": "float64",
         "type": "float"
        },
        {
         "name": "NumOfProducts",
         "rawType": "int64",
         "type": "integer"
        },
        {
         "name": "HasCrCard",
         "rawType": "int64",
         "type": "integer"
        },
        {
         "name": "IsActiveMember",
         "rawType": "int64",
         "type": "integer"
        },
        {
         "name": "EstimatedSalary",
         "rawType": "float64",
         "type": "float"
        }
       ],
       "conversionMethod": "pd.DataFrame",
       "ref": "0ae18c9f-37c9-4fd1-946b-985fc444765b",
       "rows": [
        [
         "0",
         "0",
         "0",
         "619",
         "0",
         "42",
         "2",
         "0.0",
         "1",
         "1",
         "1",
         "101348.88"
        ],
        [
         "1",
         "0",
         "1",
         "608",
         "0",
         "41",
         "1",
         "83807.86",
         "1",
         "0",
         "1",
         "112542.58"
        ],
        [
         "2",
         "0",
         "0",
         "502",
         "0",
         "42",
         "8",
         "159660.8",
         "3",
         "1",
         "0",
         "113931.57"
        ],
        [
         "3",
         "0",
         "0",
         "699",
         "0",
         "39",
         "1",
         "0.0",
         "2",
         "0",
         "0",
         "93826.63"
        ],
        [
         "4",
         "0",
         "1",
         "850",
         "0",
         "43",
         "2",
         "125510.82",
         "1",
         "1",
         "1",
         "79084.1"
        ]
       ],
       "shape": {
        "columns": 11,
        "rows": 5
       }
      },
      "text/html": [
       "<div>\n",
       "<style scoped>\n",
       "    .dataframe tbody tr th:only-of-type {\n",
       "        vertical-align: middle;\n",
       "    }\n",
       "\n",
       "    .dataframe tbody tr th {\n",
       "        vertical-align: top;\n",
       "    }\n",
       "\n",
       "    .dataframe thead th {\n",
       "        text-align: right;\n",
       "    }\n",
       "</style>\n",
       "<table border=\"1\" class=\"dataframe\">\n",
       "  <thead>\n",
       "    <tr style=\"text-align: right;\">\n",
       "      <th></th>\n",
       "      <th>encoded_Germany</th>\n",
       "      <th>encoded_Spain</th>\n",
       "      <th>CreditScore</th>\n",
       "      <th>Gender</th>\n",
       "      <th>Age</th>\n",
       "      <th>Tenure</th>\n",
       "      <th>Balance</th>\n",
       "      <th>NumOfProducts</th>\n",
       "      <th>HasCrCard</th>\n",
       "      <th>IsActiveMember</th>\n",
       "      <th>EstimatedSalary</th>\n",
       "    </tr>\n",
       "  </thead>\n",
       "  <tbody>\n",
       "    <tr>\n",
       "      <th>0</th>\n",
       "      <td>0</td>\n",
       "      <td>0</td>\n",
       "      <td>619</td>\n",
       "      <td>0</td>\n",
       "      <td>42</td>\n",
       "      <td>2</td>\n",
       "      <td>0.00</td>\n",
       "      <td>1</td>\n",
       "      <td>1</td>\n",
       "      <td>1</td>\n",
       "      <td>101348.88</td>\n",
       "    </tr>\n",
       "    <tr>\n",
       "      <th>1</th>\n",
       "      <td>0</td>\n",
       "      <td>1</td>\n",
       "      <td>608</td>\n",
       "      <td>0</td>\n",
       "      <td>41</td>\n",
       "      <td>1</td>\n",
       "      <td>83807.86</td>\n",
       "      <td>1</td>\n",
       "      <td>0</td>\n",
       "      <td>1</td>\n",
       "      <td>112542.58</td>\n",
       "    </tr>\n",
       "    <tr>\n",
       "      <th>2</th>\n",
       "      <td>0</td>\n",
       "      <td>0</td>\n",
       "      <td>502</td>\n",
       "      <td>0</td>\n",
       "      <td>42</td>\n",
       "      <td>8</td>\n",
       "      <td>159660.80</td>\n",
       "      <td>3</td>\n",
       "      <td>1</td>\n",
       "      <td>0</td>\n",
       "      <td>113931.57</td>\n",
       "    </tr>\n",
       "    <tr>\n",
       "      <th>3</th>\n",
       "      <td>0</td>\n",
       "      <td>0</td>\n",
       "      <td>699</td>\n",
       "      <td>0</td>\n",
       "      <td>39</td>\n",
       "      <td>1</td>\n",
       "      <td>0.00</td>\n",
       "      <td>2</td>\n",
       "      <td>0</td>\n",
       "      <td>0</td>\n",
       "      <td>93826.63</td>\n",
       "    </tr>\n",
       "    <tr>\n",
       "      <th>4</th>\n",
       "      <td>0</td>\n",
       "      <td>1</td>\n",
       "      <td>850</td>\n",
       "      <td>0</td>\n",
       "      <td>43</td>\n",
       "      <td>2</td>\n",
       "      <td>125510.82</td>\n",
       "      <td>1</td>\n",
       "      <td>1</td>\n",
       "      <td>1</td>\n",
       "      <td>79084.10</td>\n",
       "    </tr>\n",
       "  </tbody>\n",
       "</table>\n",
       "</div>"
      ],
      "text/plain": [
       "   encoded_Germany  encoded_Spain  CreditScore  Gender  Age  Tenure  \\\n",
       "0                0              0          619       0   42       2   \n",
       "1                0              1          608       0   41       1   \n",
       "2                0              0          502       0   42       8   \n",
       "3                0              0          699       0   39       1   \n",
       "4                0              1          850       0   43       2   \n",
       "\n",
       "     Balance  NumOfProducts  HasCrCard  IsActiveMember  EstimatedSalary  \n",
       "0       0.00              1          1               1        101348.88  \n",
       "1   83807.86              1          0               1        112542.58  \n",
       "2  159660.80              3          1               0        113931.57  \n",
       "3       0.00              2          0               0         93826.63  \n",
       "4  125510.82              1          1               1         79084.10  "
      ]
     },
     "execution_count": 9,
     "metadata": {},
     "output_type": "execute_result"
    }
   ],
   "source": [
    "X.drop('Geography', axis=1, inplace=True)\n",
    "X = pd.concat([X_geo,X], axis=1)\n",
    "X.head()"
   ]
  },
  {
   "cell_type": "markdown",
   "id": "5e88aae0",
   "metadata": {},
   "source": [
    "### Perform a train test split in the ratio 80:20 and random_state 0"
   ]
  },
  {
   "cell_type": "code",
   "execution_count": 10,
   "id": "2f066cab",
   "metadata": {},
   "outputs": [],
   "source": [
    "X_train, X_test, y_train, y_test = train_test_split(X, y, test_size=0.2, random_state=0)"
   ]
  },
  {
   "cell_type": "code",
   "execution_count": 11,
   "id": "a37e26b6",
   "metadata": {},
   "outputs": [],
   "source": [
    "scaler = StandardScaler()\n",
    "X_train_scaled = scaler.fit_transform(X_train)\n",
    "X_test_scaled = scaler.transform(X_test)"
   ]
  },
  {
   "cell_type": "markdown",
   "id": "3535e48c",
   "metadata": {},
   "source": [
    "### Build a Keras Sequential model with the following layers:\n",
    "\n",
    "• Dense layer with 6 neurons and activation relu\n",
    "\n",
    "• Dense layer with 1 neuron and activation sigmoid\n",
    "\n",
    "• Compile the model with Adam optimizer, binary_crossentropy loss and metric accuracy"
   ]
  },
  {
   "cell_type": "code",
   "execution_count": 12,
   "id": "9d7a55af",
   "metadata": {},
   "outputs": [
    {
     "name": "stderr",
     "output_type": "stream",
     "text": [
      "/home/cullen-fedora/Documents/Python-Projects/.venv/lib/python3.12/site-packages/keras/src/layers/core/dense.py:87: UserWarning: Do not pass an `input_shape`/`input_dim` argument to a layer. When using Sequential models, prefer using an `Input(shape)` object as the first layer in the model instead.\n",
      "  super().__init__(activity_regularizer=activity_regularizer, **kwargs)\n",
      "2025-04-25 14:11:45.320054: E external/local_xla/xla/stream_executor/cuda/cuda_platform.cc:51] failed call to cuInit: INTERNAL: CUDA error: Failed call to cuInit: UNKNOWN ERROR (303)\n"
     ]
    }
   ],
   "source": [
    "ANN_model = Sequential([\n",
    "    layers.Dense(6, activation='relu', input_shape=[X_train_scaled.shape[1]]),\n",
    "    layers.Dense(1, activation='sigmoid')\n",
    "])\n",
    "\n",
    "ANN_model.compile(\n",
    "    optimizer = 'adam',\n",
    "    loss = 'binary_crossentropy',\n",
    "    metrics = ['accuracy']\n",
    ")"
   ]
  },
  {
   "cell_type": "markdown",
   "id": "bf2502fd",
   "metadata": {},
   "source": [
    "### Train the model for 10 epochs and batch size 10"
   ]
  },
  {
   "cell_type": "code",
   "execution_count": 13,
   "id": "16ee8849",
   "metadata": {},
   "outputs": [
    {
     "name": "stdout",
     "output_type": "stream",
     "text": [
      "Epoch 1/10\n",
      "\u001b[1m720/720\u001b[0m \u001b[32m━━━━━━━━━━━━━━━━━━━━\u001b[0m\u001b[37m\u001b[0m \u001b[1m1s\u001b[0m 677us/step - accuracy: 0.6192 - loss: 0.6717 - val_accuracy: 0.8250 - val_loss: 0.4912\n",
      "Epoch 2/10\n",
      "\u001b[1m720/720\u001b[0m \u001b[32m━━━━━━━━━━━━━━━━━━━━\u001b[0m\u001b[37m\u001b[0m \u001b[1m0s\u001b[0m 577us/step - accuracy: 0.8156 - loss: 0.4742 - val_accuracy: 0.8275 - val_loss: 0.4342\n",
      "Epoch 3/10\n",
      "\u001b[1m720/720\u001b[0m \u001b[32m━━━━━━━━━━━━━━━━━━━━\u001b[0m\u001b[37m\u001b[0m \u001b[1m0s\u001b[0m 564us/step - accuracy: 0.8145 - loss: 0.4375 - val_accuracy: 0.8375 - val_loss: 0.4069\n",
      "Epoch 4/10\n",
      "\u001b[1m720/720\u001b[0m \u001b[32m━━━━━━━━━━━━━━━━━━━━\u001b[0m\u001b[37m\u001b[0m \u001b[1m0s\u001b[0m 594us/step - accuracy: 0.8302 - loss: 0.4077 - val_accuracy: 0.8413 - val_loss: 0.3878\n",
      "Epoch 5/10\n",
      "\u001b[1m720/720\u001b[0m \u001b[32m━━━━━━━━━━━━━━━━━━━━\u001b[0m\u001b[37m\u001b[0m \u001b[1m0s\u001b[0m 560us/step - accuracy: 0.8337 - loss: 0.3950 - val_accuracy: 0.8425 - val_loss: 0.3752\n",
      "Epoch 6/10\n",
      "\u001b[1m720/720\u001b[0m \u001b[32m━━━━━━━━━━━━━━━━━━━━\u001b[0m\u001b[37m\u001b[0m \u001b[1m0s\u001b[0m 564us/step - accuracy: 0.8423 - loss: 0.3805 - val_accuracy: 0.8487 - val_loss: 0.3668\n",
      "Epoch 7/10\n",
      "\u001b[1m720/720\u001b[0m \u001b[32m━━━━━━━━━━━━━━━━━━━━\u001b[0m\u001b[37m\u001b[0m \u001b[1m0s\u001b[0m 562us/step - accuracy: 0.8374 - loss: 0.3746 - val_accuracy: 0.8462 - val_loss: 0.3581\n",
      "Epoch 8/10\n",
      "\u001b[1m720/720\u001b[0m \u001b[32m━━━━━━━━━━━━━━━━━━━━\u001b[0m\u001b[37m\u001b[0m \u001b[1m0s\u001b[0m 557us/step - accuracy: 0.8460 - loss: 0.3680 - val_accuracy: 0.8600 - val_loss: 0.3503\n",
      "Epoch 9/10\n",
      "\u001b[1m720/720\u001b[0m \u001b[32m━━━━━━━━━━━━━━━━━━━━\u001b[0m\u001b[37m\u001b[0m \u001b[1m0s\u001b[0m 559us/step - accuracy: 0.8487 - loss: 0.3602 - val_accuracy: 0.8587 - val_loss: 0.3458\n",
      "Epoch 10/10\n",
      "\u001b[1m720/720\u001b[0m \u001b[32m━━━━━━━━━━━━━━━━━━━━\u001b[0m\u001b[37m\u001b[0m \u001b[1m0s\u001b[0m 564us/step - accuracy: 0.8575 - loss: 0.3426 - val_accuracy: 0.8612 - val_loss: 0.3415\n"
     ]
    }
   ],
   "source": [
    "history = ANN_model.fit(X_train_scaled, y_train, validation_split=0.1, batch_size=10, epochs=10)"
   ]
  },
  {
   "cell_type": "markdown",
   "id": "5935235c",
   "metadata": {},
   "source": [
    "### Evaluate the model on the test set; print the accuracy and confusion matrix"
   ]
  },
  {
   "cell_type": "code",
   "execution_count": 14,
   "id": "d535b755",
   "metadata": {},
   "outputs": [
    {
     "name": "stdout",
     "output_type": "stream",
     "text": [
      "\u001b[1m63/63\u001b[0m \u001b[32m━━━━━━━━━━━━━━━━━━━━\u001b[0m\u001b[37m\u001b[0m \u001b[1m0s\u001b[0m 627us/step\n"
     ]
    }
   ],
   "source": [
    "y_predict = ANN_model.predict(X_test_scaled)"
   ]
  },
  {
   "cell_type": "markdown",
   "id": "35829cb2",
   "metadata": {},
   "source": [
    "For binary classification, left is above 50% probability"
   ]
  },
  {
   "cell_type": "code",
   "execution_count": 15,
   "id": "5ee12aca",
   "metadata": {},
   "outputs": [],
   "source": [
    "y_predict = (y_predict > 0.5).astype(int)"
   ]
  },
  {
   "cell_type": "code",
   "execution_count": 16,
   "id": "899a9042",
   "metadata": {},
   "outputs": [
    {
     "name": "stdout",
     "output_type": "stream",
     "text": [
      "Accuracy of model: 85.55%\n"
     ]
    }
   ],
   "source": [
    "accuracy = accuracy_score(y_pred=y_predict, y_true= y_test)\n",
    "print(f\"Accuracy of model: {accuracy*100:.2f}%\")"
   ]
  },
  {
   "cell_type": "code",
   "execution_count": 17,
   "id": "4fd742b4",
   "metadata": {},
   "outputs": [
    {
     "data": {
      "image/png": "[encoded data removed]",
      "text/plain": [
       "<Figure size 640x480 with 2 Axes>"
      ]
     },
     "metadata": {},
     "output_type": "display_data"
    }
   ],
   "source": [
    "confu_matrix = confusion_matrix(y_true=y_test, y_pred=y_predict)\n",
    "display = ConfusionMatrixDisplay(confusion_matrix=confu_matrix, display_labels=['Not Churned (0)', 'Churned (1)'])\n",
    "display.plot()\n",
    "plt.title('Confusion matrix of Bank Churn')\n",
    "plt.show()"
   ]
  },
  {
   "cell_type": "code",
   "execution_count": 18,
   "id": "f9815212",
   "metadata": {},
   "outputs": [
    {
     "name": "stdout",
     "output_type": "stream",
     "text": [
      "              precision    recall  f1-score   support\n",
      "\n",
      "           0       0.88      0.94      0.91      1595\n",
      "           1       0.70      0.51      0.59       405\n",
      "\n",
      "    accuracy                           0.86      2000\n",
      "   macro avg       0.79      0.73      0.75      2000\n",
      "weighted avg       0.85      0.86      0.85      2000\n",
      "\n"
     ]
    }
   ],
   "source": [
    "c_report = classification_report(y_true=y_test, y_pred=y_predict)\n",
    "print(c_report)"
   ]
  },
  {
   "cell_type": "code",
   "execution_count": 19,
   "id": "ea426dbb",
   "metadata": {},
   "outputs": [
    {
     "name": "stdout",
     "output_type": "stream",
     "text": [
      "Max. Training Accuracy 0.851111114025116\n",
      "Max. Validation Accuracy 0.8612499833106995\n"
     ]
    },
    {
     "data": {
      "image/png": "[encoded data removed]",
      "text/plain": [
       "<Figure size 1500x400 with 2 Axes>"
      ]
     },
     "metadata": {},
     "output_type": "display_data"
    }
   ],
   "source": [
    "fig, ax = plt.subplots(1, 2, figsize=(15, 4))\n",
    "ax[0].plot(history.history['loss'])\n",
    "ax[0].plot(history.history['val_loss'])\n",
    "ax[0].legend(['loss', 'val_loss'])\n",
    "ax[0].title.set_text('Train loss vs Validation loss')\n",
    "\n",
    "ax[1].plot(history.history['accuracy'])\n",
    "ax[1].plot(history.history['val_accuracy'])\n",
    "ax[1].legend(['accuracy', 'val_accuracy'])\n",
    "ax[1].title.set_text('Train accuracy vs Validation accuracy')\n",
    "\n",
    "print('Max. Training Accuracy', max(history.history['accuracy']))\n",
    "print('Max. Validation Accuracy', max(history.history['val_accuracy']))\n",
    "plt.show()"
   ]
  },
  {
   "cell_type": "markdown",
   "id": "de93568b",
   "metadata": {},
   "source": [
    "#### Observations\n",
    "- Training loss and validation loss decrease steadily and may seemingly level off beyond the 10 epochs\n",
    "\n",
    "- Training accuracy and validation accuracy exhibit steady improvement as well\n",
    "\n",
    "- Classification report shows a 85% overall accuracy on testing set\n",
    "\n",
    "- Classification report also shows that the model struggled with it's sensitivity in identifying customers who would churn at 51%\n",
    "\n",
    "- Training the model with more epochs and other hyperparameter tuning might improve sensitivity"
   ]
  },
  {
   "cell_type": "markdown",
   "id": "ffdb9107",
   "metadata": {},
   "source": [
    "## Task B:\n",
    "\n",
    "### Use the built ANN model to predict if the customer with the following information will leave the bank:\n",
    "\n",
    "• Geography: France\n",
    "\n",
    "• Credit Score: 600\n",
    "\n",
    "• Gender: Male\n",
    "\n",
    "• Age: 40 years\n",
    "\n",
    "• Tenure: 3 years\n",
    "\n",
    "• Balance: $60000\n",
    "\n",
    "• Number of Products: 2\n",
    "\n",
    "• Does this customer have a credit card? Yes\n",
    "\n",
    "• Is this customer an Active Member: Yes\n",
    "\n",
    "• Estimated Salary: $50000\n",
    "\n",
    "So, should we let the customer go?"
   ]
  },
  {
   "cell_type": "code",
   "execution_count": 20,
   "id": "46fe289f",
   "metadata": {},
   "outputs": [
    {
     "data": {
      "text/plain": [
       "Index(['encoded_Germany', 'encoded_Spain', 'CreditScore', 'Gender', 'Age',\n",
       "       'Tenure', 'Balance', 'NumOfProducts', 'HasCrCard', 'IsActiveMember',\n",
       "       'EstimatedSalary'],\n",
       "      dtype='object')"
      ]
     },
     "execution_count": 20,
     "metadata": {},
     "output_type": "execute_result"
    }
   ],
   "source": [
    "X_test.columns # for order of data input"
   ]
  },
  {
   "cell_type": "code",
   "execution_count": 21,
   "id": "52ba9719",
   "metadata": {},
   "outputs": [],
   "source": [
    "customer = {\n",
    "    'encoded_Germany': 0,\n",
    "      'encoded_Spain': 0, \n",
    "      'CreditScore': 600, \n",
    "      'Gender': 40, \n",
    "      'Age': 40,\n",
    "      'Tenure': 3, \n",
    "      'Balance': 60000, \n",
    "      'NumOfProducts': 2, \n",
    "      'HasCrCard': 1, \n",
    "      'IsActiveMember': 1,\n",
    "      'EstimatedSalary': 50000\n",
    "}"
   ]
  },
  {
   "cell_type": "code",
   "execution_count": 22,
   "id": "6965bbd8",
   "metadata": {},
   "outputs": [],
   "source": [
    "customer = pd.DataFrame([customer])\n",
    "customer_scaled = scaler.transform(customer)"
   ]
  },
  {
   "cell_type": "code",
   "execution_count": 23,
   "id": "61d6bf94",
   "metadata": {},
   "outputs": [
    {
     "name": "stdout",
     "output_type": "stream",
     "text": [
      "\u001b[1m1/1\u001b[0m \u001b[32m━━━━━━━━━━━━━━━━━━━━\u001b[0m\u001b[37m\u001b[0m \u001b[1m0s\u001b[0m 17ms/step\n"
     ]
    }
   ],
   "source": [
    "customer_predict = ANN_model.predict(customer_scaled)"
   ]
  },
  {
   "cell_type": "code",
   "execution_count": 24,
   "id": "e79413f0",
   "metadata": {},
   "outputs": [
    {
     "name": "stdout",
     "output_type": "stream",
     "text": [
      "Probability result: [[7.514296e-08]]\n",
      "Customer will likely NOT Churn\n"
     ]
    }
   ],
   "source": [
    "print(f'Probability result: {customer_predict}')\n",
    "if customer_predict > 0.5:\n",
    "    print('Customer will likely churn')\n",
    "else: \n",
    "    print('Customer will likely NOT Churn')"
   ]
  }
 ],
 "metadata": {
  "kernelspec": {
   "display_name": ".venv",
   "language": "python",
   "name": "python3"
  },
  "language_info": {
   "codemirror_mode": {
    "name": "ipython",
    "version": 3
   },
   "file_extension": ".py",
   "mimetype": "text/x-python",
   "name": "python",
   "nbconvert_exporter": "python",
   "pygments_lexer": "ipython3",
   "version": "3.12.10"
  }
 },
 "nbformat": 4,
 "nbformat_minor": 5
}
