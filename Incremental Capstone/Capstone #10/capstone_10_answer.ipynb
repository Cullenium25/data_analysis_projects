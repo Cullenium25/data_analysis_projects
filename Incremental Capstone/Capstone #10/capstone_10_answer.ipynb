{
 "cells": [
  {
   "cell_type": "markdown",
   "id": "5100c5c1",
   "metadata": {},
   "source": [
    "# Problem Description\n",
    "\n",
    "In the post-pandemic scenario, as cinemas across the US open again, a large cinema property owner MMC Seracado wants to detect human who are wearing face masks correctly, incorrectly, and not wearing at all.\n",
    "\n",
    "Build a Transfer learning model to detect face masks on humans."
   ]
  },
  {
   "cell_type": "markdown",
   "id": "6ce2a3c3",
   "metadata": {},
   "source": [
    "# Dataset Description\n",
    "\n",
    "The zip folder contains 2 folders train and test each folder with 3 subfolders labelled as to which class they belong to. \n",
    "\n",
    "The 2 classes are \n",
    "\n",
    "- \"with_mask\"\n",
    "- \"without_mask\"\n",
    "\n",
    "Each image is of shape 128, 128, 3."
   ]
  },
  {
   "cell_type": "code",
   "execution_count": 1,
   "id": "901c6382",
   "metadata": {},
   "outputs": [
    {
     "name": "stderr",
     "output_type": "stream",
     "text": [
      "2025-04-26 18:54:26.543533: I tensorflow/core/util/port.cc:153] oneDNN custom operations are on. You may see slightly different numerical results due to floating-point round-off errors from different computation orders. To turn them off, set the environment variable `TF_ENABLE_ONEDNN_OPTS=0`.\n",
      "2025-04-26 18:54:26.543899: I external/local_xla/xla/tsl/cuda/cudart_stub.cc:32] Could not find cuda drivers on your machine, GPU will not be used.\n",
      "2025-04-26 18:54:26.546279: I external/local_xla/xla/tsl/cuda/cudart_stub.cc:32] Could not find cuda drivers on your machine, GPU will not be used.\n",
      "2025-04-26 18:54:26.552130: E external/local_xla/xla/stream_executor/cuda/cuda_fft.cc:467] Unable to register cuFFT factory: Attempting to register factory for plugin cuFFT when one has already been registered\n",
      "WARNING: All log messages before absl::InitializeLog() is called are written to STDERR\n",
      "E0000 00:00:1745711666.562154     412 cuda_dnn.cc:8579] Unable to register cuDNN factory: Attempting to register factory for plugin cuDNN when one has already been registered\n",
      "E0000 00:00:1745711666.564728     412 cuda_blas.cc:1407] Unable to register cuBLAS factory: Attempting to register factory for plugin cuBLAS when one has already been registered\n",
      "W0000 00:00:1745711666.572433     412 computation_placer.cc:177] computation placer already registered. Please check linkage and avoid linking the same target more than once.\n",
      "W0000 00:00:1745711666.572450     412 computation_placer.cc:177] computation placer already registered. Please check linkage and avoid linking the same target more than once.\n",
      "W0000 00:00:1745711666.572452     412 computation_placer.cc:177] computation placer already registered. Please check linkage and avoid linking the same target more than once.\n",
      "W0000 00:00:1745711666.572453     412 computation_placer.cc:177] computation placer already registered. Please check linkage and avoid linking the same target more than once.\n",
      "2025-04-26 18:54:26.575602: I tensorflow/core/platform/cpu_feature_guard.cc:210] This TensorFlow binary is optimized to use available CPU instructions in performance-critical operations.\n",
      "To enable the following instructions: AVX2 AVX512F AVX512_VNNI AVX512_BF16 FMA, in other operations, rebuild TensorFlow with the appropriate compiler flags.\n"
     ]
    }
   ],
   "source": [
    "import numpy as np\n",
    "import tensorflow as tf\n",
    "from tensorflow import keras\n",
    "import gc\n",
    "from keras import Sequential \n",
    "from keras.layers import Conv2D, MaxPooling2D, Flatten, Dense, BatchNormalization, Dropout\n",
    "from tensorflow.keras.optimizers import Adam"
   ]
  },
  {
   "cell_type": "code",
   "execution_count": 2,
   "id": "2bc24952",
   "metadata": {},
   "outputs": [],
   "source": [
    "import os\n",
    "import shutil\n",
    "import random\n",
    "\n",
    "def organize_images(folder_groups, output_dir='processed_data', split_ratio=0.8):\n",
    "    \"\"\"\n",
    "    folder_groups: list of tuples, each like (class_name, [folder1, folder2, ...])\n",
    "    output_dir: base output directory\n",
    "    split_ratio: proportion of data to be used for training\n",
    "    \"\"\"\n",
    "    train_dir = os.path.join(output_dir, 'train')\n",
    "    test_dir = os.path.join(output_dir, 'test')\n",
    "\n",
    "    # Create destination folders\n",
    "    for class_name, _ in folder_groups:\n",
    "        os.makedirs(os.path.join(train_dir, class_name), exist_ok=True)\n",
    "        os.makedirs(os.path.join(test_dir, class_name), exist_ok=True)\n",
    "\n",
    "    # Go through each class group\n",
    "    for class_name, source_folders in folder_groups:\n",
    "        all_files = []\n",
    "        for folder in source_folders:\n",
    "            files = [os.path.join(folder, f) for f in os.listdir(folder)\n",
    "                     if os.path.isfile(os.path.join(folder, f))]\n",
    "            all_files.extend(files)\n",
    "\n",
    "        random.shuffle(all_files)\n",
    "        split_idx = int(split_ratio * len(all_files))\n",
    "        train_files = all_files[:split_idx]\n",
    "        test_files = all_files[split_idx:]\n",
    "\n",
    "        for f in train_files:\n",
    "            shutil.copy(f, os.path.join(train_dir, class_name))\n",
    "        for f in test_files:\n",
    "            shutil.copy(f, os.path.join(test_dir, class_name))\n",
    "\n",
    "folder1 = '/home/cullen-fedora/Documents/Mask Dataset/with_mask pt1/with_mask pt1'\n",
    "folder2 = '/home/cullen-fedora/Documents/Mask Dataset/with_mask pt2/with_mask pt2'\n",
    "folder3 = '/home/cullen-fedora/Documents/Mask Dataset/without_mask/without_mask'\n",
    "\n",
    "folder_groups = [\n",
    "    ('with', [folder1, folder2]),\n",
    "    ('without', [folder3])\n",
    "]\n",
    "\n",
    "organize_images(folder_groups)"
   ]
  },
  {
   "cell_type": "markdown",
   "id": "f497684b",
   "metadata": {},
   "source": [
    "## Task A\n",
    "\n",
    "### 1. Load the Image Training and Test Datasets from the train and test folder respectively. Each image is of shape 128x128x3"
   ]
  },
  {
   "cell_type": "code",
   "execution_count": 3,
   "id": "6caa70c9",
   "metadata": {},
   "outputs": [],
   "source": [
    "train_data_generator = keras.preprocessing.image.ImageDataGenerator(\n",
    "    horizontal_flip = True, vertical_flip = True, zoom_range = 0.1,\n",
    "    shear_range = 0.1, width_shift_range = 0.2, height_shift_range = 0.2, rotation_range = 90,\n",
    ")\n",
    "test_data_generator = keras.preprocessing.image.ImageDataGenerator()"
   ]
  },
  {
   "cell_type": "markdown",
   "id": "d22e9b7e",
   "metadata": {},
   "source": [
    "### 2. Load training dataset using Keras ImageDataGenerator"
   ]
  },
  {
   "cell_type": "code",
   "execution_count": 4,
   "id": "628cf405",
   "metadata": {},
   "outputs": [
    {
     "name": "stdout",
     "output_type": "stream",
     "text": [
      "Found 6041 images belonging to 2 classes.\n"
     ]
    }
   ],
   "source": [
    "train_data = train_data_generator.flow_from_directory(\"./processed_data/train\", target_size = (128, 128), batch_size = 1, shuffle= True)"
   ]
  },
  {
   "cell_type": "markdown",
   "id": "7e8c5873",
   "metadata": {},
   "source": [
    "### 3. Load test dataset using Keras ImageDataGenerator"
   ]
  },
  {
   "cell_type": "code",
   "execution_count": 5,
   "id": "32d1d6b7",
   "metadata": {},
   "outputs": [
    {
     "name": "stdout",
     "output_type": "stream",
     "text": [
      "Found 1512 images belonging to 2 classes.\n"
     ]
    }
   ],
   "source": [
    "test_data = test_data_generator.flow_from_directory(\"./processed_data/test\", target_size = (128, 128), batch_size = 1, shuffle= True)"
   ]
  },
  {
   "cell_type": "code",
   "execution_count": 6,
   "id": "19be2987",
   "metadata": {},
   "outputs": [
    {
     "data": {
      "text/plain": [
       "{'with': 0, 'without': 1}"
      ]
     },
     "execution_count": 6,
     "metadata": {},
     "output_type": "execute_result"
    }
   ],
   "source": [
    "labels = train_data.class_indices\n",
    "labels"
   ]
  },
  {
   "cell_type": "markdown",
   "id": "515db11e",
   "metadata": {},
   "source": [
    "There are 2 labels found \"with_mask\" and \"without_mask\"\n",
    "\n",
    "ImageDataGenerator does not really assign values to an array, it just holds pointers. Because of that every learning step CPU perform reading opertions. This is very slows learning speed. We will store data in numpy array type. "
   ]
  },
  {
   "cell_type": "code",
   "execution_count": 7,
   "id": "95efd53c",
   "metadata": {},
   "outputs": [
    {
     "name": "stderr",
     "output_type": "stream",
     "text": [
      "/home/cullen-fedora/Documents/Python-Projects/.venv/lib/python3.12/site-packages/PIL/Image.py:1043: UserWarning: Palette images with Transparency expressed in bytes should be converted to RGBA images\n",
      "  warnings.warn(\n"
     ]
    },
    {
     "name": "stdout",
     "output_type": "stream",
     "text": [
      "(6041, 1, 128, 128, 3)\n",
      "(6041, 1, 2)\n",
      "(1512, 1, 128, 128, 3)\n",
      "(1512, 1, 2)\n"
     ]
    }
   ],
   "source": [
    "def get_array_from_datagen(train_data_generator):\n",
    "    x = []\n",
    "    y = []\n",
    "    train_data_generator.reset()\n",
    "    for i in range(train_data_generator.__len__()):\n",
    "        a,b=next(train_data_generator)\n",
    "        x.append(a)\n",
    "        y.append(b)\n",
    "    x = np.array(x, dtype= np.float32)\n",
    "    y = np.array(y, dtype= np.float32)\n",
    "    print(x.shape)\n",
    "    print(y.shape)\n",
    "    return x, y\n",
    "X_train, y_train = get_array_from_datagen(train_data)\n",
    "X_test, y_test = get_array_from_datagen(test_data)\n",
    "\n",
    "\n",
    "# x.shape (num_samples, height, width, channels)\n",
    "# y.shape (num_samples, num_classes)\n",
    "# 1 in second column represents the batch size (need to reshape)"
   ]
  },
  {
   "cell_type": "code",
   "execution_count": 8,
   "id": "51ec2988",
   "metadata": {},
   "outputs": [],
   "source": [
    "# Reshape the data to match the input shape of the model\n",
    "X_train = X_train.reshape(-1, 128, 128, 3) \n",
    "X_test = X_test.reshape(-1, 128, 128, 3)\n",
    "\n",
    "y_train = y_train.reshape(-1, 2)\n",
    "y_test = y_test.reshape(-1, 2)"
   ]
  },
  {
   "cell_type": "code",
   "execution_count": 9,
   "id": "291a0a23",
   "metadata": {},
   "outputs": [],
   "source": [
    "input_shape = (128, 128, 3)\n",
    "class_num = len(labels)"
   ]
  },
  {
   "cell_type": "code",
   "execution_count": 10,
   "id": "7b97635a",
   "metadata": {},
   "outputs": [],
   "source": [
    "import matplotlib.pyplot as plt\n",
    "def plot_history(history):\n",
    "    plt.plot(history.history['accuracy'])\n",
    "    plt.plot(history.history['val_accuracy'])\n",
    "    plt.title('model accuracy')\n",
    "    plt.ylabel('accuracy')\n",
    "    plt.xlabel('epoch')\n",
    "    plt.legend(['train', 'test'], loc='upper left')\n",
    "    plt.show()\n",
    "    # summarize history for loss\n",
    "    plt.plot(history.history['loss'])\n",
    "    plt.plot(history.history['val_loss'])\n",
    "    plt.title('model loss')\n",
    "    plt.ylabel('loss')\n",
    "    plt.xlabel('epoch')\n",
    "    plt.legend(['train', 'test'], loc='upper left')\n",
    "    plt.show()\n"
   ]
  },
  {
   "cell_type": "markdown",
   "id": "ead8562e",
   "metadata": {},
   "source": [
    "### 4. Build a Transfer Learning network using Keras with the following layers\n",
    "- Load EfficientNetB0 as first layers using Keras API.\n",
    "- GLobalAveragePooling2D layer\n",
    "- Dropout(0.2)\n",
    "- Dense layer with 2 neurons and activation softmax"
   ]
  },
  {
   "cell_type": "code",
   "execution_count": 11,
   "id": "6c0b104f",
   "metadata": {},
   "outputs": [
    {
     "name": "stderr",
     "output_type": "stream",
     "text": [
      "2025-04-26 18:54:41.929152: E external/local_xla/xla/stream_executor/cuda/cuda_platform.cc:51] failed call to cuInit: INTERNAL: CUDA error: Failed call to cuInit: UNKNOWN ERROR (303)\n"
     ]
    }
   ],
   "source": [
    "base_model = tf.keras.applications.EfficientNetB0(include_top=False)"
   ]
  },
  {
   "cell_type": "code",
   "execution_count": 12,
   "id": "1ff51f98",
   "metadata": {},
   "outputs": [],
   "source": [
    "efficient_model = keras.Sequential([\n",
    "    base_model,\n",
    "    keras.layers.GlobalAveragePooling2D(),\n",
    "    keras.layers.Dropout(0.5),\n",
    "    keras.layers.Dense(2, activation='softmax') # since we have 2 classes\n",
    "])\n",
    "# if you want to use 1 neuron output dense layer, use sigmoid activation with binary_crossentropy loss instead of categorical_crossentropy"
   ]
  },
  {
   "cell_type": "markdown",
   "id": "d77391e7",
   "metadata": {},
   "source": [
    "### 5. Compile the model with adam optimizer, categorical_crossentropy loss and with metrics accuracy"
   ]
  },
  {
   "cell_type": "code",
   "execution_count": 13,
   "id": "c3521e23",
   "metadata": {},
   "outputs": [],
   "source": [
    "efficient_model.compile(\n",
    "    optimizer=Adam(),\n",
    "    loss='categorical_crossentropy',\n",
    "    metrics=['accuracy']\n",
    "    )"
   ]
  },
  {
   "cell_type": "markdown",
   "id": "83e59d21",
   "metadata": {},
   "source": [
    "### 6. Train the model for 6 epochs with callbacks Reduce Learning Rate on Plateau and early stopping while monitoring validation loss"
   ]
  },
  {
   "cell_type": "code",
   "execution_count": 14,
   "id": "0417ba4f",
   "metadata": {},
   "outputs": [],
   "source": [
    "learning_rate_reduction = keras.callbacks.ReduceLROnPlateau(\n",
    "    monitor='val_accuracy',\n",
    "    patience=3,\n",
    "    verbose=0,\n",
    "    factor=0.5,\n",
    "    min_lr=0.00001\n",
    ")\n",
    "early_stopping = keras.callbacks.EarlyStopping(patience=5, verbose=1)"
   ]
  },
  {
   "cell_type": "code",
   "execution_count": 15,
   "id": "09b62ccc",
   "metadata": {},
   "outputs": [
    {
     "name": "stdout",
     "output_type": "stream",
     "text": [
      "Epoch 1/6\n",
      "\u001b[1m189/189\u001b[0m \u001b[32m━━━━━━━━━━━━━━━━━━━━\u001b[0m\u001b[37m\u001b[0m \u001b[1m98s\u001b[0m 419ms/step - accuracy: 0.8954 - loss: 0.2414 - val_accuracy: 0.9874 - val_loss: 0.0425 - learning_rate: 0.0010\n",
      "Epoch 2/6\n",
      "\u001b[1m189/189\u001b[0m \u001b[32m━━━━━━━━━━━━━━━━━━━━\u001b[0m\u001b[37m\u001b[0m \u001b[1m80s\u001b[0m 422ms/step - accuracy: 0.9791 - loss: 0.0642 - val_accuracy: 0.9914 - val_loss: 0.0248 - learning_rate: 0.0010\n",
      "Epoch 3/6\n",
      "\u001b[1m189/189\u001b[0m \u001b[32m━━━━━━━━━━━━━━━━━━━━\u001b[0m\u001b[37m\u001b[0m \u001b[1m75s\u001b[0m 397ms/step - accuracy: 0.9892 - loss: 0.0375 - val_accuracy: 0.9947 - val_loss: 0.0211 - learning_rate: 0.0010\n",
      "Epoch 4/6\n",
      "\u001b[1m189/189\u001b[0m \u001b[32m━━━━━━━━━━━━━━━━━━━━\u001b[0m\u001b[37m\u001b[0m \u001b[1m81s\u001b[0m 429ms/step - accuracy: 0.9851 - loss: 0.0401 - val_accuracy: 0.9848 - val_loss: 0.0737 - learning_rate: 0.0010\n",
      "Epoch 5/6\n",
      "\u001b[1m189/189\u001b[0m \u001b[32m━━━━━━━━━━━━━━━━━━━━\u001b[0m\u001b[37m\u001b[0m \u001b[1m72s\u001b[0m 383ms/step - accuracy: 0.9910 - loss: 0.0247 - val_accuracy: 0.9788 - val_loss: 0.0772 - learning_rate: 0.0010\n",
      "Epoch 6/6\n",
      "\u001b[1m189/189\u001b[0m \u001b[32m━━━━━━━━━━━━━━━━━━━━\u001b[0m\u001b[37m\u001b[0m \u001b[1m80s\u001b[0m 423ms/step - accuracy: 0.9941 - loss: 0.0180 - val_accuracy: 0.9927 - val_loss: 0.0226 - learning_rate: 0.0010\n"
     ]
    }
   ],
   "source": [
    "history = efficient_model.fit(\n",
    "    X_train,\n",
    "    y_train,\n",
    "    validation_data=(X_test, y_test),\n",
    "    epochs=6,\n",
    "    callbacks=[learning_rate_reduction, early_stopping]\n",
    ")"
   ]
  },
  {
   "cell_type": "markdown",
   "id": "97debcdb",
   "metadata": {},
   "source": [
    "### 7. Plot training and validation accuracy and loss against epochs"
   ]
  },
  {
   "cell_type": "code",
   "execution_count": 16,
   "id": "64c7582f",
   "metadata": {},
   "outputs": [
    {
     "data": {
      "image/png": "[encoded data removed]",
      "text/plain": [
       "<Figure size 640x480 with 1 Axes>"
      ]
     },
     "metadata": {},
     "output_type": "display_data"
    },
    {
     "data": {
      "image/png": "[encoded data removed]",
      "text/plain": [
       "<Figure size 640x480 with 1 Axes>"
      ]
     },
     "metadata": {},
     "output_type": "display_data"
    }
   ],
   "source": [
    "plot_history(history)"
   ]
  },
  {
   "cell_type": "markdown",
   "id": "df57fc3d",
   "metadata": {},
   "source": [
    "#### Observations:\n",
    "- with this less number of epochs,\n",
    "    - Train loss decreases continuously\n",
    "    - Training accuracy increases smoothly\n",
    "    - Validation loss also decreases continuously \n",
    "    - Validation accuracy also increases smoothly"
   ]
  },
  {
   "cell_type": "markdown",
   "id": "b2c8e329",
   "metadata": {},
   "source": [
    "## Task B\n",
    "1. Load the Image Training and Test datasets from the train and test folder respectively. Each image is of shape 128 x 128 x3\n",
    "2. Load training dataset using Keras ImageDataGenerator with validation_split=0.2\n",
    "3. Load test dataset using Keras ImageDataGenerator\n",
    "4. Build a Transfer Learning network using Keras with the following layers\n",
    "    - Load ResNet50 as first layers using Keras API.\n",
    "    - GLobalAveragePooling2D layer\n",
    "    - Dropout(0.5)\n",
    "    - Dense layer with 2 neurons and activation softmax"
   ]
  },
  {
   "cell_type": "code",
   "execution_count": 17,
   "id": "af873007",
   "metadata": {},
   "outputs": [],
   "source": [
    "base_model = tf.keras.applications.ResNet50(include_top=False)\n",
    "resnet_model = keras.Sequential([\n",
    "    base_model,\n",
    "    keras.layers.GlobalAveragePooling2D(),\n",
    "    keras.layers.Dropout(0.5),\n",
    "    keras.layers.Dense(2, activation='softmax')\n",
    "])"
   ]
  },
  {
   "cell_type": "markdown",
   "id": "3d39e54d",
   "metadata": {},
   "source": [
    "### 5. Compile the model with adam optimizer, categorical_crossentropy loss and with metrics accuracy."
   ]
  },
  {
   "cell_type": "code",
   "execution_count": 18,
   "id": "e892962c",
   "metadata": {},
   "outputs": [],
   "source": [
    "resnet_model.compile(\n",
    "    optimizer=Adam(),\n",
    "    loss='categorical_crossentropy',\n",
    "    metrics=['accuracy']\n",
    ")"
   ]
  },
  {
   "cell_type": "markdown",
   "id": "75e6fb4d",
   "metadata": {},
   "source": [
    "### 6. Train the model for 6 epochs with callbacks Reduced Learning Rate on Plateau and early stopping while monitoring validation loss"
   ]
  },
  {
   "cell_type": "code",
   "execution_count": 19,
   "id": "404caaf1",
   "metadata": {},
   "outputs": [
    {
     "name": "stdout",
     "output_type": "stream",
     "text": [
      "Epoch 1/6\n",
      "\u001b[1m189/189\u001b[0m \u001b[32m━━━━━━━━━━━━━━━━━━━━\u001b[0m\u001b[37m\u001b[0m \u001b[1m163s\u001b[0m 769ms/step - accuracy: 0.8046 - loss: 0.6239 - val_accuracy: 0.6243 - val_loss: 4.4749 - learning_rate: 0.0010\n",
      "Epoch 2/6\n",
      "\u001b[1m189/189\u001b[0m \u001b[32m━━━━━━━━━━━━━━━━━━━━\u001b[0m\u001b[37m\u001b[0m \u001b[1m145s\u001b[0m 769ms/step - accuracy: 0.8944 - loss: 0.2805 - val_accuracy: 0.9028 - val_loss: 0.2490 - learning_rate: 0.0010\n",
      "Epoch 3/6\n",
      "\u001b[1m189/189\u001b[0m \u001b[32m━━━━━━━━━━━━━━━━━━━━\u001b[0m\u001b[37m\u001b[0m \u001b[1m138s\u001b[0m 729ms/step - accuracy: 0.9492 - loss: 0.1468 - val_accuracy: 0.7976 - val_loss: 0.4707 - learning_rate: 0.0010\n",
      "Epoch 4/6\n",
      "\u001b[1m189/189\u001b[0m \u001b[32m━━━━━━━━━━━━━━━━━━━━\u001b[0m\u001b[37m\u001b[0m \u001b[1m135s\u001b[0m 717ms/step - accuracy: 0.9647 - loss: 0.0964 - val_accuracy: 0.8909 - val_loss: 0.3366 - learning_rate: 0.0010\n",
      "Epoch 5/6\n",
      "\u001b[1m189/189\u001b[0m \u001b[32m━━━━━━━━━━━━━━━━━━━━\u001b[0m\u001b[37m\u001b[0m \u001b[1m136s\u001b[0m 717ms/step - accuracy: 0.9652 - loss: 0.0943 - val_accuracy: 0.9444 - val_loss: 0.1422 - learning_rate: 0.0010\n",
      "Epoch 6/6\n",
      "\u001b[1m189/189\u001b[0m \u001b[32m━━━━━━━━━━━━━━━━━━━━\u001b[0m\u001b[37m\u001b[0m \u001b[1m136s\u001b[0m 718ms/step - accuracy: 0.9520 - loss: 0.1377 - val_accuracy: 0.8902 - val_loss: 0.3422 - learning_rate: 0.0010\n"
     ]
    }
   ],
   "source": [
    "history = resnet_model.fit(\n",
    "    X_train,\n",
    "    y_train,\n",
    "    validation_data=(X_test, y_test),\n",
    "    epochs=6,\n",
    "    callbacks=[learning_rate_reduction, early_stopping]\n",
    ")"
   ]
  },
  {
   "cell_type": "markdown",
   "id": "22f3e660",
   "metadata": {},
   "source": [
    "### 7. Plot training and validation accuracy and loss against epochs"
   ]
  },
  {
   "cell_type": "code",
   "execution_count": 20,
   "id": "225c89c6",
   "metadata": {},
   "outputs": [
    {
     "data": {
      "image/png": "[encoded data removed]",
      "text/plain": [
       "<Figure size 640x480 with 1 Axes>"
      ]
     },
     "metadata": {},
     "output_type": "display_data"
    },
    {
     "data": {
      "image/png": "[encoded data removed]",
      "text/plain": [
       "<Figure size 640x480 with 1 Axes>"
      ]
     },
     "metadata": {},
     "output_type": "display_data"
    }
   ],
   "source": [
    "plot_history(history)"
   ]
  },
  {
   "cell_type": "markdown",
   "id": "d357ab1a",
   "metadata": {},
   "source": [
    "#### Observations\n",
    "    - With this less number of epochs,\n",
    "        - Train loss decreases continuously\n",
    "        - Training accuracy increases smoothly\n",
    "        - Validation loss shows a general trend of decreasing\n",
    "        - Validation accuracy shows a general trend of increasing"
   ]
  },
  {
   "cell_type": "markdown",
   "id": "8a5f2cd2",
   "metadata": {},
   "source": [
    "## Task C\n",
    "1. Compare EfficientNetB0 and ResNetB0 model performance and find the best model"
   ]
  },
  {
   "cell_type": "code",
   "execution_count": 21,
   "id": "353819c9",
   "metadata": {},
   "outputs": [
    {
     "name": "stdout",
     "output_type": "stream",
     "text": [
      "\u001b[1m189/189\u001b[0m \u001b[32m━━━━━━━━━━━━━━━━━━━━\u001b[0m\u001b[37m\u001b[0m \u001b[1m4s\u001b[0m 22ms/step - accuracy: 0.9933 - loss: 0.0174\n",
      "EfficientNetB0 Model Performance\n",
      "Test loss: 0.022642219439148903\n",
      "Test accuracy: 0.9927248954772949\n"
     ]
    }
   ],
   "source": [
    "test_loss, test_accuracy = efficient_model.evaluate(X_test, y_test, batch_size=8)\n",
    "print(f\"EfficientNetB0 Model Performance\")\n",
    "print(f\"Test loss: {test_loss}\")\n",
    "print(f\"Test accuracy: {test_accuracy}\")"
   ]
  },
  {
   "cell_type": "code",
   "execution_count": 22,
   "id": "ea6953c5",
   "metadata": {},
   "outputs": [
    {
     "name": "stdout",
     "output_type": "stream",
     "text": [
      "\u001b[1m189/189\u001b[0m \u001b[32m━━━━━━━━━━━━━━━━━━━━\u001b[0m\u001b[37m\u001b[0m \u001b[1m8s\u001b[0m 44ms/step - accuracy: 0.9000 - loss: 0.2824\n",
      "ResNet50 Model Performance\n",
      "Test loss: 0.3422497510910034\n",
      "Test accuracy: 0.8902116417884827\n"
     ]
    }
   ],
   "source": [
    "test_loss, test_accuracy = resnet_model.evaluate(X_test, y_test, batch_size=8)\n",
    "print(f\"ResNet50 Model Performance\")\n",
    "print(f\"Test loss: {test_loss}\")\n",
    "print(f\"Test accuracy: {test_accuracy}\")"
   ]
  },
  {
   "cell_type": "markdown",
   "id": "4753eb3b",
   "metadata": {},
   "source": [
    "Accuracy:\n",
    "\n",
    "ResNet50 -> 0.8766\n",
    "\n",
    "EfficientNet -> 0.9933\n",
    "\n",
    "    - The accuracy level of EfficientNet is higher than Resnet50\n",
    "    - The training time of EfficientNet is lesser than Resnet50\n",
    "    - This is because the EfficientNet architecture is smaller than ResNet\n",
    "    - the prediction time of EfficientNet is also lesser than Resnet50\n",
    "    - Because of the EfficientNet model's wider layers architecture helped in achieveing this\n",
    "\n",
    "Best Model is EfficientNet, we will check recall, precision, and f1-score values"
   ]
  },
  {
   "cell_type": "code",
   "execution_count": 23,
   "id": "a83fefe3",
   "metadata": {},
   "outputs": [
    {
     "name": "stdout",
     "output_type": "stream",
     "text": [
      "\u001b[1m48/48\u001b[0m \u001b[32m━━━━━━━━━━━━━━━━━━━━\u001b[0m\u001b[37m\u001b[0m \u001b[1m5s\u001b[0m 88ms/step\n",
      "              precision    recall  f1-score   support\n",
      "\n",
      "           0       0.99      1.00      0.99       746\n",
      "           1       1.00      0.99      0.99       766\n",
      "\n",
      "    accuracy                           0.99      1512\n",
      "   macro avg       0.99      0.99      0.99      1512\n",
      "weighted avg       0.99      0.99      0.99      1512\n",
      "\n"
     ]
    }
   ],
   "source": [
    "from sklearn.metrics import classification_report\n",
    "print(classification_report(y_test.argmax(axis=1), efficient_model.predict(X_test).argmax(axis=1)))"
   ]
  },
  {
   "cell_type": "markdown",
   "id": "f09a27a8",
   "metadata": {},
   "source": [
    "#### Observations\n",
    "    - Classification report of EfficientNet says that\n",
    "        - Missclassification is all the classes are very less\n",
    "        - with_mask class has got an F1 score of 0.99\n",
    "        - without_mask class has got an F1 score of 1\n",
    "\n",
    "Let's look at some predictions on validation dataset\n",
    "\n",
    "Create a small validation set of 25 images"
   ]
  },
  {
   "cell_type": "markdown",
   "id": "8c3c7b20",
   "metadata": {},
   "source": [
    "### 2. Using the best model predict on the dataset and plot 25 images from the test set along with it's True Lable and Predicted Label."
   ]
  },
  {
   "cell_type": "code",
   "execution_count": 24,
   "id": "b595ffc8",
   "metadata": {},
   "outputs": [],
   "source": [
    "import numpy as np\n",
    "import os\n",
    "\n",
    "test_images = []\n",
    "test_labels = []\n",
    "paths = []\n",
    "names = []\n",
    "\n",
    "# Reset the generator to ensure it starts from the beginning\n",
    "test_data.reset()\n",
    "\n",
    "# Collect 25 images\n",
    "for _ in range(25):\n",
    "    img_batch, labels = next(test_data) # batch_size=1\n",
    "    test_images.append(img_batch[0]) # Append the first image of the batch\n",
    "    test_labels.append(labels[0])\n",
    "\n",
    "    # Compute the correct index in the filename list\n",
    "    index = test_data.batch_index * test_data.batch_size - 1\n",
    "    if index >= len(test_data.filenames):\n",
    "        index = len(test_data.filenames) - 1 # prevent index at the end\n",
    "\n",
    "    filepath = test_data.filenames[index]\n",
    "    paths.append(filepath)\n",
    "\n",
    "    # Extract just the name (filename without extension)\n",
    "    name = os.path.splitext(os.path.basename(filepath))[0]\n",
    "    names.append(name)\n",
    "\n",
    "# Convert to numpy array: shape (25, height, width, channels)\n",
    "demo_data = np.stack(test_images)"
   ]
  },
  {
   "cell_type": "code",
   "execution_count": 25,
   "id": "cfc9d448",
   "metadata": {},
   "outputs": [
    {
     "name": "stdout",
     "output_type": "stream",
     "text": [
      "\u001b[1m1/1\u001b[0m \u001b[32m━━━━━━━━━━━━━━━━━━━━\u001b[0m\u001b[37m\u001b[0m \u001b[1m0s\u001b[0m 93ms/step\n"
     ]
    },
    {
     "data": {
      "text/plain": [
       "[array([1., 0.], dtype=float32),\n",
       " array([0., 1.], dtype=float32),\n",
       " array([1., 0.], dtype=float32),\n",
       " array([1., 0.], dtype=float32),\n",
       " array([1., 0.], dtype=float32),\n",
       " array([1., 0.], dtype=float32),\n",
       " array([1., 0.], dtype=float32),\n",
       " array([1., 0.], dtype=float32),\n",
       " array([1., 0.], dtype=float32),\n",
       " array([1., 0.], dtype=float32),\n",
       " array([0., 1.], dtype=float32),\n",
       " array([0., 1.], dtype=float32),\n",
       " array([0., 1.], dtype=float32),\n",
       " array([0., 1.], dtype=float32),\n",
       " array([0., 1.], dtype=float32),\n",
       " array([0., 1.], dtype=float32),\n",
       " array([0., 1.], dtype=float32),\n",
       " array([1., 0.], dtype=float32),\n",
       " array([1., 0.], dtype=float32),\n",
       " array([1., 0.], dtype=float32),\n",
       " array([0., 1.], dtype=float32),\n",
       " array([0., 1.], dtype=float32),\n",
       " array([1., 0.], dtype=float32),\n",
       " array([0., 1.], dtype=float32),\n",
       " array([1., 0.], dtype=float32)]"
      ]
     },
     "execution_count": 25,
     "metadata": {},
     "output_type": "execute_result"
    }
   ],
   "source": [
    "predictions = efficient_model.predict(demo_data).argmax(axis=1)\n",
    "pred_label = []\n",
    "for i in predictions:\n",
    "    pred_label.append(test_labels[i])\n",
    "pred_label"
   ]
  },
  {
   "cell_type": "code",
   "execution_count": 26,
   "id": "0df39b0e",
   "metadata": {},
   "outputs": [
    {
     "ename": "FileNotFoundError",
     "evalue": "[Errno 2] No such file or directory: 'with/with_mask_1.jpg'",
     "output_type": "error",
     "traceback": [
      "\u001b[31m---------------------------------------------------------------------------\u001b[39m",
      "\u001b[31mFileNotFoundError\u001b[39m                         Traceback (most recent call last)",
      "\u001b[36mCell\u001b[39m\u001b[36m \u001b[39m\u001b[32mIn[26]\u001b[39m\u001b[32m, line 7\u001b[39m\n\u001b[32m      2\u001b[39m fig, axes = plt.subplots(nrows=\u001b[32m5\u001b[39m,\n\u001b[32m      3\u001b[39m                          ncols=\u001b[32m5\u001b[39m,\n\u001b[32m      4\u001b[39m                          figsize=(\u001b[32m20\u001b[39m, \u001b[32m20\u001b[39m),\n\u001b[32m      5\u001b[39m                          subplot_kw={\u001b[33m'\u001b[39m\u001b[33mxticks\u001b[39m\u001b[33m'\u001b[39m:[], \u001b[33m'\u001b[39m\u001b[33myticks\u001b[39m\u001b[33m'\u001b[39m:[]})\n\u001b[32m      6\u001b[39m \u001b[38;5;28;01mfor\u001b[39;00m i, ax \u001b[38;5;129;01min\u001b[39;00m \u001b[38;5;28menumerate\u001b[39m(axes.flat):\n\u001b[32m----> \u001b[39m\u001b[32m7\u001b[39m     ax.imshow(\u001b[43mplt\u001b[49m\u001b[43m.\u001b[49m\u001b[43mimread\u001b[49m\u001b[43m(\u001b[49m\u001b[43mpaths\u001b[49m\u001b[43m[\u001b[49m\u001b[43mi\u001b[49m\u001b[43m]\u001b[49m\u001b[43m)\u001b[49m)\n\u001b[32m      8\u001b[39m     ax.set_title(\u001b[33mf\u001b[39m\u001b[33m\"\u001b[39m\u001b[33mPREDICTION: \u001b[39m\u001b[38;5;132;01m{\u001b[39;00mpred_label[i]\u001b[38;5;132;01m}\u001b[39;00m\u001b[33m\"\u001b[39m)\n\u001b[32m      9\u001b[39m     ax.set_xlabel(\u001b[33mf\u001b[39m\u001b[33m\"\u001b[39m\u001b[33mDATA: \u001b[39m\u001b[38;5;132;01m{\u001b[39;00mnames[i]\u001b[38;5;132;01m}\u001b[39;00m\u001b[33m\"\u001b[39m)\n",
      "\u001b[36mFile \u001b[39m\u001b[32m~/Documents/Python-Projects/.venv/lib/python3.12/site-packages/matplotlib/pyplot.py:2607\u001b[39m, in \u001b[36mimread\u001b[39m\u001b[34m(fname, format)\u001b[39m\n\u001b[32m   2603\u001b[39m \u001b[38;5;129m@_copy_docstring_and_deprecators\u001b[39m(matplotlib.image.imread)\n\u001b[32m   2604\u001b[39m \u001b[38;5;28;01mdef\u001b[39;00m\u001b[38;5;250m \u001b[39m\u001b[34mimread\u001b[39m(\n\u001b[32m   2605\u001b[39m         fname: \u001b[38;5;28mstr\u001b[39m | pathlib.Path | BinaryIO, \u001b[38;5;28mformat\u001b[39m: \u001b[38;5;28mstr\u001b[39m | \u001b[38;5;28;01mNone\u001b[39;00m = \u001b[38;5;28;01mNone\u001b[39;00m\n\u001b[32m   2606\u001b[39m ) -> np.ndarray:\n\u001b[32m-> \u001b[39m\u001b[32m2607\u001b[39m     \u001b[38;5;28;01mreturn\u001b[39;00m \u001b[43mmatplotlib\u001b[49m\u001b[43m.\u001b[49m\u001b[43mimage\u001b[49m\u001b[43m.\u001b[49m\u001b[43mimread\u001b[49m\u001b[43m(\u001b[49m\u001b[43mfname\u001b[49m\u001b[43m,\u001b[49m\u001b[43m \u001b[49m\u001b[38;5;28;43mformat\u001b[39;49m\u001b[43m)\u001b[49m\n",
      "\u001b[36mFile \u001b[39m\u001b[32m~/Documents/Python-Projects/.venv/lib/python3.12/site-packages/matplotlib/image.py:1512\u001b[39m, in \u001b[36mimread\u001b[39m\u001b[34m(fname, format)\u001b[39m\n\u001b[32m   1505\u001b[39m \u001b[38;5;28;01mif\u001b[39;00m \u001b[38;5;28misinstance\u001b[39m(fname, \u001b[38;5;28mstr\u001b[39m) \u001b[38;5;129;01mand\u001b[39;00m \u001b[38;5;28mlen\u001b[39m(parse.urlparse(fname).scheme) > \u001b[32m1\u001b[39m:\n\u001b[32m   1506\u001b[39m     \u001b[38;5;66;03m# Pillow doesn't handle URLs directly.\u001b[39;00m\n\u001b[32m   1507\u001b[39m     \u001b[38;5;28;01mraise\u001b[39;00m \u001b[38;5;167;01mValueError\u001b[39;00m(\n\u001b[32m   1508\u001b[39m         \u001b[33m\"\u001b[39m\u001b[33mPlease open the URL for reading and pass the \u001b[39m\u001b[33m\"\u001b[39m\n\u001b[32m   1509\u001b[39m         \u001b[33m\"\u001b[39m\u001b[33mresult to Pillow, e.g. with \u001b[39m\u001b[33m\"\u001b[39m\n\u001b[32m   1510\u001b[39m         \u001b[33m\"\u001b[39m\u001b[33m``np.array(PIL.Image.open(urllib.request.urlopen(url)))``.\u001b[39m\u001b[33m\"\u001b[39m\n\u001b[32m   1511\u001b[39m         )\n\u001b[32m-> \u001b[39m\u001b[32m1512\u001b[39m \u001b[38;5;28;01mwith\u001b[39;00m \u001b[43mimg_open\u001b[49m\u001b[43m(\u001b[49m\u001b[43mfname\u001b[49m\u001b[43m)\u001b[49m \u001b[38;5;28;01mas\u001b[39;00m image:\n\u001b[32m   1513\u001b[39m     \u001b[38;5;28;01mreturn\u001b[39;00m (_pil_png_to_float_array(image)\n\u001b[32m   1514\u001b[39m             \u001b[38;5;28;01mif\u001b[39;00m \u001b[38;5;28misinstance\u001b[39m(image, PIL.PngImagePlugin.PngImageFile) \u001b[38;5;28;01melse\u001b[39;00m\n\u001b[32m   1515\u001b[39m             pil_to_array(image))\n",
      "\u001b[36mFile \u001b[39m\u001b[32m~/Documents/Python-Projects/.venv/lib/python3.12/site-packages/PIL/Image.py:3505\u001b[39m, in \u001b[36mopen\u001b[39m\u001b[34m(fp, mode, formats)\u001b[39m\n\u001b[32m   3502\u001b[39m     filename = os.fspath(fp)\n\u001b[32m   3504\u001b[39m \u001b[38;5;28;01mif\u001b[39;00m filename:\n\u001b[32m-> \u001b[39m\u001b[32m3505\u001b[39m     fp = \u001b[43mbuiltins\u001b[49m\u001b[43m.\u001b[49m\u001b[43mopen\u001b[49m\u001b[43m(\u001b[49m\u001b[43mfilename\u001b[49m\u001b[43m,\u001b[49m\u001b[43m \u001b[49m\u001b[33;43m\"\u001b[39;49m\u001b[33;43mrb\u001b[39;49m\u001b[33;43m\"\u001b[39;49m\u001b[43m)\u001b[49m\n\u001b[32m   3506\u001b[39m     exclusive_fp = \u001b[38;5;28;01mTrue\u001b[39;00m\n\u001b[32m   3507\u001b[39m \u001b[38;5;28;01melse\u001b[39;00m:\n",
      "\u001b[31mFileNotFoundError\u001b[39m: [Errno 2] No such file or directory: 'with/with_mask_1.jpg'"
     ]
    },
    {
     "data": {
      "image/png": "[encoded data removed]",
      "text/plain": [
       "<Figure size 2000x2000 with 25 Axes>"
      ]
     },
     "metadata": {},
     "output_type": "display_data"
    }
   ],
   "source": [
    "import os\n",
    "fig, axes = plt.subplots(nrows=5,\n",
    "                         ncols=5,\n",
    "                         figsize=(20, 20),\n",
    "                         subplot_kw={'xticks':[], 'yticks':[]})\n",
    "for i, ax in enumerate(axes.flat):\n",
    "    ax.imshow(plt.imread(paths[i]))\n",
    "    ax.set_title(f\"PREDICTION: {pred_label[i]}\")\n",
    "    ax.set_xlabel(f\"DATA: {names[i]}\")\n",
    "#plt.tight_layout()\n",
    "plt.show()\n"
   ]
  },
  {
   "cell_type": "markdown",
   "id": "08190941",
   "metadata": {},
   "source": [
    "#### Observations\n",
    "- The plot shows that EfficientNet is able to correctly identify people with mask and without mask."
   ]
  },
  {
   "cell_type": "markdown",
   "id": "d35feb47",
   "metadata": {},
   "source": [
    "## Conclusion\n",
    "\n",
    "- EfficientNet outperformed Resnt Model in classifying people wearing mask or not\n",
    "- EfficientNet gave an accuracy of 99%\n",
    "- Though model is trained with less epochs, this experiement proves the power of Transfer Learning\n",
    "- Because these models already know the features of a person, they are able to do the job for this use case too\n",
    "- Any image classification task, Transfer learning could be a good starting point\n",
    "- EfficientNet, a lightweight convolutional neural network architecture achieving the state-of-the-art accuracy with an order of magnitude fewer parameters, on both ImageNet and five other commonly used transfer learning datasets.\n",
    "- ResNet-50 Model is a convolutional neural network (CNN) that is 50 layers deep. A Residual Neural Network (ResNet) stacks residual blocks on top of each other to form a network.\n",
    "- EfficientNet is the latest architecture than ResNet "
   ]
  }
 ],
 "metadata": {
  "kernelspec": {
   "display_name": ".venv",
   "language": "python",
   "name": "python3"
  },
  "language_info": {
   "codemirror_mode": {
    "name": "ipython",
    "version": 3
   },
   "file_extension": ".py",
   "mimetype": "text/x-python",
   "name": "python",
   "nbconvert_exporter": "python",
   "pygments_lexer": "ipython3",
   "version": "3.12.10"
  }
 },
 "nbformat": 4,
 "nbformat_minor": 5
}
